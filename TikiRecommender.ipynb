{
 "cells": [
  {
   "cell_type": "markdown",
   "metadata": {
    "id": "rKEdw1SH8NQE"
   },
   "source": [
    "# Description Based Recommender"
   ]
  },
  {
   "cell_type": "code",
   "execution_count": 4,
   "metadata": {
    "colab": {
     "base_uri": "https://localhost:8080/",
     "height": 204
    },
    "executionInfo": {
     "elapsed": 57626,
     "status": "ok",
     "timestamp": 1610555287166,
     "user": {
      "displayName": "K.T.G. Hiếu",
      "photoUrl": "https://lh3.googleusercontent.com/a-/AOh14GgS8y4OlJuJEmuIVXBNLZtqhvE-46zhMEPfvgVIkQ=s64",
      "userId": "17949550505612572826"
     },
     "user_tz": -420
    },
    "id": "LFYIwEJj8NQG",
    "outputId": "c225f4dc-efb4-448b-f790-4b41fce129c0"
   },
   "outputs": [
    {
     "data": {
      "text/html": [
       "<div>\n",
       "<style scoped>\n",
       "    .dataframe tbody tr th:only-of-type {\n",
       "        vertical-align: middle;\n",
       "    }\n",
       "\n",
       "    .dataframe tbody tr th {\n",
       "        vertical-align: top;\n",
       "    }\n",
       "\n",
       "    .dataframe thead th {\n",
       "        text-align: right;\n",
       "    }\n",
       "</style>\n",
       "<table border=\"1\" class=\"dataframe\">\n",
       "  <thead>\n",
       "    <tr style=\"text-align: right;\">\n",
       "      <th></th>\n",
       "      <th>id</th>\n",
       "      <th>name</th>\n",
       "      <th>review_count</th>\n",
       "      <th>rating_average</th>\n",
       "      <th>price</th>\n",
       "      <th>description</th>\n",
       "      <th>category</th>\n",
       "      <th>category_name</th>\n",
       "    </tr>\n",
       "  </thead>\n",
       "  <tbody>\n",
       "    <tr>\n",
       "      <th>0</th>\n",
       "      <td>21299202</td>\n",
       "      <td>Cáp sạc và truyền dữ liệu tốc độ cao Baseus Ho...</td>\n",
       "      <td>216</td>\n",
       "      <td>4.5</td>\n",
       "      <td>67000</td>\n",
       "      <td>Hỗ trợ dòng lên đến 2.4 A , cho tốc độ sạc nha...</td>\n",
       "      <td>1815</td>\n",
       "      <td>Thiết Bị Số - Phụ Kiện Số/Phụ Kiện Điện Thoại ...</td>\n",
       "    </tr>\n",
       "    <tr>\n",
       "      <th>1</th>\n",
       "      <td>44105732</td>\n",
       "      <td>Dép sục unisex duet độn đế, chống trượt Litic ...</td>\n",
       "      <td>27</td>\n",
       "      <td>3.5</td>\n",
       "      <td>148500</td>\n",
       "      <td>Tiện lợi, bền đẹp, siêu nhẹ Độn đế tinh tế, kh...</td>\n",
       "      <td>914</td>\n",
       "      <td>Giày - Dép nữ/Giày lười nữ/Giày lười hở gót</td>\n",
       "    </tr>\n",
       "    <tr>\n",
       "      <th>2</th>\n",
       "      <td>54132740</td>\n",
       "      <td>bình thông hơi dành cho xe máy tặng bao tay xe...</td>\n",
       "      <td>4</td>\n",
       "      <td>4.5</td>\n",
       "      <td>199000</td>\n",
       "      <td>bình thông hơi dành cho xe máy tặng bao tay xe...</td>\n",
       "      <td>6061</td>\n",
       "      <td>Ô Tô - Xe Máy - Xe Đạp/Phụ kiện - Chăm sóc xe/...</td>\n",
       "    </tr>\n",
       "    <tr>\n",
       "      <th>3</th>\n",
       "      <td>65011722</td>\n",
       "      <td>Đồng Hồ Nam FNGEEN FE230  mặt đồng hồ tròn, th...</td>\n",
       "      <td>19</td>\n",
       "      <td>4.5</td>\n",
       "      <td>179000</td>\n",
       "      <td>Mặt đồng hồ tròn, thiết kế đẹp mắt, sáng bóng ...</td>\n",
       "      <td>914</td>\n",
       "      <td>Đồng hồ và Trang sức/Đồng hồ nam/Đồng hồ busin...</td>\n",
       "    </tr>\n",
       "    <tr>\n",
       "      <th>4</th>\n",
       "      <td>7995403</td>\n",
       "      <td>Giày Sneaker Unisex Converse Chuck Taylor All ...</td>\n",
       "      <td>19</td>\n",
       "      <td>5.0</td>\n",
       "      <td>1500000</td>\n",
       "      <td>Đường may vô cùng tỉ mỉ, tinh tế Chất vải canv...</td>\n",
       "      <td>49620</td>\n",
       "      <td>Giày - Dép nam/Giày thể thao nam/Giày thể thao...</td>\n",
       "    </tr>\n",
       "  </tbody>\n",
       "</table>\n",
       "</div>"
      ],
      "text/plain": [
       "         id  ...                                      category_name\n",
       "0  21299202  ...  Thiết Bị Số - Phụ Kiện Số/Phụ Kiện Điện Thoại ...\n",
       "1  44105732  ...        Giày - Dép nữ/Giày lười nữ/Giày lười hở gót\n",
       "2  54132740  ...  Ô Tô - Xe Máy - Xe Đạp/Phụ kiện - Chăm sóc xe/...\n",
       "3  65011722  ...  Đồng hồ và Trang sức/Đồng hồ nam/Đồng hồ busin...\n",
       "4   7995403  ...  Giày - Dép nam/Giày thể thao nam/Giày thể thao...\n",
       "\n",
       "[5 rows x 8 columns]"
      ]
     },
     "execution_count": 4,
     "metadata": {
      "tags": []
     },
     "output_type": "execute_result"
    }
   ],
   "source": [
    "import pandas as pd\n",
    "import numpy as np\n",
    "from pyvi import ViTokenizer\n",
    "import glob\n",
    "from collections import Counter\n",
    "from string import punctuation\n",
    "\n",
    "#Import data from the clean file \n",
    "product_df = pd.read_csv('product_info_clean.csv', index_col = 0)\n",
    "\n",
    "#Print the head of the cleaned DataFrame\n",
    "product_df.head()"
   ]
  },
  {
   "cell_type": "code",
   "execution_count": 5,
   "metadata": {
    "colab": {
     "base_uri": "https://localhost:8080/"
    },
    "executionInfo": {
     "elapsed": 57972,
     "status": "ok",
     "timestamp": 1610555287516,
     "user": {
      "displayName": "K.T.G. Hiếu",
      "photoUrl": "https://lh3.googleusercontent.com/a-/AOh14GgS8y4OlJuJEmuIVXBNLZtqhvE-46zhMEPfvgVIkQ=s64",
      "userId": "17949550505612572826"
     },
     "user_tz": -420
    },
    "id": "uBVcoia48NQI",
    "outputId": "047ec22a-968e-493c-e5af-a20673624c38"
   },
   "outputs": [
    {
     "name": "stdout",
     "output_type": "stream",
     "text": [
      "['bị', 'bởi', 'cả', 'các', 'cái', 'cần', 'càng', 'chỉ', 'chiếc', 'cho', 'chứ', 'chưa', 'chuyện', 'có', 'có_thể', 'cứ', 'của', 'cùng', 'cũng', 'đã', 'đang', 'đây', 'để', 'đến_nỗi', 'đều', 'điều', 'do', 'đó', 'được', 'dưới', 'gì', 'khi', 'không', 'là', 'lại', 'lên', 'lúc', 'mà', 'mỗi', 'một_cách', 'này', 'nên', 'nếu', 'ngay', 'nhiều', 'như', 'nhưng', 'những', 'nơi', 'nữa', 'phải', 'qua', 'ra', 'rằng', 'rằng', 'rất', 'rất', 'rồi', 'sau', 'sẽ', 'so', 'sự', 'tại', 'theo', 'thì', 'trên', 'trước', 'từ', 'từng', 'và', 'vẫn', 'vào', 'vậy', 'vì', 'việc', 'với', 'vừa', '!', '\"', '#', '$', '%', '&', \"'\", ',', '*', '+', ',', '-', '.', '/', ':', ';', '<', '=', '>', '?', '@', '[', '\\\\\\\\', ']', '^', '_', '`', '{', '|', '}', '~', '!', '\"', '#', '$', '%', '&', \"'\", '(', ')', '*', '+', ',', '-', '.', '/', ':', ';', '<', '=', '>', '?', '@', '[', '\\\\', ']', '^', '_', '`', '{', '|', '}', '~']\n"
     ]
    }
   ],
   "source": [
    "stop_word = []\n",
    "with open(\"stop_word.txt\",encoding=\"utf-8\") as f:\n",
    "    text = f.read()\n",
    "    for word in text.split() :\n",
    "        stop_word.append(word)\n",
    "    f.close()\n",
    "punc = list(punctuation)\n",
    "stop_word = stop_word + punc\n",
    "print(stop_word)"
   ]
  },
  {
   "cell_type": "code",
   "execution_count": 6,
   "metadata": {
    "colab": {
     "base_uri": "https://localhost:8080/",
     "height": 289
    },
    "executionInfo": {
     "elapsed": 201917,
     "status": "ok",
     "timestamp": 1610555431464,
     "user": {
      "displayName": "K.T.G. Hiếu",
      "photoUrl": "https://lh3.googleusercontent.com/a-/AOh14GgS8y4OlJuJEmuIVXBNLZtqhvE-46zhMEPfvgVIkQ=s64",
      "userId": "17949550505612572826"
     },
     "user_tz": -420
    },
    "id": "orfNH_gY8NQJ",
    "outputId": "9ef19544-7188-4aa3-df9d-0f90d7e76c3a"
   },
   "outputs": [
    {
     "data": {
      "text/html": [
       "<div>\n",
       "<style scoped>\n",
       "    .dataframe tbody tr th:only-of-type {\n",
       "        vertical-align: middle;\n",
       "    }\n",
       "\n",
       "    .dataframe tbody tr th {\n",
       "        vertical-align: top;\n",
       "    }\n",
       "\n",
       "    .dataframe thead th {\n",
       "        text-align: right;\n",
       "    }\n",
       "</style>\n",
       "<table border=\"1\" class=\"dataframe\">\n",
       "  <thead>\n",
       "    <tr style=\"text-align: right;\">\n",
       "      <th></th>\n",
       "      <th>id</th>\n",
       "      <th>name</th>\n",
       "      <th>review_count</th>\n",
       "      <th>rating_average</th>\n",
       "      <th>price</th>\n",
       "      <th>description</th>\n",
       "      <th>category</th>\n",
       "      <th>category_name</th>\n",
       "      <th>description_token</th>\n",
       "    </tr>\n",
       "  </thead>\n",
       "  <tbody>\n",
       "    <tr>\n",
       "      <th>0</th>\n",
       "      <td>21299202</td>\n",
       "      <td>Cáp sạc và truyền dữ liệu tốc độ cao Baseus Ho...</td>\n",
       "      <td>216</td>\n",
       "      <td>4.5</td>\n",
       "      <td>67000</td>\n",
       "      <td>Hỗ trợ dòng lên đến 2.4 A , cho tốc độ sạc nha...</td>\n",
       "      <td>1815</td>\n",
       "      <td>Thiết Bị Số - Phụ Kiện Số/Phụ Kiện Điện Thoại ...</td>\n",
       "      <td>hỗ_trợ dòng lên đến 2.4 a , cho tốc_độ sạc nha...</td>\n",
       "    </tr>\n",
       "    <tr>\n",
       "      <th>1</th>\n",
       "      <td>44105732</td>\n",
       "      <td>Dép sục unisex duet độn đế, chống trượt Litic ...</td>\n",
       "      <td>27</td>\n",
       "      <td>3.5</td>\n",
       "      <td>148500</td>\n",
       "      <td>Tiện lợi, bền đẹp, siêu nhẹ Độn đế tinh tế, kh...</td>\n",
       "      <td>914</td>\n",
       "      <td>Giày - Dép nữ/Giày lười nữ/Giày lười hở gót</td>\n",
       "      <td>tiện_lợi , bền đẹp , siêu nhẹ độn đế tinh_tế ,...</td>\n",
       "    </tr>\n",
       "    <tr>\n",
       "      <th>2</th>\n",
       "      <td>54132740</td>\n",
       "      <td>bình thông hơi dành cho xe máy tặng bao tay xe...</td>\n",
       "      <td>4</td>\n",
       "      <td>4.5</td>\n",
       "      <td>199000</td>\n",
       "      <td>bình thông hơi dành cho xe máy tặng bao tay xe...</td>\n",
       "      <td>6061</td>\n",
       "      <td>Ô Tô - Xe Máy - Xe Đạp/Phụ kiện - Chăm sóc xe/...</td>\n",
       "      <td>bình thông hơi dành cho xe_máy tặng bao_tay xe...</td>\n",
       "    </tr>\n",
       "    <tr>\n",
       "      <th>3</th>\n",
       "      <td>65011722</td>\n",
       "      <td>Đồng Hồ Nam FNGEEN FE230  mặt đồng hồ tròn, th...</td>\n",
       "      <td>19</td>\n",
       "      <td>4.5</td>\n",
       "      <td>179000</td>\n",
       "      <td>Mặt đồng hồ tròn, thiết kế đẹp mắt, sáng bóng ...</td>\n",
       "      <td>914</td>\n",
       "      <td>Đồng hồ và Trang sức/Đồng hồ nam/Đồng hồ busin...</td>\n",
       "      <td>mặt đồng_hồ tròn , thiết_kế đẹp_mắt , sáng bón...</td>\n",
       "    </tr>\n",
       "    <tr>\n",
       "      <th>4</th>\n",
       "      <td>7995403</td>\n",
       "      <td>Giày Sneaker Unisex Converse Chuck Taylor All ...</td>\n",
       "      <td>19</td>\n",
       "      <td>5.0</td>\n",
       "      <td>1500000</td>\n",
       "      <td>Đường may vô cùng tỉ mỉ, tinh tế Chất vải canv...</td>\n",
       "      <td>49620</td>\n",
       "      <td>Giày - Dép nam/Giày thể thao nam/Giày thể thao...</td>\n",
       "      <td>đường may vô_cùng tỉ_mỉ , tinh_tế chất vải can...</td>\n",
       "    </tr>\n",
       "  </tbody>\n",
       "</table>\n",
       "</div>"
      ],
      "text/plain": [
       "         id  ...                                  description_token\n",
       "0  21299202  ...  hỗ_trợ dòng lên đến 2.4 a , cho tốc_độ sạc nha...\n",
       "1  44105732  ...  tiện_lợi , bền đẹp , siêu nhẹ độn đế tinh_tế ,...\n",
       "2  54132740  ...  bình thông hơi dành cho xe_máy tặng bao_tay xe...\n",
       "3  65011722  ...  mặt đồng_hồ tròn , thiết_kế đẹp_mắt , sáng bón...\n",
       "4   7995403  ...  đường may vô_cùng tỉ_mỉ , tinh_tế chất vải can...\n",
       "\n",
       "[5 rows x 9 columns]"
      ]
     },
     "execution_count": 6,
     "metadata": {
      "tags": []
     },
     "output_type": "execute_result"
    }
   ],
   "source": [
    "def clean_text(text):\n",
    "    text_lower = text.lower()\n",
    "    text_token = ViTokenizer.tokenize(text_lower)\n",
    "    \n",
    "    sent = []\n",
    "    for word in text_token.split(\"_\\s\") :\n",
    "        if (word not in stop_word) :\n",
    "            if (\"_\" in word) or (word.isalpha() == True):\n",
    "                sent.append(word)\n",
    "    return \" \".join(sent)\n",
    "\n",
    "product_df['description_token'] = product_df['description'].apply(clean_text)\n",
    "product_df.head()"
   ]
  },
  {
   "cell_type": "code",
   "execution_count": 7,
   "metadata": {
    "colab": {
     "base_uri": "https://localhost:8080/",
     "height": 35
    },
    "executionInfo": {
     "elapsed": 201916,
     "status": "ok",
     "timestamp": 1610555431465,
     "user": {
      "displayName": "K.T.G. Hiếu",
      "photoUrl": "https://lh3.googleusercontent.com/a-/AOh14GgS8y4OlJuJEmuIVXBNLZtqhvE-46zhMEPfvgVIkQ=s64",
      "userId": "17949550505612572826"
     },
     "user_tz": -420
    },
    "id": "4hNq9e1J_Vua",
    "outputId": "89d34ec7-b8e4-4580-8651-b302a093496c"
   },
   "outputs": [
    {
     "data": {
      "application/vnd.google.colaboratory.intrinsic+json": {
       "type": "string"
      },
      "text/plain": [
       "'Đồng Hồ Nam FNGEEN FE230  mặt đồng hồ tròn, thiết kế đẹp mắt, sáng bóng với tính năng hiện đại cho phái mạnh tự tin, mạng mẽ và thời trang  Dây thép không gỉ thiết kế ôm tay '"
      ]
     },
     "execution_count": 7,
     "metadata": {
      "tags": []
     },
     "output_type": "execute_result"
    }
   ],
   "source": [
    "product_df['name'].iloc[3]"
   ]
  },
  {
   "cell_type": "code",
   "execution_count": 8,
   "metadata": {
    "colab": {
     "base_uri": "https://localhost:8080/"
    },
    "executionInfo": {
     "elapsed": 206706,
     "status": "ok",
     "timestamp": 1610555436257,
     "user": {
      "displayName": "K.T.G. Hiếu",
      "photoUrl": "https://lh3.googleusercontent.com/a-/AOh14GgS8y4OlJuJEmuIVXBNLZtqhvE-46zhMEPfvgVIkQ=s64",
      "userId": "17949550505612572826"
     },
     "user_tz": -420
    },
    "id": "txdJiYLK8NQK",
    "outputId": "7bc3520d-b08b-4e25-f0d7-5f4fc7ab1467"
   },
   "outputs": [
    {
     "data": {
      "text/plain": [
       "(21838, 3000)"
      ]
     },
     "execution_count": 8,
     "metadata": {
      "tags": []
     },
     "output_type": "execute_result"
    }
   ],
   "source": [
    "#Import TfIdfVectorizer from the scikit-learn library\n",
    "from sklearn.feature_extraction.text import TfidfVectorizer\n",
    "\n",
    "#Define a TF-IDF Vectorizer Object. Remove all english stopwords\n",
    "tfidf = TfidfVectorizer(min_df=5,max_df= 0.8,max_features=3000,sublinear_tf=True)\n",
    "\n",
    "#Replace NaN with an empty string\n",
    "product_df['description_token'] = product_df['description_token'].fillna('')\n",
    "\n",
    "#Construct the required TF-IDF matrix by applying the fit_transform method on the description_token feature\n",
    "tfidf_matrix = tfidf.fit_transform(product_df['description_token'])\n",
    "\n",
    "#Output the shape of tfidf_matrix\n",
    "tfidf_matrix.shape"
   ]
  },
  {
   "cell_type": "code",
   "execution_count": 9,
   "metadata": {
    "executionInfo": {
     "elapsed": 249996,
     "status": "ok",
     "timestamp": 1610555479549,
     "user": {
      "displayName": "K.T.G. Hiếu",
      "photoUrl": "https://lh3.googleusercontent.com/a-/AOh14GgS8y4OlJuJEmuIVXBNLZtqhvE-46zhMEPfvgVIkQ=s64",
      "userId": "17949550505612572826"
     },
     "user_tz": -420
    },
    "id": "BmEN-DhX8NQK"
   },
   "outputs": [],
   "source": [
    "# Import linear_kernel to compute the dot product\n",
    "from sklearn.metrics.pairwise import linear_kernel\n",
    "\n",
    "# Compute the cosine similarity matrix\n",
    "cosine_sim = linear_kernel(tfidf_matrix, tfidf_matrix)"
   ]
  },
  {
   "cell_type": "code",
   "execution_count": 10,
   "metadata": {
    "executionInfo": {
     "elapsed": 249996,
     "status": "ok",
     "timestamp": 1610555479551,
     "user": {
      "displayName": "K.T.G. Hiếu",
      "photoUrl": "https://lh3.googleusercontent.com/a-/AOh14GgS8y4OlJuJEmuIVXBNLZtqhvE-46zhMEPfvgVIkQ=s64",
      "userId": "17949550505612572826"
     },
     "user_tz": -420
    },
    "id": "-DNsjYiK8NQL"
   },
   "outputs": [],
   "source": [
    "#Construct a reverse mapping of indices and product ids, and drop duplicate ids, if any\n",
    "indices = pd.Series(product_df.index, index=product_df['id']).drop_duplicates()"
   ]
  },
  {
   "cell_type": "code",
   "execution_count": 11,
   "metadata": {
    "executionInfo": {
     "elapsed": 249994,
     "status": "ok",
     "timestamp": 1610555479552,
     "user": {
      "displayName": "K.T.G. Hiếu",
      "photoUrl": "https://lh3.googleusercontent.com/a-/AOh14GgS8y4OlJuJEmuIVXBNLZtqhvE-46zhMEPfvgVIkQ=s64",
      "userId": "17949550505612572826"
     },
     "user_tz": -420
    },
    "id": "vvmW0DlL8NQM"
   },
   "outputs": [],
   "source": [
    "# Function that takes in product id as input and gives recommendations \n",
    "def content_recommender(id, cosine_sim=cosine_sim, product_df=product_df, indices=indices):\n",
    "    # Obtain the index of the product that matches the title\n",
    "    idx = indices[id]\n",
    "\n",
    "    # Get the pairwsie similarity scores of all products with that product\n",
    "    # And convert it into a list of tuples as described above\n",
    "    sim_scores = list(enumerate(cosine_sim[idx]))\n",
    "\n",
    "    # Sort the products based on the cosine similarity scores\n",
    "    sim_scores = sorted(sim_scores, key=lambda x: x[1], reverse=True)\n",
    "\n",
    "    # Get the scores of the 20 most similar products. Ignore the first product.\n",
    "    sim_scores = sim_scores[1:21]\n",
    "\n",
    "    # Get the product indices\n",
    "    product_indices = [i[0] for i in sim_scores]\n",
    "\n",
    "    # Return the top 20 most similar products\n",
    "    return product_df['name'].iloc[product_indices]"
   ]
  },
  {
   "cell_type": "code",
   "execution_count": 12,
   "metadata": {
    "colab": {
     "base_uri": "https://localhost:8080/"
    },
    "executionInfo": {
     "elapsed": 249993,
     "status": "ok",
     "timestamp": 1610555479553,
     "user": {
      "displayName": "K.T.G. Hiếu",
      "photoUrl": "https://lh3.googleusercontent.com/a-/AOh14GgS8y4OlJuJEmuIVXBNLZtqhvE-46zhMEPfvgVIkQ=s64",
      "userId": "17949550505612572826"
     },
     "user_tz": -420
    },
    "id": "08SQK07m8NQM",
    "outputId": "7dc6c375-b94c-45d5-e72d-1c738fa0044d"
   },
   "outputs": [
    {
     "data": {
      "text/plain": [
       "7249     Đồng Hồ Nam FNGEEN FE708 mạ vàng mặt đồng hồ t...\n",
       "11967    Đồng Hồ Nam FNGEEN FG0541 doanh nhân 2020 Lịch...\n",
       "17822    Đồng hồ nam FNGEEN 5055 lịch ngày chính hãng n...\n",
       "17906    Đồng Hồ Nam FNGEEN F281 mặt số đính đá Lịch Ng...\n",
       "3290     Đồng hồ nam dây da thời trang - đồng hồ thể th...\n",
       "17081    Đồng hồ nam ECONOMICXI dây thép mành đen chạy ...\n",
       "13636    Đồng Hồ Nam Fourron F66 Lịch Ngày Dây Thép Cao...\n",
       "15295    Đồng hồ nam chống nước NO6216G, phong cách trẻ...\n",
       "2586     Đồng Hồ Nam Dây Thép Cao Cấp Thời Trang Lịch L...\n",
       "477      Đồng hồ nam FNGEEN fn668 Mặt rồng 3d cuộn hình...\n",
       "4799     Đồng Hồ Nam Fourron Lịch Ngày chính hãng nam s...\n",
       "4918     Đồng Hồ Nam 2 Lịch Crnaira CR049 Dây Thép Mành...\n",
       "6188     Đồng Hồ Nam Crnaira CR8333 Siêu Mỏng mặt đồng ...\n",
       "10334    Đồng hồ Nam CUENA CUN8207 Lịch ngày sang trọng...\n",
       "9980     Đồng hồ nam HALEI 564 mặt vuông thời trang cao...\n",
       "9049     Đồng Hồ Nam Chạy 6 Kim Crnaira PE90 Mặt Đính Đ...\n",
       "5144     Đồng Hồ Nam 6 Kim Crnaira C099 Dây Hợp Kim Thé...\n",
       "5007     Đồng Hồ Nam Crnaira Japan CR029 Chạy 6 kim Mặt...\n",
       "15821    Đồng Hồ Nam Kingnuos K1982 Chạy 2 Lịch  Dây Hợ...\n",
       "2389     Đồng hồ nam SIêu Mỏng YAZOLE YA502 DOanh Nhân ...\n",
       "Name: name, dtype: object"
      ]
     },
     "execution_count": 12,
     "metadata": {
      "tags": []
     },
     "output_type": "execute_result"
    }
   ],
   "source": [
    "#Get recommendations for Đồng Hồ Nam FNGEEN FE230  mặt đồng hồ tròn, thiết kế đẹp mắt, sáng bóng với tính năng hiện đại cho phái mạnh tự tin, mạng mẽ và thời trang  Dây thép không gỉ thiết kế ôm tay \n",
    "donghonam_id = product_df[product_df['name'].str.find('Đồng Hồ Nam FNGEEN FE230  mặt đồng hồ tròn, thiết kế đẹp mắt, sáng bóng với tính năng hiện đại cho phái mạnh tự tin, mạng mẽ và thời trang  Dây thép không gỉ thiết kế ôm tay ') == 0]['id'].iloc[0]\n",
    "content_recommender(donghonam_id)"
   ]
  },
  {
   "cell_type": "code",
   "execution_count": 13,
   "metadata": {
    "colab": {
     "base_uri": "https://localhost:8080/"
    },
    "executionInfo": {
     "elapsed": 359022,
     "status": "ok",
     "timestamp": 1610555588769,
     "user": {
      "displayName": "K.T.G. Hiếu",
      "photoUrl": "https://lh3.googleusercontent.com/a-/AOh14GgS8y4OlJuJEmuIVXBNLZtqhvE-46zhMEPfvgVIkQ=s64",
      "userId": "17949550505612572826"
     },
     "user_tz": -420
    },
    "id": "LFY-5SquAwE9",
    "outputId": "7f34db96-4ed3-446b-d585-26a381c30f82"
   },
   "outputs": [
    {
     "name": "stdout",
     "output_type": "stream",
     "text": [
      "Save file:  cosine_sim.pkl\n"
     ]
    }
   ],
   "source": [
    "import pickle\n",
    "def save_pickle(data, filename):\n",
    "    with open(filename, 'wb') as f:\n",
    "        pickle.dump(data, f)\n",
    "    print(\"Save file: \", filename)\n",
    "save_pickle(cosine_sim, 'cosine_sim.pkl')"
   ]
  },
  {
   "cell_type": "markdown",
   "metadata": {
    "id": "i663eSGXASrX"
   },
   "source": [
    "# Collaborative Filtering\n",
    "\n",
    "## The Framework"
   ]
  },
  {
   "cell_type": "code",
   "execution_count": 16,
   "metadata": {
    "executionInfo": {
     "elapsed": 1017,
     "status": "ok",
     "timestamp": 1610555614621,
     "user": {
      "displayName": "K.T.G. Hiếu",
      "photoUrl": "https://lh3.googleusercontent.com/a-/AOh14GgS8y4OlJuJEmuIVXBNLZtqhvE-46zhMEPfvgVIkQ=s64",
      "userId": "17949550505612572826"
     },
     "user_tz": -420
    },
    "id": "9bPU1ne_B6z0"
   },
   "outputs": [],
   "source": [
    "import pandas as pd\n",
    "import numpy as np"
   ]
  },
  {
   "cell_type": "code",
   "execution_count": 22,
   "metadata": {
    "colab": {
     "base_uri": "https://localhost:8080/",
     "height": 238
    },
    "executionInfo": {
     "elapsed": 13724,
     "status": "ok",
     "timestamp": 1610555664866,
     "user": {
      "displayName": "K.T.G. Hiếu",
      "photoUrl": "https://lh3.googleusercontent.com/a-/AOh14GgS8y4OlJuJEmuIVXBNLZtqhvE-46zhMEPfvgVIkQ=s64",
      "userId": "17949550505612572826"
     },
     "user_tz": -420
    },
    "id": "IrFsLZYSB8JK",
    "outputId": "615b24e3-acbc-4fb1-e9d7-fe2eaef34bc7"
   },
   "outputs": [
    {
     "name": "stderr",
     "output_type": "stream",
     "text": [
      "/usr/local/lib/python3.6/dist-packages/numpy/lib/arraysetops.py:580: FutureWarning: elementwise comparison failed; returning scalar instead, but in the future will perform elementwise comparison\n",
      "  mask |= (ar1 == a)\n"
     ]
    },
    {
     "data": {
      "text/html": [
       "<div>\n",
       "<style scoped>\n",
       "    .dataframe tbody tr th:only-of-type {\n",
       "        vertical-align: middle;\n",
       "    }\n",
       "\n",
       "    .dataframe tbody tr th {\n",
       "        vertical-align: top;\n",
       "    }\n",
       "\n",
       "    .dataframe thead th {\n",
       "        text-align: right;\n",
       "    }\n",
       "</style>\n",
       "<table border=\"1\" class=\"dataframe\">\n",
       "  <thead>\n",
       "    <tr style=\"text-align: right;\">\n",
       "      <th></th>\n",
       "      <th>customer_id</th>\n",
       "      <th>product_id</th>\n",
       "      <th>rating</th>\n",
       "      <th>thank_count</th>\n",
       "      <th>title</th>\n",
       "      <th>content</th>\n",
       "      <th>created_at</th>\n",
       "      <th>purchase_at</th>\n",
       "      <th>customer_name</th>\n",
       "    </tr>\n",
       "  </thead>\n",
       "  <tbody>\n",
       "    <tr>\n",
       "      <th>0</th>\n",
       "      <td>5719606</td>\n",
       "      <td>21299202</td>\n",
       "      <td>5</td>\n",
       "      <td>6</td>\n",
       "      <td>Dây 2m, chất liệu của dây dù</td>\n",
       "      <td>Xài được khoảng 1 tuần thì có vẻ ổn. Dây dài 2...</td>\n",
       "      <td>2020-08-25 14:04:15</td>\n",
       "      <td>2020-07-01 13:22:12</td>\n",
       "      <td>Khách Hàng</td>\n",
       "    </tr>\n",
       "    <tr>\n",
       "      <th>1</th>\n",
       "      <td>11891537</td>\n",
       "      <td>21299202</td>\n",
       "      <td>1</td>\n",
       "      <td>19</td>\n",
       "      <td>PSK Dragon giao láo bố láo.</td>\n",
       "      <td>Đặt 3 sợi màu đỏ dài 2m , giao 2 sợi màu đen 2...</td>\n",
       "      <td>2020-08-12 11:41:41</td>\n",
       "      <td>2020-08-06 22:05:10</td>\n",
       "      <td>Trung Tung Tăng</td>\n",
       "    </tr>\n",
       "    <tr>\n",
       "      <th>2</th>\n",
       "      <td>7630980</td>\n",
       "      <td>21299202</td>\n",
       "      <td>4</td>\n",
       "      <td>0</td>\n",
       "      <td>Được</td>\n",
       "      <td>cảm nhận ban đầu thì dây rất cứng, \\ndây đúng ...</td>\n",
       "      <td>2020-09-04 11:15:21</td>\n",
       "      <td>2020-09-02 21:39:54</td>\n",
       "      <td>Nguyễn Tất Thắng</td>\n",
       "    </tr>\n",
       "    <tr>\n",
       "      <th>3</th>\n",
       "      <td>1242105</td>\n",
       "      <td>21299202</td>\n",
       "      <td>1</td>\n",
       "      <td>0</td>\n",
       "      <td>Rất không hài lòng</td>\n",
       "      <td>Chất lượng hoàn thiện kém, kích thước chân lig...</td>\n",
       "      <td>2020-08-15 14:19:43</td>\n",
       "      <td>2020-08-13 20:50:11</td>\n",
       "      <td>Doan Hiep</td>\n",
       "    </tr>\n",
       "    <tr>\n",
       "      <th>4</th>\n",
       "      <td>10815590</td>\n",
       "      <td>21299202</td>\n",
       "      <td>4</td>\n",
       "      <td>8</td>\n",
       "      <td>Ổn</td>\n",
       "      <td>Hoàn thiện khá tốt\\nNhưng tại sao dùng bút thử...</td>\n",
       "      <td>2020-03-08 13:23:01</td>\n",
       "      <td>2020-02-21 16:38:52</td>\n",
       "      <td>Hoàng việt hưng</td>\n",
       "    </tr>\n",
       "  </tbody>\n",
       "</table>\n",
       "</div>"
      ],
      "text/plain": [
       "   customer_id  product_id  ...          purchase_at     customer_name\n",
       "0      5719606    21299202  ...  2020-07-01 13:22:12        Khách Hàng\n",
       "1     11891537    21299202  ...  2020-08-06 22:05:10   Trung Tung Tăng\n",
       "2      7630980    21299202  ...  2020-09-02 21:39:54  Nguyễn Tất Thắng\n",
       "3      1242105    21299202  ...  2020-08-13 20:50:11         Doan Hiep\n",
       "4     10815590    21299202  ...  2020-02-21 16:38:52   Hoàng việt hưng\n",
       "\n",
       "[5 rows x 9 columns]"
      ]
     },
     "execution_count": 22,
     "metadata": {
      "tags": []
     },
     "output_type": "execute_result"
    }
   ],
   "source": [
    "#Load the review file into a dataframe\n",
    "orig_ratings = pd.read_csv('product_review_clean.csv', index_col = 0)\n",
    "orig_ratings.head()"
   ]
  },
  {
   "cell_type": "code",
   "execution_count": 23,
   "metadata": {
    "executionInfo": {
     "elapsed": 9697,
     "status": "ok",
     "timestamp": 1610555665211,
     "user": {
      "displayName": "K.T.G. Hiếu",
      "photoUrl": "https://lh3.googleusercontent.com/a-/AOh14GgS8y4OlJuJEmuIVXBNLZtqhvE-46zhMEPfvgVIkQ=s64",
      "userId": "17949550505612572826"
     },
     "user_tz": -420
    },
    "id": "Vu5Twquzk6Dg"
   },
   "outputs": [],
   "source": [
    "ratings = orig_ratings.sample(n=10000, random_state =40)"
   ]
  },
  {
   "cell_type": "code",
   "execution_count": 24,
   "metadata": {
    "colab": {
     "base_uri": "https://localhost:8080/",
     "height": 204
    },
    "executionInfo": {
     "elapsed": 539,
     "status": "ok",
     "timestamp": 1610555666504,
     "user": {
      "displayName": "K.T.G. Hiếu",
      "photoUrl": "https://lh3.googleusercontent.com/a-/AOh14GgS8y4OlJuJEmuIVXBNLZtqhvE-46zhMEPfvgVIkQ=s64",
      "userId": "17949550505612572826"
     },
     "user_tz": -420
    },
    "id": "Kbrmf_NCCXNF",
    "outputId": "4a81a665-efdd-4a82-f7e8-44c924524964"
   },
   "outputs": [
    {
     "data": {
      "text/html": [
       "<div>\n",
       "<style scoped>\n",
       "    .dataframe tbody tr th:only-of-type {\n",
       "        vertical-align: middle;\n",
       "    }\n",
       "\n",
       "    .dataframe tbody tr th {\n",
       "        vertical-align: top;\n",
       "    }\n",
       "\n",
       "    .dataframe thead th {\n",
       "        text-align: right;\n",
       "    }\n",
       "</style>\n",
       "<table border=\"1\" class=\"dataframe\">\n",
       "  <thead>\n",
       "    <tr style=\"text-align: right;\">\n",
       "      <th></th>\n",
       "      <th>customer_id</th>\n",
       "      <th>product_id</th>\n",
       "      <th>rating</th>\n",
       "    </tr>\n",
       "  </thead>\n",
       "  <tbody>\n",
       "    <tr>\n",
       "      <th>680634</th>\n",
       "      <td>5764785</td>\n",
       "      <td>63171394</td>\n",
       "      <td>5</td>\n",
       "    </tr>\n",
       "    <tr>\n",
       "      <th>156432</th>\n",
       "      <td>19028885</td>\n",
       "      <td>20585233</td>\n",
       "      <td>4</td>\n",
       "    </tr>\n",
       "    <tr>\n",
       "      <th>363368</th>\n",
       "      <td>5996665</td>\n",
       "      <td>9856777</td>\n",
       "      <td>5</td>\n",
       "    </tr>\n",
       "    <tr>\n",
       "      <th>629209</th>\n",
       "      <td>6767270</td>\n",
       "      <td>36626940</td>\n",
       "      <td>5</td>\n",
       "    </tr>\n",
       "    <tr>\n",
       "      <th>44921</th>\n",
       "      <td>7450531</td>\n",
       "      <td>557981</td>\n",
       "      <td>1</td>\n",
       "    </tr>\n",
       "  </tbody>\n",
       "</table>\n",
       "</div>"
      ],
      "text/plain": [
       "        customer_id  product_id  rating\n",
       "680634      5764785    63171394       5\n",
       "156432     19028885    20585233       4\n",
       "363368      5996665     9856777       5\n",
       "629209      6767270    36626940       5\n",
       "44921       7450531      557981       1"
      ]
     },
     "execution_count": 24,
     "metadata": {
      "tags": []
     },
     "output_type": "execute_result"
    }
   ],
   "source": [
    "#Get the unnecessary column\n",
    "features = ['customer_id', 'product_id', 'rating']\n",
    "ratings  = ratings[features]\n",
    "ratings.head()"
   ]
  },
  {
   "cell_type": "code",
   "execution_count": 25,
   "metadata": {
    "executionInfo": {
     "elapsed": 1267,
     "status": "ok",
     "timestamp": 1610555667505,
     "user": {
      "displayName": "K.T.G. Hiếu",
      "photoUrl": "https://lh3.googleusercontent.com/a-/AOh14GgS8y4OlJuJEmuIVXBNLZtqhvE-46zhMEPfvgVIkQ=s64",
      "userId": "17949550505612572826"
     },
     "user_tz": -420
    },
    "id": "Hxdkw_PPDFFi"
   },
   "outputs": [],
   "source": [
    "#Import the train_test_split function\n",
    "from sklearn.model_selection import train_test_split\n",
    "\n",
    "#Assign X as the original ratings dataframe and y as the customer_id column of ratings.\n",
    "X = ratings.drop('rating', axis=1)\n",
    "y = ratings['rating']\n",
    "\n",
    "#Split into training and test datasets, stratified along customer_id\n",
    "X_train, X_test, y_train, y_test = train_test_split(X, y, test_size = 0.25, random_state=42)"
   ]
  },
  {
   "cell_type": "code",
   "execution_count": 26,
   "metadata": {
    "executionInfo": {
     "elapsed": 1052,
     "status": "ok",
     "timestamp": 1610555667505,
     "user": {
      "displayName": "K.T.G. Hiếu",
      "photoUrl": "https://lh3.googleusercontent.com/a-/AOh14GgS8y4OlJuJEmuIVXBNLZtqhvE-46zhMEPfvgVIkQ=s64",
      "userId": "17949550505612572826"
     },
     "user_tz": -420
    },
    "id": "A2U-htQBDIFe"
   },
   "outputs": [],
   "source": [
    "#Import the mean_squared_error function\n",
    "from sklearn.metrics import mean_squared_error\n",
    "\n",
    "#Function that computes the root mean squared error (or RMSE)\n",
    "def rmse(y_true, y_pred):\n",
    "    return np.sqrt(mean_squared_error(y_true, y_pred))"
   ]
  },
  {
   "cell_type": "code",
   "execution_count": 27,
   "metadata": {
    "executionInfo": {
     "elapsed": 876,
     "status": "ok",
     "timestamp": 1610555667506,
     "user": {
      "displayName": "K.T.G. Hiếu",
      "photoUrl": "https://lh3.googleusercontent.com/a-/AOh14GgS8y4OlJuJEmuIVXBNLZtqhvE-46zhMEPfvgVIkQ=s64",
      "userId": "17949550505612572826"
     },
     "user_tz": -420
    },
    "id": "NgDE0GedDnwB"
   },
   "outputs": [],
   "source": [
    "#Define the baseline model to always return 3.\n",
    "def baseline(user_id, movie_id):\n",
    "    return 3.0"
   ]
  },
  {
   "cell_type": "code",
   "execution_count": 28,
   "metadata": {
    "executionInfo": {
     "elapsed": 655,
     "status": "ok",
     "timestamp": 1610555667507,
     "user": {
      "displayName": "K.T.G. Hiếu",
      "photoUrl": "https://lh3.googleusercontent.com/a-/AOh14GgS8y4OlJuJEmuIVXBNLZtqhvE-46zhMEPfvgVIkQ=s64",
      "userId": "17949550505612572826"
     },
     "user_tz": -420
    },
    "id": "t3pDixVKDpMf"
   },
   "outputs": [],
   "source": [
    "#Function to compute the RMSE score obtained on the testing set by a model\n",
    "def score(cf_model):\n",
    "    \n",
    "    #Construct a list of user-product tuples from the testing dataset\n",
    "    id_pairs = zip(X_test['customer_id'], X_test['product_id'])\n",
    "    \n",
    "    #Predict the rating for every user-product tuple\n",
    "    y_pred = np.array([cf_model(user, product) for (user, product) in id_pairs])\n",
    "    \n",
    "    #Extract the actual ratings given by the users in the test data\n",
    "    y_true = np.array(y_test)\n",
    "    \n",
    "    #Return the final RMSE score\n",
    "    return rmse(y_true, y_pred)"
   ]
  },
  {
   "cell_type": "code",
   "execution_count": 29,
   "metadata": {
    "colab": {
     "base_uri": "https://localhost:8080/"
    },
    "executionInfo": {
     "elapsed": 1272,
     "status": "ok",
     "timestamp": 1610555668338,
     "user": {
      "displayName": "K.T.G. Hiếu",
      "photoUrl": "https://lh3.googleusercontent.com/a-/AOh14GgS8y4OlJuJEmuIVXBNLZtqhvE-46zhMEPfvgVIkQ=s64",
      "userId": "17949550505612572826"
     },
     "user_tz": -420
    },
    "id": "HjC--BsUDqPc",
    "outputId": "d066d7c0-c19c-41a1-9636-fd0070b27572"
   },
   "outputs": [
    {
     "data": {
      "text/plain": [
       "1.7731328207441202"
      ]
     },
     "execution_count": 29,
     "metadata": {
      "tags": []
     },
     "output_type": "execute_result"
    }
   ],
   "source": [
    "score(baseline)"
   ]
  },
  {
   "cell_type": "markdown",
   "metadata": {
    "id": "Xs2-q347F15Y"
   },
   "source": [
    "## Model Based Approaches"
   ]
  },
  {
   "cell_type": "code",
   "execution_count": 30,
   "metadata": {
    "executionInfo": {
     "elapsed": 3554,
     "status": "ok",
     "timestamp": 1610555671187,
     "user": {
      "displayName": "K.T.G. Hiếu",
      "photoUrl": "https://lh3.googleusercontent.com/a-/AOh14GgS8y4OlJuJEmuIVXBNLZtqhvE-46zhMEPfvgVIkQ=s64",
      "userId": "17949550505612572826"
     },
     "user_tz": -420
    },
    "id": "R1nQRcRZF9l1"
   },
   "outputs": [],
   "source": [
    "from sklearn.svm import SVR\n",
    "\n",
    "model = SVR(kernel='rbf').fit(X_train, y_train)"
   ]
  },
  {
   "cell_type": "code",
   "execution_count": 31,
   "metadata": {
    "colab": {
     "base_uri": "https://localhost:8080/"
    },
    "executionInfo": {
     "elapsed": 2336,
     "status": "ok",
     "timestamp": 1610555671663,
     "user": {
      "displayName": "K.T.G. Hiếu",
      "photoUrl": "https://lh3.googleusercontent.com/a-/AOh14GgS8y4OlJuJEmuIVXBNLZtqhvE-46zhMEPfvgVIkQ=s64",
      "userId": "17949550505612572826"
     },
     "user_tz": -420
    },
    "id": "FoELd5ceJr1-",
    "outputId": "53652a7b-beb0-4d05-e9a7-0e6ace3471b5"
   },
   "outputs": [
    {
     "data": {
      "text/plain": [
       "1.1026685663261666"
      ]
     },
     "execution_count": 31,
     "metadata": {
      "tags": []
     },
     "output_type": "execute_result"
    }
   ],
   "source": [
    "from sklearn.metrics import mean_squared_error\n",
    "mean_squared_error(model.predict(X_test), y_test)"
   ]
  },
  {
   "cell_type": "code",
   "execution_count": 32,
   "metadata": {
    "colab": {
     "base_uri": "https://localhost:8080/"
    },
    "executionInfo": {
     "elapsed": 1586,
     "status": "ok",
     "timestamp": 1610555671664,
     "user": {
      "displayName": "K.T.G. Hiếu",
      "photoUrl": "https://lh3.googleusercontent.com/a-/AOh14GgS8y4OlJuJEmuIVXBNLZtqhvE-46zhMEPfvgVIkQ=s64",
      "userId": "17949550505612572826"
     },
     "user_tz": -420
    },
    "id": "qg30tDXZKn1H",
    "outputId": "aecc4015-af72-4ecc-8eed-4c9478cf0fe5"
   },
   "outputs": [
    {
     "data": {
      "text/plain": [
       "0.5524651467637168"
      ]
     },
     "execution_count": 32,
     "metadata": {
      "tags": []
     },
     "output_type": "execute_result"
    }
   ],
   "source": [
    "from sklearn.metrics import mean_absolute_error\n",
    "mean_absolute_error(model.predict(X_test), y_test)"
   ]
  },
  {
   "cell_type": "markdown",
   "metadata": {
    "id": "ruCh2Pnulfgy"
   },
   "source": [
    "The RMSE score is very good (close to 1)\n",
    "# Example usage: Recommend products for user "
   ]
  },
  {
   "cell_type": "code",
   "execution_count": 33,
   "metadata": {
    "executionInfo": {
     "elapsed": 512,
     "status": "ok",
     "timestamp": 1610555673031,
     "user": {
      "displayName": "K.T.G. Hiếu",
      "photoUrl": "https://lh3.googleusercontent.com/a-/AOh14GgS8y4OlJuJEmuIVXBNLZtqhvE-46zhMEPfvgVIkQ=s64",
      "userId": "17949550505612572826"
     },
     "user_tz": -420
    },
    "id": "izFl_hZqF2f0"
   },
   "outputs": [],
   "source": [
    "def collaborative_recommender(customer_id):\n",
    "    #Compute the predicted ratings using the SVR filter\n",
    "    product_ids = product_df['id'].unique()\n",
    "    id_pairs = np.array([(customer_id, product_id) for product_id in product_ids])\n",
    "    ratings_est = model.predict(id_pairs)\n",
    "    products = pd.Series(ratings_est, index=product_ids)\n",
    "    #Sort the products in decreasing order of predicted rating\n",
    "    products = products.sort_values(ascending=False)\n",
    "    \n",
    "    #Return the top 10 products as recommendations\n",
    "    return product_df[product_df['id'].isin(products.head(10).index)]"
   ]
  },
  {
   "cell_type": "markdown",
   "metadata": {
    "id": "ioD_zxV2llwU"
   },
   "source": [
    "## User ID 1874401 : Nguyen Trung"
   ]
  },
  {
   "cell_type": "code",
   "execution_count": 34,
   "metadata": {
    "executionInfo": {
     "elapsed": 825,
     "status": "ok",
     "timestamp": 1610555677009,
     "user": {
      "displayName": "K.T.G. Hiếu",
      "photoUrl": "https://lh3.googleusercontent.com/a-/AOh14GgS8y4OlJuJEmuIVXBNLZtqhvE-46zhMEPfvgVIkQ=s64",
      "userId": "17949550505612572826"
     },
     "user_tz": -420
    },
    "id": "4MVvWgvQI666"
   },
   "outputs": [],
   "source": [
    "customer_id = 1874401"
   ]
  },
  {
   "cell_type": "markdown",
   "metadata": {
    "id": "oHWggSy1mDQf"
   },
   "source": [
    "Get customer name"
   ]
  },
  {
   "cell_type": "code",
   "execution_count": 35,
   "metadata": {
    "colab": {
     "base_uri": "https://localhost:8080/"
    },
    "executionInfo": {
     "elapsed": 960,
     "status": "ok",
     "timestamp": 1610555677858,
     "user": {
      "displayName": "K.T.G. Hiếu",
      "photoUrl": "https://lh3.googleusercontent.com/a-/AOh14GgS8y4OlJuJEmuIVXBNLZtqhvE-46zhMEPfvgVIkQ=s64",
      "userId": "17949550505612572826"
     },
     "user_tz": -420
    },
    "id": "VEjbu7lGlqYT",
    "outputId": "492ed771-ad21-41bc-ee7c-9ca0d003de1b"
   },
   "outputs": [
    {
     "data": {
      "text/plain": [
       "customer_id           1874401\n",
       "customer_name    Nguyen Trung\n",
       "Name: 11, dtype: object"
      ]
     },
     "execution_count": 35,
     "metadata": {
      "tags": []
     },
     "output_type": "execute_result"
    }
   ],
   "source": [
    "orig_ratings[orig_ratings['customer_id']==customer_id].iloc[0,[0,8]]"
   ]
  },
  {
   "cell_type": "markdown",
   "metadata": {
    "id": "iw5BYRDZlz8-"
   },
   "source": [
    "### Previous bought products"
   ]
  },
  {
   "cell_type": "code",
   "execution_count": 36,
   "metadata": {
    "colab": {
     "base_uri": "https://localhost:8080/",
     "height": 289
    },
    "executionInfo": {
     "elapsed": 909,
     "status": "ok",
     "timestamp": 1610555679908,
     "user": {
      "displayName": "K.T.G. Hiếu",
      "photoUrl": "https://lh3.googleusercontent.com/a-/AOh14GgS8y4OlJuJEmuIVXBNLZtqhvE-46zhMEPfvgVIkQ=s64",
      "userId": "17949550505612572826"
     },
     "user_tz": -420
    },
    "id": "Lwv8tD1Kl0h_",
    "outputId": "5f839d93-5434-4b40-e0ad-f92a4830814c"
   },
   "outputs": [
    {
     "data": {
      "text/html": [
       "<div>\n",
       "<style scoped>\n",
       "    .dataframe tbody tr th:only-of-type {\n",
       "        vertical-align: middle;\n",
       "    }\n",
       "\n",
       "    .dataframe tbody tr th {\n",
       "        vertical-align: top;\n",
       "    }\n",
       "\n",
       "    .dataframe thead th {\n",
       "        text-align: right;\n",
       "    }\n",
       "</style>\n",
       "<table border=\"1\" class=\"dataframe\">\n",
       "  <thead>\n",
       "    <tr style=\"text-align: right;\">\n",
       "      <th></th>\n",
       "      <th>id</th>\n",
       "      <th>name</th>\n",
       "      <th>review_count</th>\n",
       "      <th>rating_average</th>\n",
       "      <th>price</th>\n",
       "      <th>description</th>\n",
       "      <th>category</th>\n",
       "      <th>category_name</th>\n",
       "      <th>description_token</th>\n",
       "    </tr>\n",
       "  </thead>\n",
       "  <tbody>\n",
       "    <tr>\n",
       "      <th>0</th>\n",
       "      <td>21299202</td>\n",
       "      <td>Cáp sạc và truyền dữ liệu tốc độ cao Baseus Ho...</td>\n",
       "      <td>216</td>\n",
       "      <td>4.5</td>\n",
       "      <td>67000</td>\n",
       "      <td>Hỗ trợ dòng lên đến 2.4 A , cho tốc độ sạc nha...</td>\n",
       "      <td>1815</td>\n",
       "      <td>Thiết Bị Số - Phụ Kiện Số/Phụ Kiện Điện Thoại ...</td>\n",
       "      <td>hỗ_trợ dòng lên đến 2.4 a , cho tốc_độ sạc nha...</td>\n",
       "    </tr>\n",
       "    <tr>\n",
       "      <th>1392</th>\n",
       "      <td>10697849</td>\n",
       "      <td>TotoLink N150UA - USB Wi-Fi Chuẩn N 150Mbps - ...</td>\n",
       "      <td>32</td>\n",
       "      <td>4.5</td>\n",
       "      <td>111000</td>\n",
       "      <td>Tiêu chuẩn: IEEE 802.11 b/g/n Tốc độ 150Mbps K...</td>\n",
       "      <td>4294</td>\n",
       "      <td>Laptop - Máy Vi Tính - Linh kiện/Thiết Bị Mạng...</td>\n",
       "      <td>tiêu_chuẩn : ieee 802.11 b / g / n tốc_độ 150m...</td>\n",
       "    </tr>\n",
       "    <tr>\n",
       "      <th>3607</th>\n",
       "      <td>6772415</td>\n",
       "      <td>Lò Nướng Điện Sunhouse SHD4206 (10L) - Hàng ch...</td>\n",
       "      <td>1069</td>\n",
       "      <td>4.5</td>\n",
       "      <td>359000</td>\n",
       "      <td>Dung tích: 10L Công suất: 800W Sản phẩm này có...</td>\n",
       "      <td>1882</td>\n",
       "      <td>Điện Gia Dụng/Đồ dùng nhà bếp/Lò nướng điện/Lò...</td>\n",
       "      <td>dung_tích : 10l công_suất : 800w sản_phẩm này ...</td>\n",
       "    </tr>\n",
       "    <tr>\n",
       "      <th>5828</th>\n",
       "      <td>356371</td>\n",
       "      <td>Ổ Cứng Di Động Transcend StoreJet M3S 1TB USB ...</td>\n",
       "      <td>138</td>\n",
       "      <td>4.5</td>\n",
       "      <td>1393500</td>\n",
       "      <td>Loại ổ cứng: ổ cứng di động Kết nối: USB 2.0/U...</td>\n",
       "      <td>1827</td>\n",
       "      <td>Laptop - Máy Vi Tính - Linh kiện/Thiết Bị Lưu ...</td>\n",
       "      <td>loại ổ_cứng : ổ_cứng di_động kết_nối : usb 2.0...</td>\n",
       "    </tr>\n",
       "    <tr>\n",
       "      <th>8253</th>\n",
       "      <td>19696906</td>\n",
       "      <td>Bộ 5 Dây Ngũ Sắc Đàn Hồi Tập Thể Hình, Tập Gym...</td>\n",
       "      <td>114</td>\n",
       "      <td>4.5</td>\n",
       "      <td>175000</td>\n",
       "      <td>Sản phẩm đa năng tập được tất cả các nhóm cơ M...</td>\n",
       "      <td>1975</td>\n",
       "      <td>Thể Thao - Dã Ngoại/Dụng cụ - thiết bị tập thể...</td>\n",
       "      <td>sản_phẩm đa_năng tập được tất_cả các nhóm cơ m...</td>\n",
       "    </tr>\n",
       "  </tbody>\n",
       "</table>\n",
       "</div>"
      ],
      "text/plain": [
       "            id  ...                                  description_token\n",
       "0     21299202  ...  hỗ_trợ dòng lên đến 2.4 a , cho tốc_độ sạc nha...\n",
       "1392  10697849  ...  tiêu_chuẩn : ieee 802.11 b / g / n tốc_độ 150m...\n",
       "3607   6772415  ...  dung_tích : 10l công_suất : 800w sản_phẩm này ...\n",
       "5828    356371  ...  loại ổ_cứng : ổ_cứng di_động kết_nối : usb 2.0...\n",
       "8253  19696906  ...  sản_phẩm đa_năng tập được tất_cả các nhóm cơ m...\n",
       "\n",
       "[5 rows x 9 columns]"
      ]
     },
     "execution_count": 36,
     "metadata": {
      "tags": []
     },
     "output_type": "execute_result"
    }
   ],
   "source": [
    "product_df[product_df['id'].isin(orig_ratings[orig_ratings['customer_id'] == customer_id]['product_id'])].head()"
   ]
  },
  {
   "cell_type": "markdown",
   "metadata": {
    "id": "Jl45_HgKl98m"
   },
   "source": [
    "### Recommended products"
   ]
  },
  {
   "cell_type": "code",
   "execution_count": 37,
   "metadata": {
    "colab": {
     "base_uri": "https://localhost:8080/",
     "height": 529
    },
    "executionInfo": {
     "elapsed": 3685,
     "status": "ok",
     "timestamp": 1610555683826,
     "user": {
      "displayName": "K.T.G. Hiếu",
      "photoUrl": "https://lh3.googleusercontent.com/a-/AOh14GgS8y4OlJuJEmuIVXBNLZtqhvE-46zhMEPfvgVIkQ=s64",
      "userId": "17949550505612572826"
     },
     "user_tz": -420
    },
    "id": "AQJd6iB3l-ji",
    "outputId": "bd7b4d69-805f-4f26-f037-2d9caccd67b2"
   },
   "outputs": [
    {
     "data": {
      "text/html": [
       "<div>\n",
       "<style scoped>\n",
       "    .dataframe tbody tr th:only-of-type {\n",
       "        vertical-align: middle;\n",
       "    }\n",
       "\n",
       "    .dataframe tbody tr th {\n",
       "        vertical-align: top;\n",
       "    }\n",
       "\n",
       "    .dataframe thead th {\n",
       "        text-align: right;\n",
       "    }\n",
       "</style>\n",
       "<table border=\"1\" class=\"dataframe\">\n",
       "  <thead>\n",
       "    <tr style=\"text-align: right;\">\n",
       "      <th></th>\n",
       "      <th>id</th>\n",
       "      <th>name</th>\n",
       "      <th>review_count</th>\n",
       "      <th>rating_average</th>\n",
       "      <th>price</th>\n",
       "      <th>description</th>\n",
       "      <th>category</th>\n",
       "      <th>category_name</th>\n",
       "      <th>description_token</th>\n",
       "    </tr>\n",
       "  </thead>\n",
       "  <tbody>\n",
       "    <tr>\n",
       "      <th>6840</th>\n",
       "      <td>35355630</td>\n",
       "      <td>Dép nam, nữ xỏ ngón thời trang T334K</td>\n",
       "      <td>40</td>\n",
       "      <td>4.5</td>\n",
       "      <td>73000</td>\n",
       "      <td>Dép làm từ chất liệu cao su cao cấp, chắc chắn...</td>\n",
       "      <td>914</td>\n",
       "      <td>Giày - Dép nam/Dép nam/Dép nam xỏ ngón</td>\n",
       "      <td>dép làm từ chất_liệu cao_su cao_cấp , chắc_chắ...</td>\n",
       "    </tr>\n",
       "    <tr>\n",
       "      <th>6959</th>\n",
       "      <td>35355941</td>\n",
       "      <td>Dép nam, nữ quai ngang thời trang T335K</td>\n",
       "      <td>28</td>\n",
       "      <td>4.5</td>\n",
       "      <td>77000</td>\n",
       "      <td>Dép làm từ chất liệu xốp eva cao cấp, chắc chắ...</td>\n",
       "      <td>914</td>\n",
       "      <td>Giày - Dép nam/Dép nam/Dép nam quai ngang</td>\n",
       "      <td>dép làm từ chất_liệu xốp eva cao_cấp , chắc_ch...</td>\n",
       "    </tr>\n",
       "    <tr>\n",
       "      <th>7767</th>\n",
       "      <td>35358455</td>\n",
       "      <td>HealthFit – Gói tập 12 tháng tất cả các môn Yo...</td>\n",
       "      <td>0</td>\n",
       "      <td>0.0</td>\n",
       "      <td>2110000</td>\n",
       "      <td>TRẢI NGHIỆM CHƯƠNG TRÌNH HỌC PT GX (1 kèm 1) C...</td>\n",
       "      <td>11312</td>\n",
       "      <td>Voucher - Dịch vụ/Spa &amp; Làm đẹp/Phòng tập/GYM</td>\n",
       "      <td>trải nghiệm chương_trình học pt gx ( 1 kèm 1 )...</td>\n",
       "    </tr>\n",
       "    <tr>\n",
       "      <th>9815</th>\n",
       "      <td>35364467</td>\n",
       "      <td>Cặp gài kính silicon chống rơi rớt tiện lợi</td>\n",
       "      <td>159</td>\n",
       "      <td>4.5</td>\n",
       "      <td>28000</td>\n",
       "      <td>Nhẹ và thoải mái. Dẻo bền. Có thể sử dụng hàng...</td>\n",
       "      <td>914</td>\n",
       "      <td>Phụ kiện thời trang/Mắt kính/Phụ kiện kính</td>\n",
       "      <td>nhẹ và thoải_mái . dẻo bền . có_thể sử_dụng hà...</td>\n",
       "    </tr>\n",
       "    <tr>\n",
       "      <th>10704</th>\n",
       "      <td>35367014</td>\n",
       "      <td>Thảm Tập YoGa, Gym miDoctor + Bao Thảm Tập Yog...</td>\n",
       "      <td>492</td>\n",
       "      <td>4.5</td>\n",
       "      <td>155000</td>\n",
       "      <td>Thảm Tập Yoga Chính Hãng miDoctor + Bao Thảm T...</td>\n",
       "      <td>1975</td>\n",
       "      <td>Thể Thao - Dã Ngoại/Các môn thể thao khác/Yoga...</td>\n",
       "      <td>thảm tập yoga chính hãng midoctor + bao thảm t...</td>\n",
       "    </tr>\n",
       "    <tr>\n",
       "      <th>11194</th>\n",
       "      <td>35368490</td>\n",
       "      <td>Chảo đáy từ vân đá chống dính GREEN COOK...</td>\n",
       "      <td>47</td>\n",
       "      <td>4.5</td>\n",
       "      <td>155000</td>\n",
       "      <td>Chống dính ưu việt Sử dụng được cho bếp...</td>\n",
       "      <td>1883</td>\n",
       "      <td>Nhà Cửa - Đời Sống/Dụng cụ nhà bếp/Dụng cụ nấu...</td>\n",
       "      <td>chống dính ưu_việt sử_dụng được cho bếp từ an_...</td>\n",
       "    </tr>\n",
       "    <tr>\n",
       "      <th>12662</th>\n",
       "      <td>35373097</td>\n",
       "      <td>Tai Nghe Bluetooth True Wireless AMOI F9 5.0 C...</td>\n",
       "      <td>58</td>\n",
       "      <td>3.5</td>\n",
       "      <td>165000</td>\n",
       "      <td>Tai nghe bluetooth AMOI F9 mang lại trải nghiệ...</td>\n",
       "      <td>1811</td>\n",
       "      <td>Thiết Bị Số - Phụ Kiện Số/Thiết Bị Âm Thanh và...</td>\n",
       "      <td>tai_nghe bluetooth amoi f9 mang lại trải nghiệ...</td>\n",
       "    </tr>\n",
       "    <tr>\n",
       "      <th>13093</th>\n",
       "      <td>35374344</td>\n",
       "      <td>Giày Thể Thao Nữ Sneaker Tăng Chiều Cao Độn Đế...</td>\n",
       "      <td>8</td>\n",
       "      <td>3.0</td>\n",
       "      <td>179000</td>\n",
       "      <td>Đế được làm bằng chất liệu cao su tổng ...</td>\n",
       "      <td>2</td>\n",
       "      <td>Giày - Dép nữ/Giày thể thao nữ/Giày thể thao c...</td>\n",
       "      <td>đế được làm bằng chất_liệu cao_su tổng_hợp , c...</td>\n",
       "    </tr>\n",
       "    <tr>\n",
       "      <th>13149</th>\n",
       "      <td>35374545</td>\n",
       "      <td>Túi Đeo Chéo Nữ Túi Xách Tay Nữ Thời Trang Đôn...</td>\n",
       "      <td>3</td>\n",
       "      <td>3.0</td>\n",
       "      <td>99000</td>\n",
       "      <td>Chất liệu: PU Kiểu: họa tiết trơn Phong cách: ...</td>\n",
       "      <td>2</td>\n",
       "      <td>Túi thời trang nữ/Túi đeo chéo, túi đeo vai nữ...</td>\n",
       "      <td>chất_liệu : pu kiểu : họa tiết trơn phong_cách...</td>\n",
       "    </tr>\n",
       "    <tr>\n",
       "      <th>13696</th>\n",
       "      <td>35376243</td>\n",
       "      <td>Cáp micro-USB sạc nhanh và truyền dữ liệu ZCC-...</td>\n",
       "      <td>75</td>\n",
       "      <td>4.5</td>\n",
       "      <td>29000</td>\n",
       "      <td>Cổng kết nối: micro-USB Cáp sạc nhanh (2.4A) v...</td>\n",
       "      <td>2</td>\n",
       "      <td>Thiết Bị Số - Phụ Kiện Số/Phụ Kiện Điện Thoại ...</td>\n",
       "      <td>cổng kết_nối : micro - usb cáp sạc nhanh ( 2.4...</td>\n",
       "    </tr>\n",
       "  </tbody>\n",
       "</table>\n",
       "</div>"
      ],
      "text/plain": [
       "             id  ...                                  description_token\n",
       "6840   35355630  ...  dép làm từ chất_liệu cao_su cao_cấp , chắc_chắ...\n",
       "6959   35355941  ...  dép làm từ chất_liệu xốp eva cao_cấp , chắc_ch...\n",
       "7767   35358455  ...  trải nghiệm chương_trình học pt gx ( 1 kèm 1 )...\n",
       "9815   35364467  ...  nhẹ và thoải_mái . dẻo bền . có_thể sử_dụng hà...\n",
       "10704  35367014  ...  thảm tập yoga chính hãng midoctor + bao thảm t...\n",
       "11194  35368490  ...  chống dính ưu_việt sử_dụng được cho bếp từ an_...\n",
       "12662  35373097  ...  tai_nghe bluetooth amoi f9 mang lại trải nghiệ...\n",
       "13093  35374344  ...  đế được làm bằng chất_liệu cao_su tổng_hợp , c...\n",
       "13149  35374545  ...  chất_liệu : pu kiểu : họa tiết trơn phong_cách...\n",
       "13696  35376243  ...  cổng kết_nối : micro - usb cáp sạc nhanh ( 2.4...\n",
       "\n",
       "[10 rows x 9 columns]"
      ]
     },
     "execution_count": 37,
     "metadata": {
      "tags": []
     },
     "output_type": "execute_result"
    }
   ],
   "source": [
    "collaborative_recommender(customer_id)"
   ]
  },
  {
   "cell_type": "code",
   "execution_count": null,
   "metadata": {
    "id": "9wwh2GdomWU5"
   },
   "outputs": [],
   "source": []
  }
 ],
 "metadata": {
  "colab": {
   "collapsed_sections": [],
   "name": "TikiRecommender.ipynb",
   "provenance": []
  },
  "kernelspec": {
   "display_name": "ds",
   "language": "python",
   "name": "ds"
  },
  "language_info": {
   "codemirror_mode": {
    "name": "ipython",
    "version": 3
   },
   "file_extension": ".py",
   "mimetype": "text/x-python",
   "name": "python",
   "nbconvert_exporter": "python",
   "pygments_lexer": "ipython3",
   "version": "3.6.9"
  }
 },
 "nbformat": 4,
 "nbformat_minor": 4
}
