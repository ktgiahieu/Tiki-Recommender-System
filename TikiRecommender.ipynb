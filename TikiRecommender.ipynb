{
 "cells": [
  {
   "cell_type": "markdown",
   "metadata": {
    "id": "rKEdw1SH8NQE"
   },
   "source": [
    "# Content Based Recommender"
   ]
  },
  {
   "cell_type": "code",
   "execution_count": 199,
   "metadata": {
    "colab": {
     "base_uri": "https://localhost:8080/",
     "height": 204
    },
    "executionInfo": {
     "elapsed": 57626,
     "status": "ok",
     "timestamp": 1610555287166,
     "user": {
      "displayName": "K.T.G. Hiếu",
      "photoUrl": "https://lh3.googleusercontent.com/a-/AOh14GgS8y4OlJuJEmuIVXBNLZtqhvE-46zhMEPfvgVIkQ=s64",
      "userId": "17949550505612572826"
     },
     "user_tz": -420
    },
    "id": "LFYIwEJj8NQG",
    "outputId": "c225f4dc-efb4-448b-f790-4b41fce129c0"
   },
   "outputs": [
    {
     "data": {
      "text/html": [
       "<div>\n",
       "<style scoped>\n",
       "    .dataframe tbody tr th:only-of-type {\n",
       "        vertical-align: middle;\n",
       "    }\n",
       "\n",
       "    .dataframe tbody tr th {\n",
       "        vertical-align: top;\n",
       "    }\n",
       "\n",
       "    .dataframe thead th {\n",
       "        text-align: right;\n",
       "    }\n",
       "</style>\n",
       "<table border=\"1\" class=\"dataframe\">\n",
       "  <thead>\n",
       "    <tr style=\"text-align: right;\">\n",
       "      <th></th>\n",
       "      <th>id</th>\n",
       "      <th>name</th>\n",
       "      <th>review_count</th>\n",
       "      <th>rating_average</th>\n",
       "      <th>price</th>\n",
       "      <th>description</th>\n",
       "      <th>category</th>\n",
       "      <th>category_name</th>\n",
       "    </tr>\n",
       "  </thead>\n",
       "  <tbody>\n",
       "    <tr>\n",
       "      <th>0</th>\n",
       "      <td>21299202</td>\n",
       "      <td>Cáp sạc và truyền dữ liệu tốc độ cao Baseus Ho...</td>\n",
       "      <td>216</td>\n",
       "      <td>4.5</td>\n",
       "      <td>67000</td>\n",
       "      <td>Hỗ trợ dòng lên đến 2.4 A , cho tốc độ sạc nha...</td>\n",
       "      <td>1815</td>\n",
       "      <td>Thiết Bị Số - Phụ Kiện Số/Phụ Kiện Điện Thoại ...</td>\n",
       "    </tr>\n",
       "    <tr>\n",
       "      <th>1</th>\n",
       "      <td>44105732</td>\n",
       "      <td>Dép sục unisex duet độn đế, chống trượt Litic ...</td>\n",
       "      <td>27</td>\n",
       "      <td>3.5</td>\n",
       "      <td>148500</td>\n",
       "      <td>Tiện lợi, bền đẹp, siêu nhẹ Độn đế tinh tế, kh...</td>\n",
       "      <td>914</td>\n",
       "      <td>Giày - Dép nữ/Giày lười nữ/Giày lười hở gót</td>\n",
       "    </tr>\n",
       "    <tr>\n",
       "      <th>2</th>\n",
       "      <td>54132740</td>\n",
       "      <td>bình thông hơi dành cho xe máy tặng bao tay xe...</td>\n",
       "      <td>4</td>\n",
       "      <td>4.5</td>\n",
       "      <td>199000</td>\n",
       "      <td>bình thông hơi dành cho xe máy tặng bao tay xe...</td>\n",
       "      <td>6061</td>\n",
       "      <td>Ô Tô - Xe Máy - Xe Đạp/Phụ kiện - Chăm sóc xe/...</td>\n",
       "    </tr>\n",
       "    <tr>\n",
       "      <th>3</th>\n",
       "      <td>65011722</td>\n",
       "      <td>Đồng Hồ Nam FNGEEN FE230  mặt đồng hồ tròn, th...</td>\n",
       "      <td>19</td>\n",
       "      <td>4.5</td>\n",
       "      <td>179000</td>\n",
       "      <td>Mặt đồng hồ tròn, thiết kế đẹp mắt, sáng bóng ...</td>\n",
       "      <td>914</td>\n",
       "      <td>Đồng hồ và Trang sức/Đồng hồ nam/Đồng hồ busin...</td>\n",
       "    </tr>\n",
       "    <tr>\n",
       "      <th>4</th>\n",
       "      <td>7995403</td>\n",
       "      <td>Giày Sneaker Unisex Converse Chuck Taylor All ...</td>\n",
       "      <td>19</td>\n",
       "      <td>5.0</td>\n",
       "      <td>1500000</td>\n",
       "      <td>Đường may vô cùng tỉ mỉ, tinh tế Chất vải canv...</td>\n",
       "      <td>49620</td>\n",
       "      <td>Giày - Dép nam/Giày thể thao nam/Giày thể thao...</td>\n",
       "    </tr>\n",
       "  </tbody>\n",
       "</table>\n",
       "</div>"
      ],
      "text/plain": [
       "         id                                               name  review_count  \\\n",
       "0  21299202  Cáp sạc và truyền dữ liệu tốc độ cao Baseus Ho...           216   \n",
       "1  44105732  Dép sục unisex duet độn đế, chống trượt Litic ...            27   \n",
       "2  54132740  bình thông hơi dành cho xe máy tặng bao tay xe...             4   \n",
       "3  65011722  Đồng Hồ Nam FNGEEN FE230  mặt đồng hồ tròn, th...            19   \n",
       "4   7995403  Giày Sneaker Unisex Converse Chuck Taylor All ...            19   \n",
       "\n",
       "   rating_average    price                                        description  \\\n",
       "0             4.5    67000  Hỗ trợ dòng lên đến 2.4 A , cho tốc độ sạc nha...   \n",
       "1             3.5   148500  Tiện lợi, bền đẹp, siêu nhẹ Độn đế tinh tế, kh...   \n",
       "2             4.5   199000  bình thông hơi dành cho xe máy tặng bao tay xe...   \n",
       "3             4.5   179000  Mặt đồng hồ tròn, thiết kế đẹp mắt, sáng bóng ...   \n",
       "4             5.0  1500000  Đường may vô cùng tỉ mỉ, tinh tế Chất vải canv...   \n",
       "\n",
       "   category                                      category_name  \n",
       "0      1815  Thiết Bị Số - Phụ Kiện Số/Phụ Kiện Điện Thoại ...  \n",
       "1       914        Giày - Dép nữ/Giày lười nữ/Giày lười hở gót  \n",
       "2      6061  Ô Tô - Xe Máy - Xe Đạp/Phụ kiện - Chăm sóc xe/...  \n",
       "3       914  Đồng hồ và Trang sức/Đồng hồ nam/Đồng hồ busin...  \n",
       "4     49620  Giày - Dép nam/Giày thể thao nam/Giày thể thao...  "
      ]
     },
     "execution_count": 199,
     "metadata": {},
     "output_type": "execute_result"
    }
   ],
   "source": [
    "import pandas as pd\n",
    "import numpy as np\n",
    "from pyvi import ViTokenizer\n",
    "import glob\n",
    "from collections import Counter\n",
    "from string import punctuation\n",
    "\n",
    "#Import data from the clean file \n",
    "product_df = pd.read_csv('product_info_clean.csv', index_col = 0)\n",
    "\n",
    "#Print the head of the cleaned DataFrame\n",
    "product_df.head()"
   ]
  },
  {
   "cell_type": "code",
   "execution_count": 5,
   "metadata": {
    "colab": {
     "base_uri": "https://localhost:8080/"
    },
    "executionInfo": {
     "elapsed": 57972,
     "status": "ok",
     "timestamp": 1610555287516,
     "user": {
      "displayName": "K.T.G. Hiếu",
      "photoUrl": "https://lh3.googleusercontent.com/a-/AOh14GgS8y4OlJuJEmuIVXBNLZtqhvE-46zhMEPfvgVIkQ=s64",
      "userId": "17949550505612572826"
     },
     "user_tz": -420
    },
    "id": "uBVcoia48NQI",
    "outputId": "047ec22a-968e-493c-e5af-a20673624c38"
   },
   "outputs": [
    {
     "name": "stdout",
     "output_type": "stream",
     "text": [
      "['bị', 'bởi', 'cả', 'các', 'cái', 'cần', 'càng', 'chỉ', 'chiếc', 'cho', 'chứ', 'chưa', 'chuyện', 'có', 'có_thể', 'cứ', 'của', 'cùng', 'cũng', 'đã', 'đang', 'đây', 'để', 'đến_nỗi', 'đều', 'điều', 'do', 'đó', 'được', 'dưới', 'gì', 'khi', 'không', 'là', 'lại', 'lên', 'lúc', 'mà', 'mỗi', 'một_cách', 'này', 'nên', 'nếu', 'ngay', 'nhiều', 'như', 'nhưng', 'những', 'nơi', 'nữa', 'phải', 'qua', 'ra', 'rằng', 'rằng', 'rất', 'rất', 'rồi', 'sau', 'sẽ', 'so', 'sự', 'tại', 'theo', 'thì', 'trên', 'trước', 'từ', 'từng', 'và', 'vẫn', 'vào', 'vậy', 'vì', 'việc', 'với', 'vừa', '!', '\"', '#', '$', '%', '&', \"'\", ',', '*', '+', ',', '-', '.', '/', ':', ';', '<', '=', '>', '?', '@', '[', '\\\\\\\\', ']', '^', '_', '`', '{', '|', '}', '~', '!', '\"', '#', '$', '%', '&', \"'\", '(', ')', '*', '+', ',', '-', '.', '/', ':', ';', '<', '=', '>', '?', '@', '[', '\\\\', ']', '^', '_', '`', '{', '|', '}', '~']\n"
     ]
    }
   ],
   "source": [
    "stop_word = []\n",
    "with open(\"stop_word.txt\",encoding=\"utf-8\") as f:\n",
    "    text = f.read()\n",
    "    for word in text.split() :\n",
    "        stop_word.append(word)\n",
    "    f.close()\n",
    "punc = list(punctuation)\n",
    "stop_word = stop_word + punc\n",
    "print(stop_word)"
   ]
  },
  {
   "cell_type": "code",
   "execution_count": 6,
   "metadata": {
    "colab": {
     "base_uri": "https://localhost:8080/",
     "height": 289
    },
    "executionInfo": {
     "elapsed": 201917,
     "status": "ok",
     "timestamp": 1610555431464,
     "user": {
      "displayName": "K.T.G. Hiếu",
      "photoUrl": "https://lh3.googleusercontent.com/a-/AOh14GgS8y4OlJuJEmuIVXBNLZtqhvE-46zhMEPfvgVIkQ=s64",
      "userId": "17949550505612572826"
     },
     "user_tz": -420
    },
    "id": "orfNH_gY8NQJ",
    "outputId": "9ef19544-7188-4aa3-df9d-0f90d7e76c3a"
   },
   "outputs": [
    {
     "data": {
      "text/html": [
       "<div>\n",
       "<style scoped>\n",
       "    .dataframe tbody tr th:only-of-type {\n",
       "        vertical-align: middle;\n",
       "    }\n",
       "\n",
       "    .dataframe tbody tr th {\n",
       "        vertical-align: top;\n",
       "    }\n",
       "\n",
       "    .dataframe thead th {\n",
       "        text-align: right;\n",
       "    }\n",
       "</style>\n",
       "<table border=\"1\" class=\"dataframe\">\n",
       "  <thead>\n",
       "    <tr style=\"text-align: right;\">\n",
       "      <th></th>\n",
       "      <th>id</th>\n",
       "      <th>name</th>\n",
       "      <th>review_count</th>\n",
       "      <th>rating_average</th>\n",
       "      <th>price</th>\n",
       "      <th>description</th>\n",
       "      <th>category</th>\n",
       "      <th>category_name</th>\n",
       "      <th>description_token</th>\n",
       "    </tr>\n",
       "  </thead>\n",
       "  <tbody>\n",
       "    <tr>\n",
       "      <th>0</th>\n",
       "      <td>21299202</td>\n",
       "      <td>Cáp sạc và truyền dữ liệu tốc độ cao Baseus Ho...</td>\n",
       "      <td>216</td>\n",
       "      <td>4.5</td>\n",
       "      <td>67000</td>\n",
       "      <td>Hỗ trợ dòng lên đến 2.4 A , cho tốc độ sạc nha...</td>\n",
       "      <td>1815</td>\n",
       "      <td>Thiết Bị Số - Phụ Kiện Số/Phụ Kiện Điện Thoại ...</td>\n",
       "      <td>hỗ_trợ dòng lên đến 2.4 a , cho tốc_độ sạc nha...</td>\n",
       "    </tr>\n",
       "    <tr>\n",
       "      <th>1</th>\n",
       "      <td>44105732</td>\n",
       "      <td>Dép sục unisex duet độn đế, chống trượt Litic ...</td>\n",
       "      <td>27</td>\n",
       "      <td>3.5</td>\n",
       "      <td>148500</td>\n",
       "      <td>Tiện lợi, bền đẹp, siêu nhẹ Độn đế tinh tế, kh...</td>\n",
       "      <td>914</td>\n",
       "      <td>Giày - Dép nữ/Giày lười nữ/Giày lười hở gót</td>\n",
       "      <td>tiện_lợi , bền đẹp , siêu nhẹ độn đế tinh_tế ,...</td>\n",
       "    </tr>\n",
       "    <tr>\n",
       "      <th>2</th>\n",
       "      <td>54132740</td>\n",
       "      <td>bình thông hơi dành cho xe máy tặng bao tay xe...</td>\n",
       "      <td>4</td>\n",
       "      <td>4.5</td>\n",
       "      <td>199000</td>\n",
       "      <td>bình thông hơi dành cho xe máy tặng bao tay xe...</td>\n",
       "      <td>6061</td>\n",
       "      <td>Ô Tô - Xe Máy - Xe Đạp/Phụ kiện - Chăm sóc xe/...</td>\n",
       "      <td>bình thông hơi dành cho xe_máy tặng bao_tay xe...</td>\n",
       "    </tr>\n",
       "    <tr>\n",
       "      <th>3</th>\n",
       "      <td>65011722</td>\n",
       "      <td>Đồng Hồ Nam FNGEEN FE230  mặt đồng hồ tròn, th...</td>\n",
       "      <td>19</td>\n",
       "      <td>4.5</td>\n",
       "      <td>179000</td>\n",
       "      <td>Mặt đồng hồ tròn, thiết kế đẹp mắt, sáng bóng ...</td>\n",
       "      <td>914</td>\n",
       "      <td>Đồng hồ và Trang sức/Đồng hồ nam/Đồng hồ busin...</td>\n",
       "      <td>mặt đồng_hồ tròn , thiết_kế đẹp_mắt , sáng bón...</td>\n",
       "    </tr>\n",
       "    <tr>\n",
       "      <th>4</th>\n",
       "      <td>7995403</td>\n",
       "      <td>Giày Sneaker Unisex Converse Chuck Taylor All ...</td>\n",
       "      <td>19</td>\n",
       "      <td>5.0</td>\n",
       "      <td>1500000</td>\n",
       "      <td>Đường may vô cùng tỉ mỉ, tinh tế Chất vải canv...</td>\n",
       "      <td>49620</td>\n",
       "      <td>Giày - Dép nam/Giày thể thao nam/Giày thể thao...</td>\n",
       "      <td>đường may vô_cùng tỉ_mỉ , tinh_tế chất vải can...</td>\n",
       "    </tr>\n",
       "  </tbody>\n",
       "</table>\n",
       "</div>"
      ],
      "text/plain": [
       "         id  ...                                  description_token\n",
       "0  21299202  ...  hỗ_trợ dòng lên đến 2.4 a , cho tốc_độ sạc nha...\n",
       "1  44105732  ...  tiện_lợi , bền đẹp , siêu nhẹ độn đế tinh_tế ,...\n",
       "2  54132740  ...  bình thông hơi dành cho xe_máy tặng bao_tay xe...\n",
       "3  65011722  ...  mặt đồng_hồ tròn , thiết_kế đẹp_mắt , sáng bón...\n",
       "4   7995403  ...  đường may vô_cùng tỉ_mỉ , tinh_tế chất vải can...\n",
       "\n",
       "[5 rows x 9 columns]"
      ]
     },
     "execution_count": 6,
     "metadata": {
      "tags": []
     },
     "output_type": "execute_result"
    }
   ],
   "source": [
    "def clean_text(text):\n",
    "    text_lower = text.lower()\n",
    "    text_token = ViTokenizer.tokenize(text_lower)\n",
    "    \n",
    "    sent = []\n",
    "    for word in text_token.split(\"_\\s\") :\n",
    "        if (word not in stop_word) :\n",
    "            if (\"_\" in word) or (word.isalpha() == True):\n",
    "                sent.append(word)\n",
    "    return \" \".join(sent)\n",
    "\n",
    "product_df['description_token'] = product_df['description'].apply(clean_text)\n",
    "product_df.head()"
   ]
  },
  {
   "cell_type": "code",
   "execution_count": 7,
   "metadata": {
    "colab": {
     "base_uri": "https://localhost:8080/",
     "height": 35
    },
    "executionInfo": {
     "elapsed": 201916,
     "status": "ok",
     "timestamp": 1610555431465,
     "user": {
      "displayName": "K.T.G. Hiếu",
      "photoUrl": "https://lh3.googleusercontent.com/a-/AOh14GgS8y4OlJuJEmuIVXBNLZtqhvE-46zhMEPfvgVIkQ=s64",
      "userId": "17949550505612572826"
     },
     "user_tz": -420
    },
    "id": "4hNq9e1J_Vua",
    "outputId": "89d34ec7-b8e4-4580-8651-b302a093496c"
   },
   "outputs": [
    {
     "data": {
      "application/vnd.google.colaboratory.intrinsic+json": {
       "type": "string"
      },
      "text/plain": [
       "'Đồng Hồ Nam FNGEEN FE230  mặt đồng hồ tròn, thiết kế đẹp mắt, sáng bóng với tính năng hiện đại cho phái mạnh tự tin, mạng mẽ và thời trang  Dây thép không gỉ thiết kế ôm tay '"
      ]
     },
     "execution_count": 7,
     "metadata": {
      "tags": []
     },
     "output_type": "execute_result"
    }
   ],
   "source": [
    "product_df['name'].iloc[3]"
   ]
  },
  {
   "cell_type": "code",
   "execution_count": 8,
   "metadata": {
    "colab": {
     "base_uri": "https://localhost:8080/"
    },
    "executionInfo": {
     "elapsed": 206706,
     "status": "ok",
     "timestamp": 1610555436257,
     "user": {
      "displayName": "K.T.G. Hiếu",
      "photoUrl": "https://lh3.googleusercontent.com/a-/AOh14GgS8y4OlJuJEmuIVXBNLZtqhvE-46zhMEPfvgVIkQ=s64",
      "userId": "17949550505612572826"
     },
     "user_tz": -420
    },
    "id": "txdJiYLK8NQK",
    "outputId": "7bc3520d-b08b-4e25-f0d7-5f4fc7ab1467"
   },
   "outputs": [
    {
     "data": {
      "text/plain": [
       "(21838, 3000)"
      ]
     },
     "execution_count": 8,
     "metadata": {
      "tags": []
     },
     "output_type": "execute_result"
    }
   ],
   "source": [
    "#Import TfIdfVectorizer from the scikit-learn library\n",
    "from sklearn.feature_extraction.text import TfidfVectorizer\n",
    "\n",
    "#Define a TF-IDF Vectorizer Object. Remove all english stopwords\n",
    "tfidf = TfidfVectorizer(min_df=5,max_df= 0.8,max_features=3000,sublinear_tf=True)\n",
    "\n",
    "#Replace NaN with an empty string\n",
    "product_df['description_token'] = product_df['description_token'].fillna('')\n",
    "\n",
    "#Construct the required TF-IDF matrix by applying the fit_transform method on the description_token feature\n",
    "tfidf_matrix = tfidf.fit_transform(product_df['description_token'])\n",
    "\n",
    "#Output the shape of tfidf_matrix\n",
    "tfidf_matrix.shape"
   ]
  },
  {
   "cell_type": "code",
   "execution_count": 9,
   "metadata": {
    "executionInfo": {
     "elapsed": 249996,
     "status": "ok",
     "timestamp": 1610555479549,
     "user": {
      "displayName": "K.T.G. Hiếu",
      "photoUrl": "https://lh3.googleusercontent.com/a-/AOh14GgS8y4OlJuJEmuIVXBNLZtqhvE-46zhMEPfvgVIkQ=s64",
      "userId": "17949550505612572826"
     },
     "user_tz": -420
    },
    "id": "BmEN-DhX8NQK"
   },
   "outputs": [],
   "source": [
    "# Import linear_kernel to compute the dot product\n",
    "from sklearn.metrics.pairwise import linear_kernel\n",
    "\n",
    "# Compute the cosine similarity matrix\n",
    "cosine_sim = linear_kernel(tfidf_matrix, tfidf_matrix)"
   ]
  },
  {
   "cell_type": "code",
   "execution_count": 10,
   "metadata": {
    "executionInfo": {
     "elapsed": 249996,
     "status": "ok",
     "timestamp": 1610555479551,
     "user": {
      "displayName": "K.T.G. Hiếu",
      "photoUrl": "https://lh3.googleusercontent.com/a-/AOh14GgS8y4OlJuJEmuIVXBNLZtqhvE-46zhMEPfvgVIkQ=s64",
      "userId": "17949550505612572826"
     },
     "user_tz": -420
    },
    "id": "-DNsjYiK8NQL"
   },
   "outputs": [],
   "source": [
    "#Construct a reverse mapping of indices and product ids, and drop duplicate ids, if any\n",
    "indices = pd.Series(product_df.index, index=product_df['id']).drop_duplicates()"
   ]
  },
  {
   "cell_type": "code",
   "execution_count": 11,
   "metadata": {
    "executionInfo": {
     "elapsed": 249994,
     "status": "ok",
     "timestamp": 1610555479552,
     "user": {
      "displayName": "K.T.G. Hiếu",
      "photoUrl": "https://lh3.googleusercontent.com/a-/AOh14GgS8y4OlJuJEmuIVXBNLZtqhvE-46zhMEPfvgVIkQ=s64",
      "userId": "17949550505612572826"
     },
     "user_tz": -420
    },
    "id": "vvmW0DlL8NQM"
   },
   "outputs": [],
   "source": [
    "# Function that takes in product id as input and gives recommendations \n",
    "def content_recommender(id, cosine_sim=cosine_sim, product_df=product_df, indices=indices):\n",
    "    # Obtain the index of the product that matches the title\n",
    "    idx = indices[id]\n",
    "\n",
    "    # Get the pairwsie similarity scores of all products with that product\n",
    "    # And convert it into a list of tuples as described above\n",
    "    sim_scores = list(enumerate(cosine_sim[idx]))\n",
    "\n",
    "    # Sort the products based on the cosine similarity scores\n",
    "    sim_scores = sorted(sim_scores, key=lambda x: x[1], reverse=True)\n",
    "\n",
    "    # Get the scores of the 20 most similar products. Ignore the first product.\n",
    "    sim_scores = sim_scores[1:21]\n",
    "\n",
    "    # Get the product indices\n",
    "    product_indices = [i[0] for i in sim_scores]\n",
    "\n",
    "    # Return the top 20 most similar products\n",
    "    return product_df['name'].iloc[product_indices]"
   ]
  },
  {
   "cell_type": "markdown",
   "metadata": {},
   "source": [
    "### Get recommendations for \n",
    "Đồng Hồ Nam FNGEEN FE230  mặt đồng hồ tròn, thiết kế đẹp mắt, sáng bóng với tính năng hiện đại cho phái mạnh tự tin, mạng mẽ và thời trang  Dây thép không gỉ thiết kế ôm tay "
   ]
  },
  {
   "cell_type": "code",
   "execution_count": 12,
   "metadata": {
    "colab": {
     "base_uri": "https://localhost:8080/"
    },
    "executionInfo": {
     "elapsed": 249993,
     "status": "ok",
     "timestamp": 1610555479553,
     "user": {
      "displayName": "K.T.G. Hiếu",
      "photoUrl": "https://lh3.googleusercontent.com/a-/AOh14GgS8y4OlJuJEmuIVXBNLZtqhvE-46zhMEPfvgVIkQ=s64",
      "userId": "17949550505612572826"
     },
     "user_tz": -420
    },
    "id": "08SQK07m8NQM",
    "outputId": "7dc6c375-b94c-45d5-e72d-1c738fa0044d"
   },
   "outputs": [
    {
     "data": {
      "text/plain": [
       "7249     Đồng Hồ Nam FNGEEN FE708 mạ vàng mặt đồng hồ t...\n",
       "11967    Đồng Hồ Nam FNGEEN FG0541 doanh nhân 2020 Lịch...\n",
       "17822    Đồng hồ nam FNGEEN 5055 lịch ngày chính hãng n...\n",
       "17906    Đồng Hồ Nam FNGEEN F281 mặt số đính đá Lịch Ng...\n",
       "3290     Đồng hồ nam dây da thời trang - đồng hồ thể th...\n",
       "17081    Đồng hồ nam ECONOMICXI dây thép mành đen chạy ...\n",
       "13636    Đồng Hồ Nam Fourron F66 Lịch Ngày Dây Thép Cao...\n",
       "15295    Đồng hồ nam chống nước NO6216G, phong cách trẻ...\n",
       "2586     Đồng Hồ Nam Dây Thép Cao Cấp Thời Trang Lịch L...\n",
       "477      Đồng hồ nam FNGEEN fn668 Mặt rồng 3d cuộn hình...\n",
       "4799     Đồng Hồ Nam Fourron Lịch Ngày chính hãng nam s...\n",
       "4918     Đồng Hồ Nam 2 Lịch Crnaira CR049 Dây Thép Mành...\n",
       "6188     Đồng Hồ Nam Crnaira CR8333 Siêu Mỏng mặt đồng ...\n",
       "10334    Đồng hồ Nam CUENA CUN8207 Lịch ngày sang trọng...\n",
       "9980     Đồng hồ nam HALEI 564 mặt vuông thời trang cao...\n",
       "9049     Đồng Hồ Nam Chạy 6 Kim Crnaira PE90 Mặt Đính Đ...\n",
       "5144     Đồng Hồ Nam 6 Kim Crnaira C099 Dây Hợp Kim Thé...\n",
       "5007     Đồng Hồ Nam Crnaira Japan CR029 Chạy 6 kim Mặt...\n",
       "15821    Đồng Hồ Nam Kingnuos K1982 Chạy 2 Lịch  Dây Hợ...\n",
       "2389     Đồng hồ nam SIêu Mỏng YAZOLE YA502 DOanh Nhân ...\n",
       "Name: name, dtype: object"
      ]
     },
     "execution_count": 12,
     "metadata": {
      "tags": []
     },
     "output_type": "execute_result"
    }
   ],
   "source": [
    "donghonam_id = product_df[product_df['name'].str.find('Đồng Hồ Nam FNGEEN FE230  mặt đồng hồ tròn, thiết kế đẹp mắt, sáng bóng với tính năng hiện đại cho phái mạnh tự tin, mạng mẽ và thời trang  Dây thép không gỉ thiết kế ôm tay ') == 0]['id'].iloc[0]\n",
    "content_recommender(donghonam_id)"
   ]
  },
  {
   "cell_type": "code",
   "execution_count": 13,
   "metadata": {
    "colab": {
     "base_uri": "https://localhost:8080/"
    },
    "executionInfo": {
     "elapsed": 359022,
     "status": "ok",
     "timestamp": 1610555588769,
     "user": {
      "displayName": "K.T.G. Hiếu",
      "photoUrl": "https://lh3.googleusercontent.com/a-/AOh14GgS8y4OlJuJEmuIVXBNLZtqhvE-46zhMEPfvgVIkQ=s64",
      "userId": "17949550505612572826"
     },
     "user_tz": -420
    },
    "id": "LFY-5SquAwE9",
    "outputId": "7f34db96-4ed3-446b-d585-26a381c30f82"
   },
   "outputs": [
    {
     "name": "stdout",
     "output_type": "stream",
     "text": [
      "Save file:  cosine_sim.pkl\n"
     ]
    }
   ],
   "source": [
    "import pickle\n",
    "def save_pickle(data, filename):\n",
    "    with open(filename, 'wb') as f:\n",
    "        pickle.dump(data, f)\n",
    "    print(\"Save file: \", filename)\n",
    "save_pickle(cosine_sim, 'cosine_sim.pkl')"
   ]
  },
  {
   "cell_type": "markdown",
   "metadata": {
    "id": "i663eSGXASrX"
   },
   "source": [
    "# Collaborative Filtering\n",
    "\n",
    "## The Framework"
   ]
  },
  {
   "cell_type": "code",
   "execution_count": 188,
   "metadata": {
    "executionInfo": {
     "elapsed": 1017,
     "status": "ok",
     "timestamp": 1610555614621,
     "user": {
      "displayName": "K.T.G. Hiếu",
      "photoUrl": "https://lh3.googleusercontent.com/a-/AOh14GgS8y4OlJuJEmuIVXBNLZtqhvE-46zhMEPfvgVIkQ=s64",
      "userId": "17949550505612572826"
     },
     "user_tz": -420
    },
    "id": "9bPU1ne_B6z0"
   },
   "outputs": [],
   "source": [
    "import pandas as pd\n",
    "import numpy as np"
   ]
  },
  {
   "cell_type": "code",
   "execution_count": 3,
   "metadata": {
    "colab": {
     "base_uri": "https://localhost:8080/",
     "height": 238
    },
    "executionInfo": {
     "elapsed": 13724,
     "status": "ok",
     "timestamp": 1610555664866,
     "user": {
      "displayName": "K.T.G. Hiếu",
      "photoUrl": "https://lh3.googleusercontent.com/a-/AOh14GgS8y4OlJuJEmuIVXBNLZtqhvE-46zhMEPfvgVIkQ=s64",
      "userId": "17949550505612572826"
     },
     "user_tz": -420
    },
    "id": "IrFsLZYSB8JK",
    "outputId": "615b24e3-acbc-4fb1-e9d7-fe2eaef34bc7"
   },
   "outputs": [
    {
     "name": "stderr",
     "output_type": "stream",
     "text": [
      "/home/ktgiahieu/env/ds/lib/python3.6/site-packages/numpy/lib/arraysetops.py:580: FutureWarning: elementwise comparison failed; returning scalar instead, but in the future will perform elementwise comparison\n",
      "  mask |= (ar1 == a)\n"
     ]
    },
    {
     "data": {
      "text/html": [
       "<div>\n",
       "<style scoped>\n",
       "    .dataframe tbody tr th:only-of-type {\n",
       "        vertical-align: middle;\n",
       "    }\n",
       "\n",
       "    .dataframe tbody tr th {\n",
       "        vertical-align: top;\n",
       "    }\n",
       "\n",
       "    .dataframe thead th {\n",
       "        text-align: right;\n",
       "    }\n",
       "</style>\n",
       "<table border=\"1\" class=\"dataframe\">\n",
       "  <thead>\n",
       "    <tr style=\"text-align: right;\">\n",
       "      <th></th>\n",
       "      <th>customer_id</th>\n",
       "      <th>product_id</th>\n",
       "      <th>rating</th>\n",
       "      <th>thank_count</th>\n",
       "      <th>title</th>\n",
       "      <th>content</th>\n",
       "      <th>created_at</th>\n",
       "      <th>purchase_at</th>\n",
       "      <th>customer_name</th>\n",
       "    </tr>\n",
       "  </thead>\n",
       "  <tbody>\n",
       "    <tr>\n",
       "      <th>0</th>\n",
       "      <td>5719606</td>\n",
       "      <td>21299202</td>\n",
       "      <td>5</td>\n",
       "      <td>6</td>\n",
       "      <td>Dây 2m, chất liệu của dây dù</td>\n",
       "      <td>Xài được khoảng 1 tuần thì có vẻ ổn. Dây dài 2...</td>\n",
       "      <td>2020-08-25 14:04:15</td>\n",
       "      <td>2020-07-01 13:22:12</td>\n",
       "      <td>Khách Hàng</td>\n",
       "    </tr>\n",
       "    <tr>\n",
       "      <th>1</th>\n",
       "      <td>11891537</td>\n",
       "      <td>21299202</td>\n",
       "      <td>1</td>\n",
       "      <td>19</td>\n",
       "      <td>PSK Dragon giao láo bố láo.</td>\n",
       "      <td>Đặt 3 sợi màu đỏ dài 2m , giao 2 sợi màu đen 2...</td>\n",
       "      <td>2020-08-12 11:41:41</td>\n",
       "      <td>2020-08-06 22:05:10</td>\n",
       "      <td>Trung Tung Tăng</td>\n",
       "    </tr>\n",
       "    <tr>\n",
       "      <th>2</th>\n",
       "      <td>7630980</td>\n",
       "      <td>21299202</td>\n",
       "      <td>4</td>\n",
       "      <td>0</td>\n",
       "      <td>Được</td>\n",
       "      <td>cảm nhận ban đầu thì dây rất cứng, \\ndây đúng ...</td>\n",
       "      <td>2020-09-04 11:15:21</td>\n",
       "      <td>2020-09-02 21:39:54</td>\n",
       "      <td>Nguyễn Tất Thắng</td>\n",
       "    </tr>\n",
       "    <tr>\n",
       "      <th>3</th>\n",
       "      <td>1242105</td>\n",
       "      <td>21299202</td>\n",
       "      <td>1</td>\n",
       "      <td>0</td>\n",
       "      <td>Rất không hài lòng</td>\n",
       "      <td>Chất lượng hoàn thiện kém, kích thước chân lig...</td>\n",
       "      <td>2020-08-15 14:19:43</td>\n",
       "      <td>2020-08-13 20:50:11</td>\n",
       "      <td>Doan Hiep</td>\n",
       "    </tr>\n",
       "    <tr>\n",
       "      <th>4</th>\n",
       "      <td>10815590</td>\n",
       "      <td>21299202</td>\n",
       "      <td>4</td>\n",
       "      <td>8</td>\n",
       "      <td>Ổn</td>\n",
       "      <td>Hoàn thiện khá tốt\\nNhưng tại sao dùng bút thử...</td>\n",
       "      <td>2020-03-08 13:23:01</td>\n",
       "      <td>2020-02-21 16:38:52</td>\n",
       "      <td>Hoàng việt hưng</td>\n",
       "    </tr>\n",
       "  </tbody>\n",
       "</table>\n",
       "</div>"
      ],
      "text/plain": [
       "   customer_id  product_id  rating  thank_count                         title  \\\n",
       "0      5719606    21299202       5            6  Dây 2m, chất liệu của dây dù   \n",
       "1     11891537    21299202       1           19   PSK Dragon giao láo bố láo.   \n",
       "2      7630980    21299202       4            0                          Được   \n",
       "3      1242105    21299202       1            0            Rất không hài lòng   \n",
       "4     10815590    21299202       4            8                            Ổn   \n",
       "\n",
       "                                             content           created_at  \\\n",
       "0  Xài được khoảng 1 tuần thì có vẻ ổn. Dây dài 2...  2020-08-25 14:04:15   \n",
       "1  Đặt 3 sợi màu đỏ dài 2m , giao 2 sợi màu đen 2...  2020-08-12 11:41:41   \n",
       "2  cảm nhận ban đầu thì dây rất cứng, \\ndây đúng ...  2020-09-04 11:15:21   \n",
       "3  Chất lượng hoàn thiện kém, kích thước chân lig...  2020-08-15 14:19:43   \n",
       "4  Hoàn thiện khá tốt\\nNhưng tại sao dùng bút thử...  2020-03-08 13:23:01   \n",
       "\n",
       "           purchase_at     customer_name  \n",
       "0  2020-07-01 13:22:12        Khách Hàng  \n",
       "1  2020-08-06 22:05:10   Trung Tung Tăng  \n",
       "2  2020-09-02 21:39:54  Nguyễn Tất Thắng  \n",
       "3  2020-08-13 20:50:11         Doan Hiep  \n",
       "4  2020-02-21 16:38:52   Hoàng việt hưng  "
      ]
     },
     "execution_count": 3,
     "metadata": {},
     "output_type": "execute_result"
    }
   ],
   "source": [
    "#Load the review file into a dataframe\n",
    "orig_ratings = pd.read_csv('product_review_clean.csv', index_col = 0)\n",
    "orig_ratings.head()"
   ]
  },
  {
   "cell_type": "markdown",
   "metadata": {
    "id": "9wwh2GdomWU5"
   },
   "source": [
    "## Graph approach"
   ]
  },
  {
   "cell_type": "code",
   "execution_count": 85,
   "metadata": {},
   "outputs": [],
   "source": [
    "import networkx as nx\n",
    "G = nx.Graph()\n",
    "G.add_nodes_from(orig_ratings['customer_id'].apply(lambda x: 'u'+str(x)).unique(), bipartite = 'user')\n",
    "G.add_nodes_from(orig_ratings['product_id'].apply(lambda x: 'i'+str(x)).unique(), bipartite = 'item')\n",
    "product_customer_edges = [('u'+str(x['customer_id']), 'i'+str(x['product_id']), x['rating']) for i,x in orig_ratings.iterrows()]\n",
    "G.add_weighted_edges_from(product_customer_edges)"
   ]
  },
  {
   "cell_type": "markdown",
   "metadata": {},
   "source": [
    "### User-based collaborative filtering"
   ]
  },
  {
   "cell_type": "code",
   "execution_count": 286,
   "metadata": {},
   "outputs": [],
   "source": [
    "user_nodes = [n for n in G.nodes() if G.nodes[n]['bipartite'] == 'user']\n",
    "item_nodes = [n for n in G.nodes() if G.nodes[n]['bipartite'] == 'item']"
   ]
  },
  {
   "cell_type": "code",
   "execution_count": 297,
   "metadata": {},
   "outputs": [],
   "source": [
    "def user_collaborative_recommender(user_id, similarity_metrics):\n",
    "    user_u = 'u' + str(user_id)\n",
    "    similarities = {}\n",
    "    for user_v in user_nodes:\n",
    "        if user_u == user_v:\n",
    "            continue\n",
    "        if len(list(nx.common_neighbors(G, user_u, user_v))) > 1:\n",
    "            similarity = similarity_metrics(user_u, user_v)\n",
    "            similarities[user_v]= similarity\n",
    "    if len(similarities) > 0:\n",
    "        #Get users with 10 most similar scores\n",
    "        similar_users = sorted(similarities, key = similarities.get, reverse=True)[:10]\n",
    "        user_u_neighbors = list(G.neighbors(user_u))\n",
    "        recommend_items = set()\n",
    "        for user_v in similar_users:\n",
    "            user_v_neighbors = list(G.neighbors(user_v))\n",
    "            different_neighbors = [node for node in user_v_neighbors if node not in user_u_neighbors]\n",
    "            for different_node in different_neighbors:\n",
    "                item_rating = G[user_v][different_node]['weight']\n",
    "                recommend_items.add((different_node, item_rating))\n",
    "        #Get 10 most recommended items \n",
    "        best_item_nodes = sorted(recommend_items, key = lambda x:x[1], reverse=True)[:10]\n",
    "        best_item_ids = [item_id[1:] for item_id, score in best_item_nodes] #remove 'i'\n",
    "    \n",
    "        #Return the top 10 products as recommendations\n",
    "        return product_df[product_df['id'].isin(best_item_ids)]\n",
    "    return None"
   ]
  },
  {
   "cell_type": "markdown",
   "metadata": {},
   "source": [
    "Next, let's define some metrics to calculate the similarity between 2 users:\n",
    "- Weighted Pearson Correlation Coefficient(WPCC)\n",
    "- New Heuristic Similarity Model (NHSM)\n",
    "- MJaccard similarity\n",
    "- User Rating Preference similarity (URP)"
   ]
  },
  {
   "cell_type": "code",
   "execution_count": 298,
   "metadata": {},
   "outputs": [],
   "source": [
    "import random\n",
    "def baseline(user_u, user_v):\n",
    "    return random.random()\n",
    "\n",
    "def jaccard_coef(user_u, user_v):\n",
    "    return list(nx.jaccard_coefficient(G, [(user_u, user_v)]))[0][2]\n",
    "\n",
    "from scipy.stats import pearsonr\n",
    "def weighted_pearson_corr(user_u, user_v, H = 50):\n",
    "    common_items = list(nx.common_neighbors(G, user_u, user_v))\n",
    "    user_u_ratings = []\n",
    "    user_v_ratings = []\n",
    "    for common_item in common_items:\n",
    "        user_u_ratings.append(G[user_u][common_item]['weight'])\n",
    "        user_v_ratings.append(G[user_v][common_item]['weight'])\n",
    "    pearson_corr = pearsonr(user_u_ratings, user_v_ratings)\n",
    "    if len(common_items) < H:\n",
    "        return pearson_corr[0] * len(common_items) / H\n",
    "    else:\n",
    "        return pearson_corr[0]"
   ]
  },
  {
   "cell_type": "markdown",
   "metadata": {},
   "source": [
    "### User ID 1889417 Gấu Lớp Lá"
   ]
  },
  {
   "cell_type": "code",
   "execution_count": 323,
   "metadata": {},
   "outputs": [],
   "source": [
    "customer_id = 1889417"
   ]
  },
  {
   "cell_type": "code",
   "execution_count": 324,
   "metadata": {},
   "outputs": [
    {
     "data": {
      "text/plain": [
       "customer_id         1889417\n",
       "customer_name    Gấu Lớp Lá\n",
       "Name: 1032, dtype: object"
      ]
     },
     "execution_count": 324,
     "metadata": {},
     "output_type": "execute_result"
    }
   ],
   "source": [
    "orig_ratings[orig_ratings['customer_id']==customer_id].iloc[0,[0,8]]"
   ]
  },
  {
   "cell_type": "markdown",
   "metadata": {},
   "source": [
    "### Previous bought products"
   ]
  },
  {
   "cell_type": "code",
   "execution_count": 321,
   "metadata": {},
   "outputs": [
    {
     "data": {
      "text/html": [
       "<div>\n",
       "<style scoped>\n",
       "    .dataframe tbody tr th:only-of-type {\n",
       "        vertical-align: middle;\n",
       "    }\n",
       "\n",
       "    .dataframe tbody tr th {\n",
       "        vertical-align: top;\n",
       "    }\n",
       "\n",
       "    .dataframe thead th {\n",
       "        text-align: right;\n",
       "    }\n",
       "</style>\n",
       "<table border=\"1\" class=\"dataframe\">\n",
       "  <thead>\n",
       "    <tr style=\"text-align: right;\">\n",
       "      <th></th>\n",
       "      <th>id</th>\n",
       "      <th>name</th>\n",
       "      <th>review_count</th>\n",
       "      <th>rating_average</th>\n",
       "      <th>price</th>\n",
       "      <th>description</th>\n",
       "      <th>category</th>\n",
       "      <th>category_name</th>\n",
       "    </tr>\n",
       "  </thead>\n",
       "  <tbody>\n",
       "    <tr>\n",
       "      <th>16</th>\n",
       "      <td>9830444</td>\n",
       "      <td>Chuột Không Dây Logitech M238 Marvel Collectio...</td>\n",
       "      <td>533</td>\n",
       "      <td>4.5</td>\n",
       "      <td>229900</td>\n",
       "      <td>Thiết kế hoạ tiết siêu anh hùng ấn tượng Độ ph...</td>\n",
       "      <td>1838</td>\n",
       "      <td>Thiết Bị Số - Phụ Kiện Số/Phụ kiện máy tính và...</td>\n",
       "    </tr>\n",
       "    <tr>\n",
       "      <th>247</th>\n",
       "      <td>405243</td>\n",
       "      <td>USB Kingston DT100G3 32GB USB 3.0 - Hàng Chính...</td>\n",
       "      <td>1896</td>\n",
       "      <td>4.5</td>\n",
       "      <td>87000</td>\n",
       "      <td>Thiết kế nhỏ gọn, tiện lợi Dung lượng 32GB tho...</td>\n",
       "      <td>1828</td>\n",
       "      <td>Laptop - Máy Vi Tính - Linh kiện/Thiết Bị Lưu ...</td>\n",
       "    </tr>\n",
       "    <tr>\n",
       "      <th>3757</th>\n",
       "      <td>1726597</td>\n",
       "      <td>Ly Giữ Nhiệt Thép Không Gỉ Bumper Tumbler Lock...</td>\n",
       "      <td>265</td>\n",
       "      <td>4.5</td>\n",
       "      <td>219000</td>\n",
       "      <td>Chất liệu thép không gỉ, bền chắc, chịu nhiệt ...</td>\n",
       "      <td>1883</td>\n",
       "      <td>Nhà Cửa - Đời Sống/Đồ dùng phòng ăn/Bình nước,...</td>\n",
       "    </tr>\n",
       "    <tr>\n",
       "      <th>4222</th>\n",
       "      <td>1727975</td>\n",
       "      <td>Gel Vệ Sinh Giày (100ml)</td>\n",
       "      <td>246</td>\n",
       "      <td>4.5</td>\n",
       "      <td>60000</td>\n",
       "      <td>Vệ sinh giày da Vệ sinh giày tây - công sở Vệ ...</td>\n",
       "      <td>914</td>\n",
       "      <td>Giày - Dép nam/Phụ kiện giày nam</td>\n",
       "    </tr>\n",
       "    <tr>\n",
       "      <th>4527</th>\n",
       "      <td>38363504</td>\n",
       "      <td>Bên Rặng Tuyết Sơn (Tái Bản 2019)</td>\n",
       "      <td>215</td>\n",
       "      <td>4.5</td>\n",
       "      <td>54900</td>\n",
       "      <td>Bên Rặng Tuyết Sơn là quyển sách mới trong bộ ...</td>\n",
       "      <td>316</td>\n",
       "      <td>Nhà Sách Tiki/Sách tiếng Việt/Sách kỹ năng sốn...</td>\n",
       "    </tr>\n",
       "    <tr>\n",
       "      <th>5044</th>\n",
       "      <td>54748899</td>\n",
       "      <td>Muôn Kiếp Nhân Sinh (Many Lives - Many Times)</td>\n",
       "      <td>2617</td>\n",
       "      <td>5.0</td>\n",
       "      <td>105800</td>\n",
       "      <td>“Muôn kiếp nhân sinh” là tác phẩm do Giáo sư J...</td>\n",
       "      <td>2</td>\n",
       "      <td>Nhà Sách Tiki/Sách tiếng Việt/Sách Tôn Giáo - ...</td>\n",
       "    </tr>\n",
       "    <tr>\n",
       "      <th>6160</th>\n",
       "      <td>750578</td>\n",
       "      <td>Khi Hơi Thở Hóa Thinh Không</td>\n",
       "      <td>1510</td>\n",
       "      <td>4.5</td>\n",
       "      <td>75100</td>\n",
       "      <td>Khi Hơi Thở Hóa Thinh Không là tự truyện của m...</td>\n",
       "      <td>316</td>\n",
       "      <td>Nhà Sách Tiki/Sách tiếng Việt/Sách văn học/Tiể...</td>\n",
       "    </tr>\n",
       "    <tr>\n",
       "      <th>8161</th>\n",
       "      <td>11897820</td>\n",
       "      <td>FPT Play Box + 4K 2019 - Hàng Chính Hãng</td>\n",
       "      <td>107</td>\n",
       "      <td>3.5</td>\n",
       "      <td>1390000</td>\n",
       "      <td>Cổng kết nối: USB 2.0, cổng mạng LAN, cổng HDM...</td>\n",
       "      <td>4221</td>\n",
       "      <td>Điện Tử - Điện Lạnh/Âm thanh &amp; Phụ kiện Tivi/A...</td>\n",
       "    </tr>\n",
       "    <tr>\n",
       "      <th>8412</th>\n",
       "      <td>888553</td>\n",
       "      <td>Sapiens: Lược Sử Loài Người (Tái Bản Có Chỉnh ...</td>\n",
       "      <td>2308</td>\n",
       "      <td>5.0</td>\n",
       "      <td>124900</td>\n",
       "      <td>Sapiens: Lược Sử Loài Người Sapiens, đưa chúng...</td>\n",
       "      <td>316</td>\n",
       "      <td>Nhà Sách Tiki/Sách tiếng Việt/Sách Lịch sử/Lịc...</td>\n",
       "    </tr>\n",
       "    <tr>\n",
       "      <th>13465</th>\n",
       "      <td>1362447</td>\n",
       "      <td>Sữa Rửa Mặt Cetaphil Gentle Skin Cleaner (500m...</td>\n",
       "      <td>2218</td>\n",
       "      <td>5.0</td>\n",
       "      <td>263900</td>\n",
       "      <td>Giúp làm sạch da, không gây kích ứng da giảm t...</td>\n",
       "      <td>1520</td>\n",
       "      <td>Làm Đẹp - Sức Khỏe/Chăm sóc da mặt/Làm sạch da...</td>\n",
       "    </tr>\n",
       "    <tr>\n",
       "      <th>14044</th>\n",
       "      <td>8835159</td>\n",
       "      <td>Đời Ngắn Đừng Ngủ Dài (Tái Bản)</td>\n",
       "      <td>1021</td>\n",
       "      <td>4.5</td>\n",
       "      <td>56200</td>\n",
       "      <td>“Mọi lựa chọn đều giá trị. Mọi bước đi đều qua...</td>\n",
       "      <td>316</td>\n",
       "      <td>Nhà Sách Tiki/Sách tiếng Việt/Sách kỹ năng sốn...</td>\n",
       "    </tr>\n",
       "    <tr>\n",
       "      <th>14423</th>\n",
       "      <td>10671294</td>\n",
       "      <td>Tôn Giáo - Khái Lược Những Tư Tưởng Lớn</td>\n",
       "      <td>125</td>\n",
       "      <td>5.0</td>\n",
       "      <td>253300</td>\n",
       "      <td>Chỉ có một Thượng đế? Vì sao con người chịu kh...</td>\n",
       "      <td>316</td>\n",
       "      <td>Nhà Sách Tiki/Sách tiếng Việt/Sách kỹ năng sốn...</td>\n",
       "    </tr>\n",
       "    <tr>\n",
       "      <th>15101</th>\n",
       "      <td>646020</td>\n",
       "      <td>Bàn Phím Có Dây Dell KB216 - Đen - Hàng Chính ...</td>\n",
       "      <td>1102</td>\n",
       "      <td>4.5</td>\n",
       "      <td>151000</td>\n",
       "      <td>Cổng giao tiếp USB Màu đen bóng Có đường thoát...</td>\n",
       "      <td>1830</td>\n",
       "      <td>Thiết Bị Số - Phụ Kiện Số/Phụ kiện máy tính và...</td>\n",
       "    </tr>\n",
       "    <tr>\n",
       "      <th>15495</th>\n",
       "      <td>48947306</td>\n",
       "      <td>Combo Dạy Con Làm Giàu (Trọn Bộ 13 Tập) (Tái Bản)</td>\n",
       "      <td>267</td>\n",
       "      <td>5.0</td>\n",
       "      <td>882500</td>\n",
       "      <td>Dạy Con Làm Giàu (Tập 1) - Để Không Có Tiền Vẫ...</td>\n",
       "      <td>2</td>\n",
       "      <td>Nhà Sách Tiki/Sách tiếng Việt/Sách kinh tế/Bài...</td>\n",
       "    </tr>\n",
       "    <tr>\n",
       "      <th>15539</th>\n",
       "      <td>6807847</td>\n",
       "      <td>Cảm Ơn Người Lớn (Bìa Mềm)</td>\n",
       "      <td>612</td>\n",
       "      <td>4.5</td>\n",
       "      <td>60500</td>\n",
       "      <td>Cảm ơn người lớn (Bìa Mềm) - một áng văn lãng ...</td>\n",
       "      <td>316</td>\n",
       "      <td>Nhà Sách Tiki/Sách tiếng Việt/Sách văn học/Tru...</td>\n",
       "    </tr>\n",
       "  </tbody>\n",
       "</table>\n",
       "</div>"
      ],
      "text/plain": [
       "             id                                               name  \\\n",
       "16      9830444  Chuột Không Dây Logitech M238 Marvel Collectio...   \n",
       "247      405243  USB Kingston DT100G3 32GB USB 3.0 - Hàng Chính...   \n",
       "3757    1726597  Ly Giữ Nhiệt Thép Không Gỉ Bumper Tumbler Lock...   \n",
       "4222    1727975                           Gel Vệ Sinh Giày (100ml)   \n",
       "4527   38363504                  Bên Rặng Tuyết Sơn (Tái Bản 2019)   \n",
       "5044   54748899      Muôn Kiếp Nhân Sinh (Many Lives - Many Times)   \n",
       "6160     750578                        Khi Hơi Thở Hóa Thinh Không   \n",
       "8161   11897820           FPT Play Box + 4K 2019 - Hàng Chính Hãng   \n",
       "8412     888553  Sapiens: Lược Sử Loài Người (Tái Bản Có Chỉnh ...   \n",
       "13465   1362447  Sữa Rửa Mặt Cetaphil Gentle Skin Cleaner (500m...   \n",
       "14044   8835159                    Đời Ngắn Đừng Ngủ Dài (Tái Bản)   \n",
       "14423  10671294            Tôn Giáo - Khái Lược Những Tư Tưởng Lớn   \n",
       "15101    646020  Bàn Phím Có Dây Dell KB216 - Đen - Hàng Chính ...   \n",
       "15495  48947306  Combo Dạy Con Làm Giàu (Trọn Bộ 13 Tập) (Tái Bản)   \n",
       "15539   6807847                         Cảm Ơn Người Lớn (Bìa Mềm)   \n",
       "\n",
       "       review_count  rating_average    price  \\\n",
       "16              533             4.5   229900   \n",
       "247            1896             4.5    87000   \n",
       "3757            265             4.5   219000   \n",
       "4222            246             4.5    60000   \n",
       "4527            215             4.5    54900   \n",
       "5044           2617             5.0   105800   \n",
       "6160           1510             4.5    75100   \n",
       "8161            107             3.5  1390000   \n",
       "8412           2308             5.0   124900   \n",
       "13465          2218             5.0   263900   \n",
       "14044          1021             4.5    56200   \n",
       "14423           125             5.0   253300   \n",
       "15101          1102             4.5   151000   \n",
       "15495           267             5.0   882500   \n",
       "15539           612             4.5    60500   \n",
       "\n",
       "                                             description  category  \\\n",
       "16     Thiết kế hoạ tiết siêu anh hùng ấn tượng Độ ph...      1838   \n",
       "247    Thiết kế nhỏ gọn, tiện lợi Dung lượng 32GB tho...      1828   \n",
       "3757   Chất liệu thép không gỉ, bền chắc, chịu nhiệt ...      1883   \n",
       "4222   Vệ sinh giày da Vệ sinh giày tây - công sở Vệ ...       914   \n",
       "4527   Bên Rặng Tuyết Sơn là quyển sách mới trong bộ ...       316   \n",
       "5044   “Muôn kiếp nhân sinh” là tác phẩm do Giáo sư J...         2   \n",
       "6160   Khi Hơi Thở Hóa Thinh Không là tự truyện của m...       316   \n",
       "8161   Cổng kết nối: USB 2.0, cổng mạng LAN, cổng HDM...      4221   \n",
       "8412   Sapiens: Lược Sử Loài Người Sapiens, đưa chúng...       316   \n",
       "13465  Giúp làm sạch da, không gây kích ứng da giảm t...      1520   \n",
       "14044  “Mọi lựa chọn đều giá trị. Mọi bước đi đều qua...       316   \n",
       "14423  Chỉ có một Thượng đế? Vì sao con người chịu kh...       316   \n",
       "15101  Cổng giao tiếp USB Màu đen bóng Có đường thoát...      1830   \n",
       "15495  Dạy Con Làm Giàu (Tập 1) - Để Không Có Tiền Vẫ...         2   \n",
       "15539  Cảm ơn người lớn (Bìa Mềm) - một áng văn lãng ...       316   \n",
       "\n",
       "                                           category_name  \n",
       "16     Thiết Bị Số - Phụ Kiện Số/Phụ kiện máy tính và...  \n",
       "247    Laptop - Máy Vi Tính - Linh kiện/Thiết Bị Lưu ...  \n",
       "3757   Nhà Cửa - Đời Sống/Đồ dùng phòng ăn/Bình nước,...  \n",
       "4222                    Giày - Dép nam/Phụ kiện giày nam  \n",
       "4527   Nhà Sách Tiki/Sách tiếng Việt/Sách kỹ năng sốn...  \n",
       "5044   Nhà Sách Tiki/Sách tiếng Việt/Sách Tôn Giáo - ...  \n",
       "6160   Nhà Sách Tiki/Sách tiếng Việt/Sách văn học/Tiể...  \n",
       "8161   Điện Tử - Điện Lạnh/Âm thanh & Phụ kiện Tivi/A...  \n",
       "8412   Nhà Sách Tiki/Sách tiếng Việt/Sách Lịch sử/Lịc...  \n",
       "13465  Làm Đẹp - Sức Khỏe/Chăm sóc da mặt/Làm sạch da...  \n",
       "14044  Nhà Sách Tiki/Sách tiếng Việt/Sách kỹ năng sốn...  \n",
       "14423  Nhà Sách Tiki/Sách tiếng Việt/Sách kỹ năng sốn...  \n",
       "15101  Thiết Bị Số - Phụ Kiện Số/Phụ kiện máy tính và...  \n",
       "15495  Nhà Sách Tiki/Sách tiếng Việt/Sách kinh tế/Bài...  \n",
       "15539  Nhà Sách Tiki/Sách tiếng Việt/Sách văn học/Tru...  "
      ]
     },
     "execution_count": 321,
     "metadata": {},
     "output_type": "execute_result"
    }
   ],
   "source": [
    "product_df[product_df['id'].isin(orig_ratings[orig_ratings['customer_id'] == customer_id]['product_id'])]"
   ]
  },
  {
   "cell_type": "markdown",
   "metadata": {},
   "source": [
    "### Recommended products"
   ]
  },
  {
   "cell_type": "code",
   "execution_count": 322,
   "metadata": {},
   "outputs": [
    {
     "data": {
      "text/html": [
       "<div>\n",
       "<style scoped>\n",
       "    .dataframe tbody tr th:only-of-type {\n",
       "        vertical-align: middle;\n",
       "    }\n",
       "\n",
       "    .dataframe tbody tr th {\n",
       "        vertical-align: top;\n",
       "    }\n",
       "\n",
       "    .dataframe thead th {\n",
       "        text-align: right;\n",
       "    }\n",
       "</style>\n",
       "<table border=\"1\" class=\"dataframe\">\n",
       "  <thead>\n",
       "    <tr style=\"text-align: right;\">\n",
       "      <th></th>\n",
       "      <th>id</th>\n",
       "      <th>name</th>\n",
       "      <th>review_count</th>\n",
       "      <th>rating_average</th>\n",
       "      <th>price</th>\n",
       "      <th>description</th>\n",
       "      <th>category</th>\n",
       "      <th>category_name</th>\n",
       "    </tr>\n",
       "  </thead>\n",
       "  <tbody>\n",
       "    <tr>\n",
       "      <th>4567</th>\n",
       "      <td>4940239</td>\n",
       "      <td>Hai Số Phận (Bìa Cứng)</td>\n",
       "      <td>1458</td>\n",
       "      <td>4.5</td>\n",
       "      <td>99900</td>\n",
       "      <td>Hai Số Phận (Bìa Cứng) “ Hai số phận ” không c...</td>\n",
       "      <td>316</td>\n",
       "      <td>Nhà Sách Tiki/Sách tiếng Việt/Sách văn học/Tác...</td>\n",
       "    </tr>\n",
       "    <tr>\n",
       "      <th>6714</th>\n",
       "      <td>48659055</td>\n",
       "      <td>Cuộc Sống \"Đếch\" Giống Cuộc Đời</td>\n",
       "      <td>594</td>\n",
       "      <td>4.5</td>\n",
       "      <td>51300</td>\n",
       "      <td>Cuộc Sống \"Đếch\" Giống Cuộc Đời Sau sự thành c...</td>\n",
       "      <td>2</td>\n",
       "      <td>Nhà Sách Tiki/Sách tiếng Việt/Sách kỹ năng sốn...</td>\n",
       "    </tr>\n",
       "    <tr>\n",
       "      <th>8208</th>\n",
       "      <td>429150</td>\n",
       "      <td>Bố Già (Bìa Cứng - Tái Bản 2017) - Mario Puzo</td>\n",
       "      <td>755</td>\n",
       "      <td>4.5</td>\n",
       "      <td>97300</td>\n",
       "      <td>Bố Già Thế giới ngầm được phản ánh trong tiểu ...</td>\n",
       "      <td>2</td>\n",
       "      <td>Nhà Sách Tiki/Sách tiếng Việt/Sách văn học/Tác...</td>\n",
       "    </tr>\n",
       "    <tr>\n",
       "      <th>8666</th>\n",
       "      <td>299461</td>\n",
       "      <td>Chuột Không Dây Logitech M331 Silent - Hàng Ch...</td>\n",
       "      <td>3711</td>\n",
       "      <td>4.5</td>\n",
       "      <td>267000</td>\n",
       "      <td>Độ phân giải: 1000DPI 3 nút nhấn cơ bản và 1 c...</td>\n",
       "      <td>1815</td>\n",
       "      <td>Thiết Bị Số - Phụ Kiện Số/Phụ kiện máy tính và...</td>\n",
       "    </tr>\n",
       "    <tr>\n",
       "      <th>9687</th>\n",
       "      <td>19963125</td>\n",
       "      <td>Thiên Tài Bên Trái, Kẻ Điên Bên Phải</td>\n",
       "      <td>1371</td>\n",
       "      <td>4.5</td>\n",
       "      <td>90900</td>\n",
       "      <td>NẾU MỘT NGÀY ANH THẤY TÔI ĐIÊN, THỰC RA CHÍNH ...</td>\n",
       "      <td>2</td>\n",
       "      <td>Nhà Sách Tiki/Sách tiếng Việt/Sách văn học/Tru...</td>\n",
       "    </tr>\n",
       "    <tr>\n",
       "      <th>9886</th>\n",
       "      <td>6201209</td>\n",
       "      <td>Sống Thực Tế Giữa Đời Thực Dụng</td>\n",
       "      <td>1931</td>\n",
       "      <td>4.5</td>\n",
       "      <td>61500</td>\n",
       "      <td>THỰC DỤNG Ư? KHÔNG HỀ, TÔI CHỈ RẤT THỰC TẾ THÔ...</td>\n",
       "      <td>316</td>\n",
       "      <td>Nhà Sách Tiki/Sách tiếng Việt/Sách kỹ năng sốn...</td>\n",
       "    </tr>\n",
       "    <tr>\n",
       "      <th>12844</th>\n",
       "      <td>311940</td>\n",
       "      <td>Hộp Đựng Tai Nghe / Cáp Sạc / Pin Sạc Dự Phòng...</td>\n",
       "      <td>534</td>\n",
       "      <td>4.5</td>\n",
       "      <td>69000</td>\n",
       "      <td>Lớp chống sốc 2 lớp Bảo vệ ổ cứng hiệu quả Nhi...</td>\n",
       "      <td>1815</td>\n",
       "      <td>Thiết Bị Số - Phụ Kiện Số/Phụ Kiện Điện Thoại ...</td>\n",
       "    </tr>\n",
       "    <tr>\n",
       "      <th>13423</th>\n",
       "      <td>8112536</td>\n",
       "      <td>Cáp Thunderbolt - Mini Displayport to HDMI + V...</td>\n",
       "      <td>162</td>\n",
       "      <td>4.5</td>\n",
       "      <td>299000</td>\n",
       "      <td>Hãng sản xuất: Ugreen Model: UG-20422 Chức năn...</td>\n",
       "      <td>1815</td>\n",
       "      <td>Thiết Bị Số - Phụ Kiện Số/Phụ kiện máy tính và...</td>\n",
       "    </tr>\n",
       "    <tr>\n",
       "      <th>14843</th>\n",
       "      <td>579823</td>\n",
       "      <td>Nhà Lãnh Đạo Không Chức Danh</td>\n",
       "      <td>819</td>\n",
       "      <td>5.0</td>\n",
       "      <td>54800</td>\n",
       "      <td>Nhà Lãnh Đạo Không Chức Danh Suốt hơn 15 năm, ...</td>\n",
       "      <td>2</td>\n",
       "      <td>Nhà Sách Tiki/Sách tiếng Việt/Sách kinh tế/Sác...</td>\n",
       "    </tr>\n",
       "    <tr>\n",
       "      <th>17423</th>\n",
       "      <td>2619491</td>\n",
       "      <td>Lối Sống Tối Giản Của Người Nhật (Tái Bản)</td>\n",
       "      <td>761</td>\n",
       "      <td>4.5</td>\n",
       "      <td>55700</td>\n",
       "      <td>Lối Sống Tối Giản Của Người Nhật (Tái Bản) Lối...</td>\n",
       "      <td>2</td>\n",
       "      <td>Nhà Sách Tiki/Sách tiếng Việt/Sách kỹ năng sốn...</td>\n",
       "    </tr>\n",
       "  </tbody>\n",
       "</table>\n",
       "</div>"
      ],
      "text/plain": [
       "             id                                               name  \\\n",
       "4567    4940239                             Hai Số Phận (Bìa Cứng)   \n",
       "6714   48659055                    Cuộc Sống \"Đếch\" Giống Cuộc Đời   \n",
       "8208     429150      Bố Già (Bìa Cứng - Tái Bản 2017) - Mario Puzo   \n",
       "8666     299461  Chuột Không Dây Logitech M331 Silent - Hàng Ch...   \n",
       "9687   19963125               Thiên Tài Bên Trái, Kẻ Điên Bên Phải   \n",
       "9886    6201209                    Sống Thực Tế Giữa Đời Thực Dụng   \n",
       "12844    311940  Hộp Đựng Tai Nghe / Cáp Sạc / Pin Sạc Dự Phòng...   \n",
       "13423   8112536  Cáp Thunderbolt - Mini Displayport to HDMI + V...   \n",
       "14843    579823                       Nhà Lãnh Đạo Không Chức Danh   \n",
       "17423   2619491         Lối Sống Tối Giản Của Người Nhật (Tái Bản)   \n",
       "\n",
       "       review_count  rating_average   price  \\\n",
       "4567           1458             4.5   99900   \n",
       "6714            594             4.5   51300   \n",
       "8208            755             4.5   97300   \n",
       "8666           3711             4.5  267000   \n",
       "9687           1371             4.5   90900   \n",
       "9886           1931             4.5   61500   \n",
       "12844           534             4.5   69000   \n",
       "13423           162             4.5  299000   \n",
       "14843           819             5.0   54800   \n",
       "17423           761             4.5   55700   \n",
       "\n",
       "                                             description  category  \\\n",
       "4567   Hai Số Phận (Bìa Cứng) “ Hai số phận ” không c...       316   \n",
       "6714   Cuộc Sống \"Đếch\" Giống Cuộc Đời Sau sự thành c...         2   \n",
       "8208   Bố Già Thế giới ngầm được phản ánh trong tiểu ...         2   \n",
       "8666   Độ phân giải: 1000DPI 3 nút nhấn cơ bản và 1 c...      1815   \n",
       "9687   NẾU MỘT NGÀY ANH THẤY TÔI ĐIÊN, THỰC RA CHÍNH ...         2   \n",
       "9886   THỰC DỤNG Ư? KHÔNG HỀ, TÔI CHỈ RẤT THỰC TẾ THÔ...       316   \n",
       "12844  Lớp chống sốc 2 lớp Bảo vệ ổ cứng hiệu quả Nhi...      1815   \n",
       "13423  Hãng sản xuất: Ugreen Model: UG-20422 Chức năn...      1815   \n",
       "14843  Nhà Lãnh Đạo Không Chức Danh Suốt hơn 15 năm, ...         2   \n",
       "17423  Lối Sống Tối Giản Của Người Nhật (Tái Bản) Lối...         2   \n",
       "\n",
       "                                           category_name  \n",
       "4567   Nhà Sách Tiki/Sách tiếng Việt/Sách văn học/Tác...  \n",
       "6714   Nhà Sách Tiki/Sách tiếng Việt/Sách kỹ năng sốn...  \n",
       "8208   Nhà Sách Tiki/Sách tiếng Việt/Sách văn học/Tác...  \n",
       "8666   Thiết Bị Số - Phụ Kiện Số/Phụ kiện máy tính và...  \n",
       "9687   Nhà Sách Tiki/Sách tiếng Việt/Sách văn học/Tru...  \n",
       "9886   Nhà Sách Tiki/Sách tiếng Việt/Sách kỹ năng sốn...  \n",
       "12844  Thiết Bị Số - Phụ Kiện Số/Phụ Kiện Điện Thoại ...  \n",
       "13423  Thiết Bị Số - Phụ Kiện Số/Phụ kiện máy tính và...  \n",
       "14843  Nhà Sách Tiki/Sách tiếng Việt/Sách kinh tế/Sác...  \n",
       "17423  Nhà Sách Tiki/Sách tiếng Việt/Sách kỹ năng sốn...  "
      ]
     },
     "execution_count": 322,
     "metadata": {},
     "output_type": "execute_result"
    }
   ],
   "source": [
    "user_collaborative_recommender(customer_id, jaccard_coef)"
   ]
  },
  {
   "cell_type": "code",
   "execution_count": null,
   "metadata": {},
   "outputs": [],
   "source": []
  }
 ],
 "metadata": {
  "colab": {
   "collapsed_sections": [],
   "name": "TikiRecommender.ipynb",
   "provenance": []
  },
  "kernelspec": {
   "display_name": "ds",
   "language": "python",
   "name": "ds"
  },
  "language_info": {
   "codemirror_mode": {
    "name": "ipython",
    "version": 3
   },
   "file_extension": ".py",
   "mimetype": "text/x-python",
   "name": "python",
   "nbconvert_exporter": "python",
   "pygments_lexer": "ipython3",
   "version": "3.6.9"
  }
 },
 "nbformat": 4,
 "nbformat_minor": 4
}
