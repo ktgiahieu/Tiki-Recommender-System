{
 "cells": [
  {
   "cell_type": "markdown",
   "metadata": {
    "id": "rKEdw1SH8NQE"
   },
   "source": [
    "# Content Based Recommender"
   ]
  },
  {
   "cell_type": "code",
   "execution_count": 199,
   "metadata": {
    "colab": {
     "base_uri": "https://localhost:8080/",
     "height": 204
    },
    "executionInfo": {
     "elapsed": 57626,
     "status": "ok",
     "timestamp": 1610555287166,
     "user": {
      "displayName": "K.T.G. Hiếu",
      "photoUrl": "https://lh3.googleusercontent.com/a-/AOh14GgS8y4OlJuJEmuIVXBNLZtqhvE-46zhMEPfvgVIkQ=s64",
      "userId": "17949550505612572826"
     },
     "user_tz": -420
    },
    "id": "LFYIwEJj8NQG",
    "outputId": "c225f4dc-efb4-448b-f790-4b41fce129c0"
   },
   "outputs": [
    {
     "data": {
      "text/html": [
       "<div>\n",
       "<style scoped>\n",
       "    .dataframe tbody tr th:only-of-type {\n",
       "        vertical-align: middle;\n",
       "    }\n",
       "\n",
       "    .dataframe tbody tr th {\n",
       "        vertical-align: top;\n",
       "    }\n",
       "\n",
       "    .dataframe thead th {\n",
       "        text-align: right;\n",
       "    }\n",
       "</style>\n",
       "<table border=\"1\" class=\"dataframe\">\n",
       "  <thead>\n",
       "    <tr style=\"text-align: right;\">\n",
       "      <th></th>\n",
       "      <th>id</th>\n",
       "      <th>name</th>\n",
       "      <th>review_count</th>\n",
       "      <th>rating_average</th>\n",
       "      <th>price</th>\n",
       "      <th>description</th>\n",
       "      <th>category</th>\n",
       "      <th>category_name</th>\n",
       "    </tr>\n",
       "  </thead>\n",
       "  <tbody>\n",
       "    <tr>\n",
       "      <th>0</th>\n",
       "      <td>21299202</td>\n",
       "      <td>Cáp sạc và truyền dữ liệu tốc độ cao Baseus Ho...</td>\n",
       "      <td>216</td>\n",
       "      <td>4.5</td>\n",
       "      <td>67000</td>\n",
       "      <td>Hỗ trợ dòng lên đến 2.4 A , cho tốc độ sạc nha...</td>\n",
       "      <td>1815</td>\n",
       "      <td>Thiết Bị Số - Phụ Kiện Số/Phụ Kiện Điện Thoại ...</td>\n",
       "    </tr>\n",
       "    <tr>\n",
       "      <th>1</th>\n",
       "      <td>44105732</td>\n",
       "      <td>Dép sục unisex duet độn đế, chống trượt Litic ...</td>\n",
       "      <td>27</td>\n",
       "      <td>3.5</td>\n",
       "      <td>148500</td>\n",
       "      <td>Tiện lợi, bền đẹp, siêu nhẹ Độn đế tinh tế, kh...</td>\n",
       "      <td>914</td>\n",
       "      <td>Giày - Dép nữ/Giày lười nữ/Giày lười hở gót</td>\n",
       "    </tr>\n",
       "    <tr>\n",
       "      <th>2</th>\n",
       "      <td>54132740</td>\n",
       "      <td>bình thông hơi dành cho xe máy tặng bao tay xe...</td>\n",
       "      <td>4</td>\n",
       "      <td>4.5</td>\n",
       "      <td>199000</td>\n",
       "      <td>bình thông hơi dành cho xe máy tặng bao tay xe...</td>\n",
       "      <td>6061</td>\n",
       "      <td>Ô Tô - Xe Máy - Xe Đạp/Phụ kiện - Chăm sóc xe/...</td>\n",
       "    </tr>\n",
       "    <tr>\n",
       "      <th>3</th>\n",
       "      <td>65011722</td>\n",
       "      <td>Đồng Hồ Nam FNGEEN FE230  mặt đồng hồ tròn, th...</td>\n",
       "      <td>19</td>\n",
       "      <td>4.5</td>\n",
       "      <td>179000</td>\n",
       "      <td>Mặt đồng hồ tròn, thiết kế đẹp mắt, sáng bóng ...</td>\n",
       "      <td>914</td>\n",
       "      <td>Đồng hồ và Trang sức/Đồng hồ nam/Đồng hồ busin...</td>\n",
       "    </tr>\n",
       "    <tr>\n",
       "      <th>4</th>\n",
       "      <td>7995403</td>\n",
       "      <td>Giày Sneaker Unisex Converse Chuck Taylor All ...</td>\n",
       "      <td>19</td>\n",
       "      <td>5.0</td>\n",
       "      <td>1500000</td>\n",
       "      <td>Đường may vô cùng tỉ mỉ, tinh tế Chất vải canv...</td>\n",
       "      <td>49620</td>\n",
       "      <td>Giày - Dép nam/Giày thể thao nam/Giày thể thao...</td>\n",
       "    </tr>\n",
       "  </tbody>\n",
       "</table>\n",
       "</div>"
      ],
      "text/plain": [
       "         id                                               name  review_count  \\\n",
       "0  21299202  Cáp sạc và truyền dữ liệu tốc độ cao Baseus Ho...           216   \n",
       "1  44105732  Dép sục unisex duet độn đế, chống trượt Litic ...            27   \n",
       "2  54132740  bình thông hơi dành cho xe máy tặng bao tay xe...             4   \n",
       "3  65011722  Đồng Hồ Nam FNGEEN FE230  mặt đồng hồ tròn, th...            19   \n",
       "4   7995403  Giày Sneaker Unisex Converse Chuck Taylor All ...            19   \n",
       "\n",
       "   rating_average    price                                        description  \\\n",
       "0             4.5    67000  Hỗ trợ dòng lên đến 2.4 A , cho tốc độ sạc nha...   \n",
       "1             3.5   148500  Tiện lợi, bền đẹp, siêu nhẹ Độn đế tinh tế, kh...   \n",
       "2             4.5   199000  bình thông hơi dành cho xe máy tặng bao tay xe...   \n",
       "3             4.5   179000  Mặt đồng hồ tròn, thiết kế đẹp mắt, sáng bóng ...   \n",
       "4             5.0  1500000  Đường may vô cùng tỉ mỉ, tinh tế Chất vải canv...   \n",
       "\n",
       "   category                                      category_name  \n",
       "0      1815  Thiết Bị Số - Phụ Kiện Số/Phụ Kiện Điện Thoại ...  \n",
       "1       914        Giày - Dép nữ/Giày lười nữ/Giày lười hở gót  \n",
       "2      6061  Ô Tô - Xe Máy - Xe Đạp/Phụ kiện - Chăm sóc xe/...  \n",
       "3       914  Đồng hồ và Trang sức/Đồng hồ nam/Đồng hồ busin...  \n",
       "4     49620  Giày - Dép nam/Giày thể thao nam/Giày thể thao...  "
      ]
     },
     "execution_count": 199,
     "metadata": {},
     "output_type": "execute_result"
    }
   ],
   "source": [
    "import pandas as pd\n",
    "import numpy as np\n",
    "from pyvi import ViTokenizer\n",
    "import glob\n",
    "from collections import Counter\n",
    "from string import punctuation\n",
    "\n",
    "#Import data from the clean file \n",
    "product_df = pd.read_csv('product_info_clean.csv', index_col = 0)\n",
    "\n",
    "#Print the head of the cleaned DataFrame\n",
    "product_df.head()"
   ]
  },
  {
   "cell_type": "code",
   "execution_count": 5,
   "metadata": {
    "colab": {
     "base_uri": "https://localhost:8080/"
    },
    "executionInfo": {
     "elapsed": 57972,
     "status": "ok",
     "timestamp": 1610555287516,
     "user": {
      "displayName": "K.T.G. Hiếu",
      "photoUrl": "https://lh3.googleusercontent.com/a-/AOh14GgS8y4OlJuJEmuIVXBNLZtqhvE-46zhMEPfvgVIkQ=s64",
      "userId": "17949550505612572826"
     },
     "user_tz": -420
    },
    "id": "uBVcoia48NQI",
    "outputId": "047ec22a-968e-493c-e5af-a20673624c38"
   },
   "outputs": [
    {
     "name": "stdout",
     "output_type": "stream",
     "text": [
      "['bị', 'bởi', 'cả', 'các', 'cái', 'cần', 'càng', 'chỉ', 'chiếc', 'cho', 'chứ', 'chưa', 'chuyện', 'có', 'có_thể', 'cứ', 'của', 'cùng', 'cũng', 'đã', 'đang', 'đây', 'để', 'đến_nỗi', 'đều', 'điều', 'do', 'đó', 'được', 'dưới', 'gì', 'khi', 'không', 'là', 'lại', 'lên', 'lúc', 'mà', 'mỗi', 'một_cách', 'này', 'nên', 'nếu', 'ngay', 'nhiều', 'như', 'nhưng', 'những', 'nơi', 'nữa', 'phải', 'qua', 'ra', 'rằng', 'rằng', 'rất', 'rất', 'rồi', 'sau', 'sẽ', 'so', 'sự', 'tại', 'theo', 'thì', 'trên', 'trước', 'từ', 'từng', 'và', 'vẫn', 'vào', 'vậy', 'vì', 'việc', 'với', 'vừa', '!', '\"', '#', '$', '%', '&', \"'\", ',', '*', '+', ',', '-', '.', '/', ':', ';', '<', '=', '>', '?', '@', '[', '\\\\\\\\', ']', '^', '_', '`', '{', '|', '}', '~', '!', '\"', '#', '$', '%', '&', \"'\", '(', ')', '*', '+', ',', '-', '.', '/', ':', ';', '<', '=', '>', '?', '@', '[', '\\\\', ']', '^', '_', '`', '{', '|', '}', '~']\n"
     ]
    }
   ],
   "source": [
    "stop_word = []\n",
    "with open(\"stop_word.txt\",encoding=\"utf-8\") as f:\n",
    "    text = f.read()\n",
    "    for word in text.split() :\n",
    "        stop_word.append(word)\n",
    "    f.close()\n",
    "punc = list(punctuation)\n",
    "stop_word = stop_word + punc\n",
    "print(stop_word)"
   ]
  },
  {
   "cell_type": "code",
   "execution_count": 6,
   "metadata": {
    "colab": {
     "base_uri": "https://localhost:8080/",
     "height": 289
    },
    "executionInfo": {
     "elapsed": 201917,
     "status": "ok",
     "timestamp": 1610555431464,
     "user": {
      "displayName": "K.T.G. Hiếu",
      "photoUrl": "https://lh3.googleusercontent.com/a-/AOh14GgS8y4OlJuJEmuIVXBNLZtqhvE-46zhMEPfvgVIkQ=s64",
      "userId": "17949550505612572826"
     },
     "user_tz": -420
    },
    "id": "orfNH_gY8NQJ",
    "outputId": "9ef19544-7188-4aa3-df9d-0f90d7e76c3a"
   },
   "outputs": [
    {
     "data": {
      "text/html": [
       "<div>\n",
       "<style scoped>\n",
       "    .dataframe tbody tr th:only-of-type {\n",
       "        vertical-align: middle;\n",
       "    }\n",
       "\n",
       "    .dataframe tbody tr th {\n",
       "        vertical-align: top;\n",
       "    }\n",
       "\n",
       "    .dataframe thead th {\n",
       "        text-align: right;\n",
       "    }\n",
       "</style>\n",
       "<table border=\"1\" class=\"dataframe\">\n",
       "  <thead>\n",
       "    <tr style=\"text-align: right;\">\n",
       "      <th></th>\n",
       "      <th>id</th>\n",
       "      <th>name</th>\n",
       "      <th>review_count</th>\n",
       "      <th>rating_average</th>\n",
       "      <th>price</th>\n",
       "      <th>description</th>\n",
       "      <th>category</th>\n",
       "      <th>category_name</th>\n",
       "      <th>description_token</th>\n",
       "    </tr>\n",
       "  </thead>\n",
       "  <tbody>\n",
       "    <tr>\n",
       "      <th>0</th>\n",
       "      <td>21299202</td>\n",
       "      <td>Cáp sạc và truyền dữ liệu tốc độ cao Baseus Ho...</td>\n",
       "      <td>216</td>\n",
       "      <td>4.5</td>\n",
       "      <td>67000</td>\n",
       "      <td>Hỗ trợ dòng lên đến 2.4 A , cho tốc độ sạc nha...</td>\n",
       "      <td>1815</td>\n",
       "      <td>Thiết Bị Số - Phụ Kiện Số/Phụ Kiện Điện Thoại ...</td>\n",
       "      <td>hỗ_trợ dòng lên đến 2.4 a , cho tốc_độ sạc nha...</td>\n",
       "    </tr>\n",
       "    <tr>\n",
       "      <th>1</th>\n",
       "      <td>44105732</td>\n",
       "      <td>Dép sục unisex duet độn đế, chống trượt Litic ...</td>\n",
       "      <td>27</td>\n",
       "      <td>3.5</td>\n",
       "      <td>148500</td>\n",
       "      <td>Tiện lợi, bền đẹp, siêu nhẹ Độn đế tinh tế, kh...</td>\n",
       "      <td>914</td>\n",
       "      <td>Giày - Dép nữ/Giày lười nữ/Giày lười hở gót</td>\n",
       "      <td>tiện_lợi , bền đẹp , siêu nhẹ độn đế tinh_tế ,...</td>\n",
       "    </tr>\n",
       "    <tr>\n",
       "      <th>2</th>\n",
       "      <td>54132740</td>\n",
       "      <td>bình thông hơi dành cho xe máy tặng bao tay xe...</td>\n",
       "      <td>4</td>\n",
       "      <td>4.5</td>\n",
       "      <td>199000</td>\n",
       "      <td>bình thông hơi dành cho xe máy tặng bao tay xe...</td>\n",
       "      <td>6061</td>\n",
       "      <td>Ô Tô - Xe Máy - Xe Đạp/Phụ kiện - Chăm sóc xe/...</td>\n",
       "      <td>bình thông hơi dành cho xe_máy tặng bao_tay xe...</td>\n",
       "    </tr>\n",
       "    <tr>\n",
       "      <th>3</th>\n",
       "      <td>65011722</td>\n",
       "      <td>Đồng Hồ Nam FNGEEN FE230  mặt đồng hồ tròn, th...</td>\n",
       "      <td>19</td>\n",
       "      <td>4.5</td>\n",
       "      <td>179000</td>\n",
       "      <td>Mặt đồng hồ tròn, thiết kế đẹp mắt, sáng bóng ...</td>\n",
       "      <td>914</td>\n",
       "      <td>Đồng hồ và Trang sức/Đồng hồ nam/Đồng hồ busin...</td>\n",
       "      <td>mặt đồng_hồ tròn , thiết_kế đẹp_mắt , sáng bón...</td>\n",
       "    </tr>\n",
       "    <tr>\n",
       "      <th>4</th>\n",
       "      <td>7995403</td>\n",
       "      <td>Giày Sneaker Unisex Converse Chuck Taylor All ...</td>\n",
       "      <td>19</td>\n",
       "      <td>5.0</td>\n",
       "      <td>1500000</td>\n",
       "      <td>Đường may vô cùng tỉ mỉ, tinh tế Chất vải canv...</td>\n",
       "      <td>49620</td>\n",
       "      <td>Giày - Dép nam/Giày thể thao nam/Giày thể thao...</td>\n",
       "      <td>đường may vô_cùng tỉ_mỉ , tinh_tế chất vải can...</td>\n",
       "    </tr>\n",
       "  </tbody>\n",
       "</table>\n",
       "</div>"
      ],
      "text/plain": [
       "         id  ...                                  description_token\n",
       "0  21299202  ...  hỗ_trợ dòng lên đến 2.4 a , cho tốc_độ sạc nha...\n",
       "1  44105732  ...  tiện_lợi , bền đẹp , siêu nhẹ độn đế tinh_tế ,...\n",
       "2  54132740  ...  bình thông hơi dành cho xe_máy tặng bao_tay xe...\n",
       "3  65011722  ...  mặt đồng_hồ tròn , thiết_kế đẹp_mắt , sáng bón...\n",
       "4   7995403  ...  đường may vô_cùng tỉ_mỉ , tinh_tế chất vải can...\n",
       "\n",
       "[5 rows x 9 columns]"
      ]
     },
     "execution_count": 6,
     "metadata": {
      "tags": []
     },
     "output_type": "execute_result"
    }
   ],
   "source": [
    "def clean_text(text):\n",
    "    text_lower = text.lower()\n",
    "    text_token = ViTokenizer.tokenize(text_lower)\n",
    "    \n",
    "    sent = []\n",
    "    for word in text_token.split(\"_\\s\") :\n",
    "        if (word not in stop_word) :\n",
    "            if (\"_\" in word) or (word.isalpha() == True):\n",
    "                sent.append(word)\n",
    "    return \" \".join(sent)\n",
    "\n",
    "product_df['description_token'] = product_df['description'].apply(clean_text)\n",
    "product_df.head()"
   ]
  },
  {
   "cell_type": "code",
   "execution_count": 7,
   "metadata": {
    "colab": {
     "base_uri": "https://localhost:8080/",
     "height": 35
    },
    "executionInfo": {
     "elapsed": 201916,
     "status": "ok",
     "timestamp": 1610555431465,
     "user": {
      "displayName": "K.T.G. Hiếu",
      "photoUrl": "https://lh3.googleusercontent.com/a-/AOh14GgS8y4OlJuJEmuIVXBNLZtqhvE-46zhMEPfvgVIkQ=s64",
      "userId": "17949550505612572826"
     },
     "user_tz": -420
    },
    "id": "4hNq9e1J_Vua",
    "outputId": "89d34ec7-b8e4-4580-8651-b302a093496c"
   },
   "outputs": [
    {
     "data": {
      "application/vnd.google.colaboratory.intrinsic+json": {
       "type": "string"
      },
      "text/plain": [
       "'Đồng Hồ Nam FNGEEN FE230  mặt đồng hồ tròn, thiết kế đẹp mắt, sáng bóng với tính năng hiện đại cho phái mạnh tự tin, mạng mẽ và thời trang  Dây thép không gỉ thiết kế ôm tay '"
      ]
     },
     "execution_count": 7,
     "metadata": {
      "tags": []
     },
     "output_type": "execute_result"
    }
   ],
   "source": [
    "product_df['name'].iloc[3]"
   ]
  },
  {
   "cell_type": "code",
   "execution_count": 8,
   "metadata": {
    "colab": {
     "base_uri": "https://localhost:8080/"
    },
    "executionInfo": {
     "elapsed": 206706,
     "status": "ok",
     "timestamp": 1610555436257,
     "user": {
      "displayName": "K.T.G. Hiếu",
      "photoUrl": "https://lh3.googleusercontent.com/a-/AOh14GgS8y4OlJuJEmuIVXBNLZtqhvE-46zhMEPfvgVIkQ=s64",
      "userId": "17949550505612572826"
     },
     "user_tz": -420
    },
    "id": "txdJiYLK8NQK",
    "outputId": "7bc3520d-b08b-4e25-f0d7-5f4fc7ab1467"
   },
   "outputs": [
    {
     "data": {
      "text/plain": [
       "(21838, 3000)"
      ]
     },
     "execution_count": 8,
     "metadata": {
      "tags": []
     },
     "output_type": "execute_result"
    }
   ],
   "source": [
    "#Import TfIdfVectorizer from the scikit-learn library\n",
    "from sklearn.feature_extraction.text import TfidfVectorizer\n",
    "\n",
    "#Define a TF-IDF Vectorizer Object. Remove all english stopwords\n",
    "tfidf = TfidfVectorizer(min_df=5,max_df= 0.8,max_features=3000,sublinear_tf=True)\n",
    "\n",
    "#Replace NaN with an empty string\n",
    "product_df['description_token'] = product_df['description_token'].fillna('')\n",
    "\n",
    "#Construct the required TF-IDF matrix by applying the fit_transform method on the description_token feature\n",
    "tfidf_matrix = tfidf.fit_transform(product_df['description_token'])\n",
    "\n",
    "#Output the shape of tfidf_matrix\n",
    "tfidf_matrix.shape"
   ]
  },
  {
   "cell_type": "code",
   "execution_count": 9,
   "metadata": {
    "executionInfo": {
     "elapsed": 249996,
     "status": "ok",
     "timestamp": 1610555479549,
     "user": {
      "displayName": "K.T.G. Hiếu",
      "photoUrl": "https://lh3.googleusercontent.com/a-/AOh14GgS8y4OlJuJEmuIVXBNLZtqhvE-46zhMEPfvgVIkQ=s64",
      "userId": "17949550505612572826"
     },
     "user_tz": -420
    },
    "id": "BmEN-DhX8NQK"
   },
   "outputs": [],
   "source": [
    "# Import linear_kernel to compute the dot product\n",
    "from sklearn.metrics.pairwise import linear_kernel\n",
    "\n",
    "# Compute the cosine similarity matrix\n",
    "cosine_sim = linear_kernel(tfidf_matrix, tfidf_matrix)"
   ]
  },
  {
   "cell_type": "code",
   "execution_count": 10,
   "metadata": {
    "executionInfo": {
     "elapsed": 249996,
     "status": "ok",
     "timestamp": 1610555479551,
     "user": {
      "displayName": "K.T.G. Hiếu",
      "photoUrl": "https://lh3.googleusercontent.com/a-/AOh14GgS8y4OlJuJEmuIVXBNLZtqhvE-46zhMEPfvgVIkQ=s64",
      "userId": "17949550505612572826"
     },
     "user_tz": -420
    },
    "id": "-DNsjYiK8NQL"
   },
   "outputs": [],
   "source": [
    "#Construct a reverse mapping of indices and product ids, and drop duplicate ids, if any\n",
    "indices = pd.Series(product_df.index, index=product_df['id']).drop_duplicates()"
   ]
  },
  {
   "cell_type": "code",
   "execution_count": 11,
   "metadata": {
    "executionInfo": {
     "elapsed": 249994,
     "status": "ok",
     "timestamp": 1610555479552,
     "user": {
      "displayName": "K.T.G. Hiếu",
      "photoUrl": "https://lh3.googleusercontent.com/a-/AOh14GgS8y4OlJuJEmuIVXBNLZtqhvE-46zhMEPfvgVIkQ=s64",
      "userId": "17949550505612572826"
     },
     "user_tz": -420
    },
    "id": "vvmW0DlL8NQM"
   },
   "outputs": [],
   "source": [
    "# Function that takes in product id as input and gives recommendations \n",
    "def content_recommender(id, cosine_sim=cosine_sim, product_df=product_df, indices=indices):\n",
    "    # Obtain the index of the product that matches the title\n",
    "    idx = indices[id]\n",
    "\n",
    "    # Get the pairwsie similarity scores of all products with that product\n",
    "    # And convert it into a list of tuples as described above\n",
    "    sim_scores = list(enumerate(cosine_sim[idx]))\n",
    "\n",
    "    # Sort the products based on the cosine similarity scores\n",
    "    sim_scores = sorted(sim_scores, key=lambda x: x[1], reverse=True)\n",
    "\n",
    "    # Get the scores of the 20 most similar products. Ignore the first product.\n",
    "    sim_scores = sim_scores[1:21]\n",
    "\n",
    "    # Get the product indices\n",
    "    product_indices = [i[0] for i in sim_scores]\n",
    "\n",
    "    # Return the top 20 most similar products\n",
    "    return product_df['name'].iloc[product_indices]"
   ]
  },
  {
   "cell_type": "markdown",
   "metadata": {},
   "source": [
    "### Get recommendations for \n",
    "Đồng Hồ Nam FNGEEN FE230  mặt đồng hồ tròn, thiết kế đẹp mắt, sáng bóng với tính năng hiện đại cho phái mạnh tự tin, mạng mẽ và thời trang  Dây thép không gỉ thiết kế ôm tay "
   ]
  },
  {
   "cell_type": "code",
   "execution_count": 12,
   "metadata": {
    "colab": {
     "base_uri": "https://localhost:8080/"
    },
    "executionInfo": {
     "elapsed": 249993,
     "status": "ok",
     "timestamp": 1610555479553,
     "user": {
      "displayName": "K.T.G. Hiếu",
      "photoUrl": "https://lh3.googleusercontent.com/a-/AOh14GgS8y4OlJuJEmuIVXBNLZtqhvE-46zhMEPfvgVIkQ=s64",
      "userId": "17949550505612572826"
     },
     "user_tz": -420
    },
    "id": "08SQK07m8NQM",
    "outputId": "7dc6c375-b94c-45d5-e72d-1c738fa0044d"
   },
   "outputs": [
    {
     "data": {
      "text/plain": [
       "7249     Đồng Hồ Nam FNGEEN FE708 mạ vàng mặt đồng hồ t...\n",
       "11967    Đồng Hồ Nam FNGEEN FG0541 doanh nhân 2020 Lịch...\n",
       "17822    Đồng hồ nam FNGEEN 5055 lịch ngày chính hãng n...\n",
       "17906    Đồng Hồ Nam FNGEEN F281 mặt số đính đá Lịch Ng...\n",
       "3290     Đồng hồ nam dây da thời trang - đồng hồ thể th...\n",
       "17081    Đồng hồ nam ECONOMICXI dây thép mành đen chạy ...\n",
       "13636    Đồng Hồ Nam Fourron F66 Lịch Ngày Dây Thép Cao...\n",
       "15295    Đồng hồ nam chống nước NO6216G, phong cách trẻ...\n",
       "2586     Đồng Hồ Nam Dây Thép Cao Cấp Thời Trang Lịch L...\n",
       "477      Đồng hồ nam FNGEEN fn668 Mặt rồng 3d cuộn hình...\n",
       "4799     Đồng Hồ Nam Fourron Lịch Ngày chính hãng nam s...\n",
       "4918     Đồng Hồ Nam 2 Lịch Crnaira CR049 Dây Thép Mành...\n",
       "6188     Đồng Hồ Nam Crnaira CR8333 Siêu Mỏng mặt đồng ...\n",
       "10334    Đồng hồ Nam CUENA CUN8207 Lịch ngày sang trọng...\n",
       "9980     Đồng hồ nam HALEI 564 mặt vuông thời trang cao...\n",
       "9049     Đồng Hồ Nam Chạy 6 Kim Crnaira PE90 Mặt Đính Đ...\n",
       "5144     Đồng Hồ Nam 6 Kim Crnaira C099 Dây Hợp Kim Thé...\n",
       "5007     Đồng Hồ Nam Crnaira Japan CR029 Chạy 6 kim Mặt...\n",
       "15821    Đồng Hồ Nam Kingnuos K1982 Chạy 2 Lịch  Dây Hợ...\n",
       "2389     Đồng hồ nam SIêu Mỏng YAZOLE YA502 DOanh Nhân ...\n",
       "Name: name, dtype: object"
      ]
     },
     "execution_count": 12,
     "metadata": {
      "tags": []
     },
     "output_type": "execute_result"
    }
   ],
   "source": [
    "donghonam_id = product_df[product_df['name'].str.find('Đồng Hồ Nam FNGEEN FE230  mặt đồng hồ tròn, thiết kế đẹp mắt, sáng bóng với tính năng hiện đại cho phái mạnh tự tin, mạng mẽ và thời trang  Dây thép không gỉ thiết kế ôm tay ') == 0]['id'].iloc[0]\n",
    "content_recommender(donghonam_id)"
   ]
  },
  {
   "cell_type": "code",
   "execution_count": 13,
   "metadata": {
    "colab": {
     "base_uri": "https://localhost:8080/"
    },
    "executionInfo": {
     "elapsed": 359022,
     "status": "ok",
     "timestamp": 1610555588769,
     "user": {
      "displayName": "K.T.G. Hiếu",
      "photoUrl": "https://lh3.googleusercontent.com/a-/AOh14GgS8y4OlJuJEmuIVXBNLZtqhvE-46zhMEPfvgVIkQ=s64",
      "userId": "17949550505612572826"
     },
     "user_tz": -420
    },
    "id": "LFY-5SquAwE9",
    "outputId": "7f34db96-4ed3-446b-d585-26a381c30f82"
   },
   "outputs": [
    {
     "name": "stdout",
     "output_type": "stream",
     "text": [
      "Save file:  cosine_sim.pkl\n"
     ]
    }
   ],
   "source": [
    "import pickle\n",
    "def save_pickle(data, filename):\n",
    "    with open(filename, 'wb') as f:\n",
    "        pickle.dump(data, f)\n",
    "    print(\"Save file: \", filename)\n",
    "save_pickle(cosine_sim, 'cosine_sim.pkl')"
   ]
  },
  {
   "cell_type": "markdown",
   "metadata": {
    "id": "i663eSGXASrX"
   },
   "source": [
    "# Collaborative Filtering\n",
    "\n",
    "## The Framework"
   ]
  },
  {
   "cell_type": "code",
   "execution_count": 188,
   "metadata": {
    "executionInfo": {
     "elapsed": 1017,
     "status": "ok",
     "timestamp": 1610555614621,
     "user": {
      "displayName": "K.T.G. Hiếu",
      "photoUrl": "https://lh3.googleusercontent.com/a-/AOh14GgS8y4OlJuJEmuIVXBNLZtqhvE-46zhMEPfvgVIkQ=s64",
      "userId": "17949550505612572826"
     },
     "user_tz": -420
    },
    "id": "9bPU1ne_B6z0"
   },
   "outputs": [],
   "source": [
    "import pandas as pd\n",
    "import numpy as np"
   ]
  },
  {
   "cell_type": "code",
   "execution_count": 3,
   "metadata": {
    "colab": {
     "base_uri": "https://localhost:8080/",
     "height": 238
    },
    "executionInfo": {
     "elapsed": 13724,
     "status": "ok",
     "timestamp": 1610555664866,
     "user": {
      "displayName": "K.T.G. Hiếu",
      "photoUrl": "https://lh3.googleusercontent.com/a-/AOh14GgS8y4OlJuJEmuIVXBNLZtqhvE-46zhMEPfvgVIkQ=s64",
      "userId": "17949550505612572826"
     },
     "user_tz": -420
    },
    "id": "IrFsLZYSB8JK",
    "outputId": "615b24e3-acbc-4fb1-e9d7-fe2eaef34bc7"
   },
   "outputs": [
    {
     "name": "stderr",
     "output_type": "stream",
     "text": [
      "/home/ktgiahieu/env/ds/lib/python3.6/site-packages/numpy/lib/arraysetops.py:580: FutureWarning: elementwise comparison failed; returning scalar instead, but in the future will perform elementwise comparison\n",
      "  mask |= (ar1 == a)\n"
     ]
    },
    {
     "data": {
      "text/html": [
       "<div>\n",
       "<style scoped>\n",
       "    .dataframe tbody tr th:only-of-type {\n",
       "        vertical-align: middle;\n",
       "    }\n",
       "\n",
       "    .dataframe tbody tr th {\n",
       "        vertical-align: top;\n",
       "    }\n",
       "\n",
       "    .dataframe thead th {\n",
       "        text-align: right;\n",
       "    }\n",
       "</style>\n",
       "<table border=\"1\" class=\"dataframe\">\n",
       "  <thead>\n",
       "    <tr style=\"text-align: right;\">\n",
       "      <th></th>\n",
       "      <th>customer_id</th>\n",
       "      <th>product_id</th>\n",
       "      <th>rating</th>\n",
       "      <th>thank_count</th>\n",
       "      <th>title</th>\n",
       "      <th>content</th>\n",
       "      <th>created_at</th>\n",
       "      <th>purchase_at</th>\n",
       "      <th>customer_name</th>\n",
       "    </tr>\n",
       "  </thead>\n",
       "  <tbody>\n",
       "    <tr>\n",
       "      <th>0</th>\n",
       "      <td>5719606</td>\n",
       "      <td>21299202</td>\n",
       "      <td>5</td>\n",
       "      <td>6</td>\n",
       "      <td>Dây 2m, chất liệu của dây dù</td>\n",
       "      <td>Xài được khoảng 1 tuần thì có vẻ ổn. Dây dài 2...</td>\n",
       "      <td>2020-08-25 14:04:15</td>\n",
       "      <td>2020-07-01 13:22:12</td>\n",
       "      <td>Khách Hàng</td>\n",
       "    </tr>\n",
       "    <tr>\n",
       "      <th>1</th>\n",
       "      <td>11891537</td>\n",
       "      <td>21299202</td>\n",
       "      <td>1</td>\n",
       "      <td>19</td>\n",
       "      <td>PSK Dragon giao láo bố láo.</td>\n",
       "      <td>Đặt 3 sợi màu đỏ dài 2m , giao 2 sợi màu đen 2...</td>\n",
       "      <td>2020-08-12 11:41:41</td>\n",
       "      <td>2020-08-06 22:05:10</td>\n",
       "      <td>Trung Tung Tăng</td>\n",
       "    </tr>\n",
       "    <tr>\n",
       "      <th>2</th>\n",
       "      <td>7630980</td>\n",
       "      <td>21299202</td>\n",
       "      <td>4</td>\n",
       "      <td>0</td>\n",
       "      <td>Được</td>\n",
       "      <td>cảm nhận ban đầu thì dây rất cứng, \\ndây đúng ...</td>\n",
       "      <td>2020-09-04 11:15:21</td>\n",
       "      <td>2020-09-02 21:39:54</td>\n",
       "      <td>Nguyễn Tất Thắng</td>\n",
       "    </tr>\n",
       "    <tr>\n",
       "      <th>3</th>\n",
       "      <td>1242105</td>\n",
       "      <td>21299202</td>\n",
       "      <td>1</td>\n",
       "      <td>0</td>\n",
       "      <td>Rất không hài lòng</td>\n",
       "      <td>Chất lượng hoàn thiện kém, kích thước chân lig...</td>\n",
       "      <td>2020-08-15 14:19:43</td>\n",
       "      <td>2020-08-13 20:50:11</td>\n",
       "      <td>Doan Hiep</td>\n",
       "    </tr>\n",
       "    <tr>\n",
       "      <th>4</th>\n",
       "      <td>10815590</td>\n",
       "      <td>21299202</td>\n",
       "      <td>4</td>\n",
       "      <td>8</td>\n",
       "      <td>Ổn</td>\n",
       "      <td>Hoàn thiện khá tốt\\nNhưng tại sao dùng bút thử...</td>\n",
       "      <td>2020-03-08 13:23:01</td>\n",
       "      <td>2020-02-21 16:38:52</td>\n",
       "      <td>Hoàng việt hưng</td>\n",
       "    </tr>\n",
       "  </tbody>\n",
       "</table>\n",
       "</div>"
      ],
      "text/plain": [
       "   customer_id  product_id  rating  thank_count                         title  \\\n",
       "0      5719606    21299202       5            6  Dây 2m, chất liệu của dây dù   \n",
       "1     11891537    21299202       1           19   PSK Dragon giao láo bố láo.   \n",
       "2      7630980    21299202       4            0                          Được   \n",
       "3      1242105    21299202       1            0            Rất không hài lòng   \n",
       "4     10815590    21299202       4            8                            Ổn   \n",
       "\n",
       "                                             content           created_at  \\\n",
       "0  Xài được khoảng 1 tuần thì có vẻ ổn. Dây dài 2...  2020-08-25 14:04:15   \n",
       "1  Đặt 3 sợi màu đỏ dài 2m , giao 2 sợi màu đen 2...  2020-08-12 11:41:41   \n",
       "2  cảm nhận ban đầu thì dây rất cứng, \\ndây đúng ...  2020-09-04 11:15:21   \n",
       "3  Chất lượng hoàn thiện kém, kích thước chân lig...  2020-08-15 14:19:43   \n",
       "4  Hoàn thiện khá tốt\\nNhưng tại sao dùng bút thử...  2020-03-08 13:23:01   \n",
       "\n",
       "           purchase_at     customer_name  \n",
       "0  2020-07-01 13:22:12        Khách Hàng  \n",
       "1  2020-08-06 22:05:10   Trung Tung Tăng  \n",
       "2  2020-09-02 21:39:54  Nguyễn Tất Thắng  \n",
       "3  2020-08-13 20:50:11         Doan Hiep  \n",
       "4  2020-02-21 16:38:52   Hoàng việt hưng  "
      ]
     },
     "execution_count": 3,
     "metadata": {},
     "output_type": "execute_result"
    }
   ],
   "source": [
    "#Load the review file into a dataframe\n",
    "orig_ratings = pd.read_csv('product_review_clean.csv', index_col = 0)\n",
    "orig_ratings.head()"
   ]
  },
  {
   "cell_type": "markdown",
   "metadata": {
    "id": "9wwh2GdomWU5"
   },
   "source": [
    "## Graph approach"
   ]
  },
  {
   "cell_type": "code",
   "execution_count": 85,
   "metadata": {},
   "outputs": [],
   "source": [
    "import networkx as nx\n",
    "G = nx.Graph()\n",
    "G.add_nodes_from(orig_ratings['customer_id'].apply(lambda x: 'u'+str(x)).unique(), bipartite = 'user')\n",
    "G.add_nodes_from(orig_ratings['product_id'].apply(lambda x: 'i'+str(x)).unique(), bipartite = 'item')\n",
    "product_customer_edges = [('u'+str(x['customer_id']), 'i'+str(x['product_id']), x['rating']) for i,x in orig_ratings.iterrows()]\n",
    "G.add_weighted_edges_from(product_customer_edges)"
   ]
  },
  {
   "cell_type": "markdown",
   "metadata": {},
   "source": [
    "### User-based collaborative filtering"
   ]
  },
  {
   "cell_type": "code",
   "execution_count": 286,
   "metadata": {},
   "outputs": [],
   "source": [
    "user_nodes = [n for n in G.nodes() if G.nodes[n]['bipartite'] == 'user']\n",
    "item_nodes = [n for n in G.nodes() if G.nodes[n]['bipartite'] == 'item']"
   ]
  },
  {
   "cell_type": "code",
   "execution_count": 297,
   "metadata": {},
   "outputs": [],
   "source": [
    "def user_collaborative_recommender(user_id, similarity_metrics):\n",
    "    user_u = 'u' + str(user_id)\n",
    "    similarities = {}\n",
    "    for user_v in user_nodes:\n",
    "        if user_u == user_v:\n",
    "            continue\n",
    "        if len(list(nx.common_neighbors(G, user_u, user_v))) > 1:\n",
    "            similarity = similarity_metrics(user_u, user_v)\n",
    "            similarities[user_v]= similarity\n",
    "    if len(similarities) > 0:\n",
    "        #Get users with 10 most similar scores\n",
    "        similar_users = sorted(similarities, key = similarities.get, reverse=True)[:10]\n",
    "        user_u_neighbors = list(G.neighbors(user_u))\n",
    "        recommend_items = set()\n",
    "        for user_v in similar_users:\n",
    "            user_v_neighbors = list(G.neighbors(user_v))\n",
    "            different_neighbors = [node for node in user_v_neighbors if node not in user_u_neighbors]\n",
    "            for different_node in different_neighbors:\n",
    "                item_rating = G[user_v][different_node]['weight']\n",
    "                recommend_items.add((different_node, item_rating))\n",
    "        #Get 10 most recommended items \n",
    "        best_item_nodes = sorted(recommend_items, key = lambda x:x[1], reverse=True)[:10]\n",
    "        best_item_ids = [item_id[1:] for item_id, score in best_item_nodes] #remove 'i'\n",
    "    \n",
    "        #Return the top 10 products as recommendations\n",
    "        return product_df[product_df['id'].isin(best_item_ids)]\n",
    "    return None"
   ]
  },
  {
   "cell_type": "markdown",
   "metadata": {},
   "source": [
    "Next, let's define some metrics to calculate the similarity between 2 users:\n",
    "- Weighted Pearson Correlation Coefficient(WPCC)\n",
    "- New Heuristic Similarity Model (NHSM)\n",
    "- MJaccard similarity\n",
    "- User Rating Preference similarity (URP)"
   ]
  },
  {
   "cell_type": "code",
   "execution_count": 298,
   "metadata": {},
   "outputs": [],
   "source": [
    "import random\n",
    "def baseline(user_u, user_v):\n",
    "    return random.random()\n",
    "\n",
    "def jaccard_coef(user_u, user_v):\n",
    "    return list(nx.jaccard_coefficient(G, [(user_u, user_v)]))[0][2]\n",
    "\n",
    "from scipy.stats import pearsonr\n",
    "def weighted_pearson_corr(user_u, user_v, H = 50):\n",
    "    common_items = list(nx.common_neighbors(G, user_u, user_v))\n",
    "    user_u_ratings = []\n",
    "    user_v_ratings = []\n",
    "    for common_item in common_items:\n",
    "        user_u_ratings.append(G[user_u][common_item]['weight'])\n",
    "        user_v_ratings.append(G[user_v][common_item]['weight'])\n",
    "    pearson_corr = pearsonr(user_u_ratings, user_v_ratings)\n",
    "    if len(common_items) < H:\n",
    "        return pearson_corr[0] * len(common_items) / H\n",
    "    else:\n",
    "        return pearson_corr[0]"
   ]
  },
  {
   "cell_type": "markdown",
   "metadata": {},
   "source": [
    "### User ID 2105483 Huỳnh Đức Toàn"
   ]
  },
  {
   "cell_type": "code",
   "execution_count": 371,
   "metadata": {},
   "outputs": [],
   "source": [
    "customer_id = 2105483"
   ]
  },
  {
   "cell_type": "code",
   "execution_count": 372,
   "metadata": {},
   "outputs": [
    {
     "data": {
      "text/plain": [
       "customer_id             2105483\n",
       "customer_name    Huỳnh Đức Toàn\n",
       "Name: 1705, dtype: object"
      ]
     },
     "execution_count": 372,
     "metadata": {},
     "output_type": "execute_result"
    }
   ],
   "source": [
    "orig_ratings[orig_ratings['customer_id']==customer_id].iloc[0,[0,8]]"
   ]
  },
  {
   "cell_type": "markdown",
   "metadata": {},
   "source": [
    "### Previous bought products"
   ]
  },
  {
   "cell_type": "code",
   "execution_count": 384,
   "metadata": {},
   "outputs": [
    {
     "data": {
      "text/html": [
       "<div>\n",
       "<style scoped>\n",
       "    .dataframe tbody tr th:only-of-type {\n",
       "        vertical-align: middle;\n",
       "    }\n",
       "\n",
       "    .dataframe tbody tr th {\n",
       "        vertical-align: top;\n",
       "    }\n",
       "\n",
       "    .dataframe thead th {\n",
       "        text-align: right;\n",
       "    }\n",
       "</style>\n",
       "<table border=\"1\" class=\"dataframe\">\n",
       "  <thead>\n",
       "    <tr style=\"text-align: right;\">\n",
       "      <th></th>\n",
       "      <th>id</th>\n",
       "      <th>name</th>\n",
       "      <th>description</th>\n",
       "      <th>category_name</th>\n",
       "    </tr>\n",
       "  </thead>\n",
       "  <tbody>\n",
       "    <tr>\n",
       "      <th>23</th>\n",
       "      <td>2293833</td>\n",
       "      <td>Combo 2 hộp Nhang Xanh 30cm-500g (Chân Tăm Mộc...</td>\n",
       "      <td>Thành phần:  bột trầm hương, keo bời lời, tăm ...</td>\n",
       "      <td>Nhà Cửa - Đời Sống/Đồ thờ cúng/Hương, nhang</td>\n",
       "    </tr>\n",
       "    <tr>\n",
       "      <th>751</th>\n",
       "      <td>22689010</td>\n",
       "      <td>Combo 3 áo thun trơn nam thời trang Everest mà...</td>\n",
       "      <td>Chất liệu thun mềm mại co giãn tốt , thoáng má...</td>\n",
       "      <td>Thời trang nam/Áo thun nam</td>\n",
       "    </tr>\n",
       "    <tr>\n",
       "      <th>2131</th>\n",
       "      <td>29115771</td>\n",
       "      <td>Quần Jogger Nam Thun Nỉ Ống Bó Có Big Size</td>\n",
       "      <td>Quần jogger nỉ được may bằng chất liệu thun nỉ...</td>\n",
       "      <td>Thời trang nam/Quần nam/Quần jogger nam</td>\n",
       "    </tr>\n",
       "    <tr>\n",
       "      <th>6070</th>\n",
       "      <td>4616949</td>\n",
       "      <td>Mũ len kèm khăn</td>\n",
       "      <td>Chất liệu len cao cấp không bông xù. Mặt trong...</td>\n",
       "      <td>Phụ kiện thời trang/Phụ kiện thời trang nam/Nó...</td>\n",
       "    </tr>\n",
       "    <tr>\n",
       "      <th>10271</th>\n",
       "      <td>56337264</td>\n",
       "      <td>Xe đạp tập thể dục T-366</td>\n",
       "      <td>Xe đạp tập thể dục T366 MẪU MÃ SẢN PHẨM ĐẸP MẮ...</td>\n",
       "      <td>Thể Thao - Dã Ngoại/Dụng cụ - thiết bị tập thể...</td>\n",
       "    </tr>\n",
       "  </tbody>\n",
       "</table>\n",
       "</div>"
      ],
      "text/plain": [
       "             id                                               name  \\\n",
       "23      2293833  Combo 2 hộp Nhang Xanh 30cm-500g (Chân Tăm Mộc...   \n",
       "751    22689010  Combo 3 áo thun trơn nam thời trang Everest mà...   \n",
       "2131   29115771         Quần Jogger Nam Thun Nỉ Ống Bó Có Big Size   \n",
       "6070    4616949                                   Mũ len kèm khăn    \n",
       "10271  56337264                           Xe đạp tập thể dục T-366   \n",
       "\n",
       "                                             description  \\\n",
       "23     Thành phần:  bột trầm hương, keo bời lời, tăm ...   \n",
       "751    Chất liệu thun mềm mại co giãn tốt , thoáng má...   \n",
       "2131   Quần jogger nỉ được may bằng chất liệu thun nỉ...   \n",
       "6070   Chất liệu len cao cấp không bông xù. Mặt trong...   \n",
       "10271  Xe đạp tập thể dục T366 MẪU MÃ SẢN PHẨM ĐẸP MẮ...   \n",
       "\n",
       "                                           category_name  \n",
       "23           Nhà Cửa - Đời Sống/Đồ thờ cúng/Hương, nhang  \n",
       "751                           Thời trang nam/Áo thun nam  \n",
       "2131             Thời trang nam/Quần nam/Quần jogger nam  \n",
       "6070   Phụ kiện thời trang/Phụ kiện thời trang nam/Nó...  \n",
       "10271  Thể Thao - Dã Ngoại/Dụng cụ - thiết bị tập thể...  "
      ]
     },
     "execution_count": 384,
     "metadata": {},
     "output_type": "execute_result"
    }
   ],
   "source": [
    "previous_products = product_df[product_df['id'].isin(orig_ratings[orig_ratings['customer_id'] == customer_id]['product_id'])].head()\n",
    "previous_products = previous_products[['id', 'name', 'description', 'category_name']]\n",
    "previous_products"
   ]
  },
  {
   "cell_type": "markdown",
   "metadata": {},
   "source": [
    "### Recommended products"
   ]
  },
  {
   "cell_type": "code",
   "execution_count": 388,
   "metadata": {},
   "outputs": [
    {
     "data": {
      "text/html": [
       "<div>\n",
       "<style scoped>\n",
       "    .dataframe tbody tr th:only-of-type {\n",
       "        vertical-align: middle;\n",
       "    }\n",
       "\n",
       "    .dataframe tbody tr th {\n",
       "        vertical-align: top;\n",
       "    }\n",
       "\n",
       "    .dataframe thead th {\n",
       "        text-align: right;\n",
       "    }\n",
       "</style>\n",
       "<table border=\"1\" class=\"dataframe\">\n",
       "  <thead>\n",
       "    <tr style=\"text-align: right;\">\n",
       "      <th></th>\n",
       "      <th>id</th>\n",
       "      <th>name</th>\n",
       "      <th>description</th>\n",
       "      <th>category_name</th>\n",
       "    </tr>\n",
       "  </thead>\n",
       "  <tbody>\n",
       "    <tr>\n",
       "      <th>5054</th>\n",
       "      <td>49047291</td>\n",
       "      <td>Đồng hồ nam FOURRON F1128 santafe watch 2020 L...</td>\n",
       "      <td>Thương hiệu: FOURRON Kiểu Máy: Quartz Kích thư...</td>\n",
       "      <td>Đồng hồ và Trang sức/Đồng hồ nam/Đồng hồ busin...</td>\n",
       "    </tr>\n",
       "    <tr>\n",
       "      <th>9933</th>\n",
       "      <td>42901507</td>\n",
       "      <td>Áo thun Nam Nữ unisex ASALA  (ux-901)</td>\n",
       "      <td>áo thun thoáng mát đa năng unisex nam nữ đều m...</td>\n",
       "      <td>Thời trang nam/Áo thun nam</td>\n",
       "    </tr>\n",
       "    <tr>\n",
       "      <th>10354</th>\n",
       "      <td>41067638</td>\n",
       "      <td>Áo giữ nhiệt lót nỉ nam</td>\n",
       "      <td>Chất liệu vải thun mềm mai, dày dặn ấm áp Thiế...</td>\n",
       "      <td>Thời trang nam/Đồ ngủ, đồ mặc nhà nam/Đồ mặc n...</td>\n",
       "    </tr>\n",
       "    <tr>\n",
       "      <th>14352</th>\n",
       "      <td>26334237</td>\n",
       "      <td>Giày Thể Thao Nam DOL Cao Cổ tăng 7 cm chiều c...</td>\n",
       "      <td>GIÀY BÍ MẬT TĂNG 7CM chiều cao (TẶNG 1 MIẾNG Đ...</td>\n",
       "      <td>Giày - Dép nam/Giày thể thao nam/Giày thể thao...</td>\n",
       "    </tr>\n",
       "    <tr>\n",
       "      <th>16041</th>\n",
       "      <td>72673068</td>\n",
       "      <td>Quần Thể Thao Nam 5S (TK004) Cao Cấp Vải Gió D...</td>\n",
       "      <td>Tên sản phẩm: Quần Thể Thao Nam 5S (TK004) Cao...</td>\n",
       "      <td>Thời trang nam/Quần nam/Quần jogger nam</td>\n",
       "    </tr>\n",
       "  </tbody>\n",
       "</table>\n",
       "</div>"
      ],
      "text/plain": [
       "             id                                               name  \\\n",
       "5054   49047291  Đồng hồ nam FOURRON F1128 santafe watch 2020 L...   \n",
       "9933   42901507              Áo thun Nam Nữ unisex ASALA  (ux-901)   \n",
       "10354  41067638                            Áo giữ nhiệt lót nỉ nam   \n",
       "14352  26334237  Giày Thể Thao Nam DOL Cao Cổ tăng 7 cm chiều c...   \n",
       "16041  72673068  Quần Thể Thao Nam 5S (TK004) Cao Cấp Vải Gió D...   \n",
       "\n",
       "                                             description  \\\n",
       "5054   Thương hiệu: FOURRON Kiểu Máy: Quartz Kích thư...   \n",
       "9933   áo thun thoáng mát đa năng unisex nam nữ đều m...   \n",
       "10354  Chất liệu vải thun mềm mai, dày dặn ấm áp Thiế...   \n",
       "14352  GIÀY BÍ MẬT TĂNG 7CM chiều cao (TẶNG 1 MIẾNG Đ...   \n",
       "16041  Tên sản phẩm: Quần Thể Thao Nam 5S (TK004) Cao...   \n",
       "\n",
       "                                           category_name  \n",
       "5054   Đồng hồ và Trang sức/Đồng hồ nam/Đồng hồ busin...  \n",
       "9933                          Thời trang nam/Áo thun nam  \n",
       "10354  Thời trang nam/Đồ ngủ, đồ mặc nhà nam/Đồ mặc n...  \n",
       "14352  Giày - Dép nam/Giày thể thao nam/Giày thể thao...  \n",
       "16041            Thời trang nam/Quần nam/Quần jogger nam  "
      ]
     },
     "execution_count": 388,
     "metadata": {},
     "output_type": "execute_result"
    }
   ],
   "source": [
    "recommended_products = user_collaborative_recommender(customer_id, jaccard_coef).iloc[4:9]\n",
    "recommended_products = recommended_products[['id', 'name', 'description', 'category_name']]\n",
    "recommended_products"
   ]
  },
  {
   "cell_type": "code",
   "execution_count": null,
   "metadata": {},
   "outputs": [],
   "source": []
  }
 ],
 "metadata": {
  "colab": {
   "collapsed_sections": [],
   "name": "TikiRecommender.ipynb",
   "provenance": []
  },
  "kernelspec": {
   "display_name": "ds",
   "language": "python",
   "name": "ds"
  },
  "language_info": {
   "codemirror_mode": {
    "name": "ipython",
    "version": 3
   },
   "file_extension": ".py",
   "mimetype": "text/x-python",
   "name": "python",
   "nbconvert_exporter": "python",
   "pygments_lexer": "ipython3",
   "version": "3.6.9"
  }
 },
 "nbformat": 4,
 "nbformat_minor": 4
}
