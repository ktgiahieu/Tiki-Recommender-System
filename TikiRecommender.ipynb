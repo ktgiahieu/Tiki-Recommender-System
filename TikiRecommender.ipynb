{
 "cells": [
  {
   "cell_type": "markdown",
   "metadata": {
    "id": "rKEdw1SH8NQE"
   },
   "source": [
    "# Description Based Recommender"
   ]
  },
  {
   "cell_type": "code",
   "execution_count": 12,
   "metadata": {
    "colab": {
     "base_uri": "https://localhost:8080/",
     "height": 204
    },
    "executionInfo": {
     "elapsed": 3210,
     "status": "ok",
     "timestamp": 1610547432380,
     "user": {
      "displayName": "K.T.G. Hiếu",
      "photoUrl": "https://lh3.googleusercontent.com/a-/AOh14GgS8y4OlJuJEmuIVXBNLZtqhvE-46zhMEPfvgVIkQ=s64",
      "userId": "17949550505612572826"
     },
     "user_tz": -420
    },
    "id": "LFYIwEJj8NQG",
    "outputId": "3395dd82-95e1-4557-cdcf-c950a5b5b34e"
   },
   "outputs": [
    {
     "data": {
      "text/html": [
       "<div>\n",
       "<style scoped>\n",
       "    .dataframe tbody tr th:only-of-type {\n",
       "        vertical-align: middle;\n",
       "    }\n",
       "\n",
       "    .dataframe tbody tr th {\n",
       "        vertical-align: top;\n",
       "    }\n",
       "\n",
       "    .dataframe thead th {\n",
       "        text-align: right;\n",
       "    }\n",
       "</style>\n",
       "<table border=\"1\" class=\"dataframe\">\n",
       "  <thead>\n",
       "    <tr style=\"text-align: right;\">\n",
       "      <th></th>\n",
       "      <th>id</th>\n",
       "      <th>name</th>\n",
       "      <th>review_count</th>\n",
       "      <th>rating_average</th>\n",
       "      <th>price</th>\n",
       "      <th>description</th>\n",
       "      <th>category</th>\n",
       "      <th>category_name</th>\n",
       "    </tr>\n",
       "  </thead>\n",
       "  <tbody>\n",
       "    <tr>\n",
       "      <th>0</th>\n",
       "      <td>21299202</td>\n",
       "      <td>Cáp sạc và truyền dữ liệu tốc độ cao Baseus Ho...</td>\n",
       "      <td>216</td>\n",
       "      <td>4.5</td>\n",
       "      <td>67000</td>\n",
       "      <td>Hỗ trợ dòng lên đến 2.4 A , cho tốc độ sạc nha...</td>\n",
       "      <td>1815</td>\n",
       "      <td>Thiết Bị Số - Phụ Kiện Số/Phụ Kiện Điện Thoại ...</td>\n",
       "    </tr>\n",
       "    <tr>\n",
       "      <th>1</th>\n",
       "      <td>44105732</td>\n",
       "      <td>Dép sục unisex duet độn đế, chống trượt Litic ...</td>\n",
       "      <td>27</td>\n",
       "      <td>3.5</td>\n",
       "      <td>148500</td>\n",
       "      <td>Tiện lợi, bền đẹp, siêu nhẹ Độn đế tinh tế, kh...</td>\n",
       "      <td>914</td>\n",
       "      <td>Giày - Dép nữ/Giày lười nữ/Giày lười hở gót</td>\n",
       "    </tr>\n",
       "    <tr>\n",
       "      <th>2</th>\n",
       "      <td>54132740</td>\n",
       "      <td>bình thông hơi dành cho xe máy tặng bao tay xe...</td>\n",
       "      <td>4</td>\n",
       "      <td>4.5</td>\n",
       "      <td>199000</td>\n",
       "      <td>bình thông hơi dành cho xe máy tặng bao tay xe...</td>\n",
       "      <td>6061</td>\n",
       "      <td>Ô Tô - Xe Máy - Xe Đạp/Phụ kiện - Chăm sóc xe/...</td>\n",
       "    </tr>\n",
       "    <tr>\n",
       "      <th>3</th>\n",
       "      <td>65011722</td>\n",
       "      <td>Đồng Hồ Nam FNGEEN FE230  mặt đồng hồ tròn, th...</td>\n",
       "      <td>19</td>\n",
       "      <td>4.5</td>\n",
       "      <td>179000</td>\n",
       "      <td>Mặt đồng hồ tròn, thiết kế đẹp mắt, sáng bóng ...</td>\n",
       "      <td>914</td>\n",
       "      <td>Đồng hồ và Trang sức/Đồng hồ nam/Đồng hồ busin...</td>\n",
       "    </tr>\n",
       "    <tr>\n",
       "      <th>4</th>\n",
       "      <td>7995403</td>\n",
       "      <td>Giày Sneaker Unisex Converse Chuck Taylor All ...</td>\n",
       "      <td>19</td>\n",
       "      <td>5.0</td>\n",
       "      <td>1500000</td>\n",
       "      <td>Đường may vô cùng tỉ mỉ, tinh tế Chất vải canv...</td>\n",
       "      <td>49620</td>\n",
       "      <td>Giày - Dép nam/Giày thể thao nam/Giày thể thao...</td>\n",
       "    </tr>\n",
       "  </tbody>\n",
       "</table>\n",
       "</div>"
      ],
      "text/plain": [
       "         id                                               name  review_count  \\\n",
       "0  21299202  Cáp sạc và truyền dữ liệu tốc độ cao Baseus Ho...           216   \n",
       "1  44105732  Dép sục unisex duet độn đế, chống trượt Litic ...            27   \n",
       "2  54132740  bình thông hơi dành cho xe máy tặng bao tay xe...             4   \n",
       "3  65011722  Đồng Hồ Nam FNGEEN FE230  mặt đồng hồ tròn, th...            19   \n",
       "4   7995403  Giày Sneaker Unisex Converse Chuck Taylor All ...            19   \n",
       "\n",
       "   rating_average    price                                        description  \\\n",
       "0             4.5    67000  Hỗ trợ dòng lên đến 2.4 A , cho tốc độ sạc nha...   \n",
       "1             3.5   148500  Tiện lợi, bền đẹp, siêu nhẹ Độn đế tinh tế, kh...   \n",
       "2             4.5   199000  bình thông hơi dành cho xe máy tặng bao tay xe...   \n",
       "3             4.5   179000  Mặt đồng hồ tròn, thiết kế đẹp mắt, sáng bóng ...   \n",
       "4             5.0  1500000  Đường may vô cùng tỉ mỉ, tinh tế Chất vải canv...   \n",
       "\n",
       "   category                                      category_name  \n",
       "0      1815  Thiết Bị Số - Phụ Kiện Số/Phụ Kiện Điện Thoại ...  \n",
       "1       914        Giày - Dép nữ/Giày lười nữ/Giày lười hở gót  \n",
       "2      6061  Ô Tô - Xe Máy - Xe Đạp/Phụ kiện - Chăm sóc xe/...  \n",
       "3       914  Đồng hồ và Trang sức/Đồng hồ nam/Đồng hồ busin...  \n",
       "4     49620  Giày - Dép nam/Giày thể thao nam/Giày thể thao...  "
      ]
     },
     "execution_count": 12,
     "metadata": {},
     "output_type": "execute_result"
    }
   ],
   "source": [
    "import pandas as pd\n",
    "import numpy as np\n",
    "from pyvi import ViTokenizer\n",
    "import glob\n",
    "from collections import Counter\n",
    "from string import punctuation\n",
    "\n",
    "#Import data from the clean file \n",
    "product_df = pd.read_csv('product_info_clean.csv', index_col = 0)\n",
    "\n",
    "#Print the head of the cleaned DataFrame\n",
    "product_df.head()"
   ]
  },
  {
   "cell_type": "code",
   "execution_count": null,
   "metadata": {
    "executionInfo": {
     "elapsed": 42075,
     "status": "aborted",
     "timestamp": 1610547428411,
     "user": {
      "displayName": "K.T.G. Hiếu",
      "photoUrl": "https://lh3.googleusercontent.com/a-/AOh14GgS8y4OlJuJEmuIVXBNLZtqhvE-46zhMEPfvgVIkQ=s64",
      "userId": "17949550505612572826"
     },
     "user_tz": -420
    },
    "id": "uBVcoia48NQI"
   },
   "outputs": [],
   "source": [
    "stop_word = []\n",
    "with open(\"stop_word.txt\",encoding=\"utf-8\") as f:\n",
    "    text = f.read()\n",
    "    for word in text.split() :\n",
    "        stop_word.append(word)\n",
    "    f.close()\n",
    "punc = list(punctuation)\n",
    "stop_word = stop_word + punc\n",
    "print(stop_word)"
   ]
  },
  {
   "cell_type": "code",
   "execution_count": null,
   "metadata": {
    "executionInfo": {
     "elapsed": 42068,
     "status": "aborted",
     "timestamp": 1610547428412,
     "user": {
      "displayName": "K.T.G. Hiếu",
      "photoUrl": "https://lh3.googleusercontent.com/a-/AOh14GgS8y4OlJuJEmuIVXBNLZtqhvE-46zhMEPfvgVIkQ=s64",
      "userId": "17949550505612572826"
     },
     "user_tz": -420
    },
    "id": "orfNH_gY8NQJ"
   },
   "outputs": [],
   "source": [
    "def clean_text(text):\n",
    "    text_lower = text.lower()\n",
    "    text_token = ViTokenizer.tokenize(text_lower)\n",
    "    \n",
    "    sent = []\n",
    "    for word in text_token.split(\"_\\s\") :\n",
    "        if (word not in stop_word) :\n",
    "            if (\"_\" in word) or (word.isalpha() == True):\n",
    "                sent.append(word)\n",
    "    return \" \".join(sent)\n",
    "\n",
    "product_df['description_token'] = product_df['description'].apply(clean_text)\n",
    "product_df.head()"
   ]
  },
  {
   "cell_type": "code",
   "execution_count": null,
   "metadata": {
    "executionInfo": {
     "elapsed": 42058,
     "status": "aborted",
     "timestamp": 1610547428413,
     "user": {
      "displayName": "K.T.G. Hiếu",
      "photoUrl": "https://lh3.googleusercontent.com/a-/AOh14GgS8y4OlJuJEmuIVXBNLZtqhvE-46zhMEPfvgVIkQ=s64",
      "userId": "17949550505612572826"
     },
     "user_tz": -420
    },
    "id": "4hNq9e1J_Vua"
   },
   "outputs": [],
   "source": [
    "product_df['name'].iloc[3]"
   ]
  },
  {
   "cell_type": "code",
   "execution_count": null,
   "metadata": {
    "executionInfo": {
     "elapsed": 42052,
     "status": "aborted",
     "timestamp": 1610547428414,
     "user": {
      "displayName": "K.T.G. Hiếu",
      "photoUrl": "https://lh3.googleusercontent.com/a-/AOh14GgS8y4OlJuJEmuIVXBNLZtqhvE-46zhMEPfvgVIkQ=s64",
      "userId": "17949550505612572826"
     },
     "user_tz": -420
    },
    "id": "txdJiYLK8NQK"
   },
   "outputs": [],
   "source": [
    "#Import TfIdfVectorizer from the scikit-learn library\n",
    "from sklearn.feature_extraction.text import TfidfVectorizer\n",
    "\n",
    "#Define a TF-IDF Vectorizer Object. Remove all english stopwords\n",
    "tfidf = TfidfVectorizer(min_df=5,max_df= 0.8,max_features=3000,sublinear_tf=True)\n",
    "\n",
    "#Replace NaN with an empty string\n",
    "product_df['description_token'] = product_df['description_token'].fillna('')\n",
    "\n",
    "#Construct the required TF-IDF matrix by applying the fit_transform method on the description_token feature\n",
    "tfidf_matrix = tfidf.fit_transform(product_df['description_token'])\n",
    "\n",
    "#Output the shape of tfidf_matrix\n",
    "tfidf_matrix.shape"
   ]
  },
  {
   "cell_type": "code",
   "execution_count": null,
   "metadata": {
    "executionInfo": {
     "elapsed": 42043,
     "status": "aborted",
     "timestamp": 1610547428415,
     "user": {
      "displayName": "K.T.G. Hiếu",
      "photoUrl": "https://lh3.googleusercontent.com/a-/AOh14GgS8y4OlJuJEmuIVXBNLZtqhvE-46zhMEPfvgVIkQ=s64",
      "userId": "17949550505612572826"
     },
     "user_tz": -420
    },
    "id": "BmEN-DhX8NQK"
   },
   "outputs": [],
   "source": [
    "# Import linear_kernel to compute the dot product\n",
    "from sklearn.metrics.pairwise import linear_kernel\n",
    "\n",
    "# Compute the cosine similarity matrix\n",
    "cosine_sim = linear_kernel(tfidf_matrix, tfidf_matrix)"
   ]
  },
  {
   "cell_type": "code",
   "execution_count": null,
   "metadata": {
    "executionInfo": {
     "elapsed": 42039,
     "status": "aborted",
     "timestamp": 1610547428416,
     "user": {
      "displayName": "K.T.G. Hiếu",
      "photoUrl": "https://lh3.googleusercontent.com/a-/AOh14GgS8y4OlJuJEmuIVXBNLZtqhvE-46zhMEPfvgVIkQ=s64",
      "userId": "17949550505612572826"
     },
     "user_tz": -420
    },
    "id": "-DNsjYiK8NQL"
   },
   "outputs": [],
   "source": [
    "#Construct a reverse mapping of indices and product ids, and drop duplicate ids, if any\n",
    "indices = pd.Series(product_df.index, index=product_df['id']).drop_duplicates()"
   ]
  },
  {
   "cell_type": "code",
   "execution_count": null,
   "metadata": {
    "executionInfo": {
     "elapsed": 42033,
     "status": "aborted",
     "timestamp": 1610547428416,
     "user": {
      "displayName": "K.T.G. Hiếu",
      "photoUrl": "https://lh3.googleusercontent.com/a-/AOh14GgS8y4OlJuJEmuIVXBNLZtqhvE-46zhMEPfvgVIkQ=s64",
      "userId": "17949550505612572826"
     },
     "user_tz": -420
    },
    "id": "vvmW0DlL8NQM"
   },
   "outputs": [],
   "source": [
    "# Function that takes in product id as input and gives recommendations \n",
    "def content_recommender(id, cosine_sim=cosine_sim, product_df=product_df, indices=indices):\n",
    "    # Obtain the index of the product that matches the title\n",
    "    idx = indices[id]\n",
    "\n",
    "    # Get the pairwsie similarity scores of all products with that product\n",
    "    # And convert it into a list of tuples as described above\n",
    "    sim_scores = list(enumerate(cosine_sim[idx]))\n",
    "\n",
    "    # Sort the products based on the cosine similarity scores\n",
    "    sim_scores = sorted(sim_scores, key=lambda x: x[1], reverse=True)\n",
    "\n",
    "    # Get the scores of the 20 most similar products. Ignore the first product.\n",
    "    sim_scores = sim_scores[1:21]\n",
    "\n",
    "    # Get the product indices\n",
    "    product_indices = [i[0] for i in sim_scores]\n",
    "\n",
    "    # Return the top 20 most similar products\n",
    "    return product_df['name'].iloc[product_indices]"
   ]
  },
  {
   "cell_type": "code",
   "execution_count": null,
   "metadata": {
    "executionInfo": {
     "elapsed": 42028,
     "status": "aborted",
     "timestamp": 1610547428417,
     "user": {
      "displayName": "K.T.G. Hiếu",
      "photoUrl": "https://lh3.googleusercontent.com/a-/AOh14GgS8y4OlJuJEmuIVXBNLZtqhvE-46zhMEPfvgVIkQ=s64",
      "userId": "17949550505612572826"
     },
     "user_tz": -420
    },
    "id": "08SQK07m8NQM"
   },
   "outputs": [],
   "source": [
    "#Get recommendations for Đồng Hồ Nam FNGEEN FE230  mặt đồng hồ tròn, thiết kế đẹp mắt, sáng bóng với tính năng hiện đại cho phái mạnh tự tin, mạng mẽ và thời trang  Dây thép không gỉ thiết kế ôm tay \n",
    "donghonam_id = product_df[product_df['name'].str.find('Đồng Hồ Nam FNGEEN FE230  mặt đồng hồ tròn, thiết kế đẹp mắt, sáng bóng với tính năng hiện đại cho phái mạnh tự tin, mạng mẽ và thời trang  Dây thép không gỉ thiết kế ôm tay ') == 0]['id'].iloc[0]\n",
    "content_recommender(donghonam_id)"
   ]
  },
  {
   "cell_type": "code",
   "execution_count": null,
   "metadata": {
    "executionInfo": {
     "elapsed": 42021,
     "status": "aborted",
     "timestamp": 1610547428417,
     "user": {
      "displayName": "K.T.G. Hiếu",
      "photoUrl": "https://lh3.googleusercontent.com/a-/AOh14GgS8y4OlJuJEmuIVXBNLZtqhvE-46zhMEPfvgVIkQ=s64",
      "userId": "17949550505612572826"
     },
     "user_tz": -420
    },
    "id": "LFY-5SquAwE9"
   },
   "outputs": [],
   "source": [
    "import pickle\n",
    "def save_pickle(data, filename):\n",
    "    with open(filename, 'wb') as f:\n",
    "        pickle.dump(data, f)\n",
    "    print(\"Save file: \", filename)\n",
    "save_pickle(cosine_sim, 'cosine_sim.pkl')"
   ]
  },
  {
   "cell_type": "markdown",
   "metadata": {
    "id": "i663eSGXASrX"
   },
   "source": [
    "# Collaborative Filtering\n",
    "\n",
    "## The Framework"
   ]
  },
  {
   "cell_type": "code",
   "execution_count": 1,
   "metadata": {
    "executionInfo": {
     "elapsed": 2106,
     "status": "ok",
     "timestamp": 1610548623485,
     "user": {
      "displayName": "K.T.G. Hiếu",
      "photoUrl": "https://lh3.googleusercontent.com/a-/AOh14GgS8y4OlJuJEmuIVXBNLZtqhvE-46zhMEPfvgVIkQ=s64",
      "userId": "17949550505612572826"
     },
     "user_tz": -420
    },
    "id": "9bPU1ne_B6z0"
   },
   "outputs": [],
   "source": [
    "import pandas as pd\n",
    "import numpy as np"
   ]
  },
  {
   "cell_type": "code",
   "execution_count": 2,
   "metadata": {
    "colab": {
     "base_uri": "https://localhost:8080/",
     "height": 238
    },
    "executionInfo": {
     "elapsed": 11325,
     "status": "ok",
     "timestamp": 1610548632952,
     "user": {
      "displayName": "K.T.G. Hiếu",
      "photoUrl": "https://lh3.googleusercontent.com/a-/AOh14GgS8y4OlJuJEmuIVXBNLZtqhvE-46zhMEPfvgVIkQ=s64",
      "userId": "17949550505612572826"
     },
     "user_tz": -420
    },
    "id": "IrFsLZYSB8JK",
    "outputId": "abe5c793-b35e-4f15-b54a-9ad3354811a7"
   },
   "outputs": [
    {
     "name": "stderr",
     "output_type": "stream",
     "text": [
      "/home/ktgiahieu/env/ds/lib/python3.6/site-packages/numpy/lib/arraysetops.py:580: FutureWarning: elementwise comparison failed; returning scalar instead, but in the future will perform elementwise comparison\n",
      "  mask |= (ar1 == a)\n"
     ]
    },
    {
     "data": {
      "text/html": [
       "<div>\n",
       "<style scoped>\n",
       "    .dataframe tbody tr th:only-of-type {\n",
       "        vertical-align: middle;\n",
       "    }\n",
       "\n",
       "    .dataframe tbody tr th {\n",
       "        vertical-align: top;\n",
       "    }\n",
       "\n",
       "    .dataframe thead th {\n",
       "        text-align: right;\n",
       "    }\n",
       "</style>\n",
       "<table border=\"1\" class=\"dataframe\">\n",
       "  <thead>\n",
       "    <tr style=\"text-align: right;\">\n",
       "      <th></th>\n",
       "      <th>customer_id</th>\n",
       "      <th>product_id</th>\n",
       "      <th>rating</th>\n",
       "      <th>thank_count</th>\n",
       "      <th>title</th>\n",
       "      <th>content</th>\n",
       "      <th>created_at</th>\n",
       "      <th>purchase_at</th>\n",
       "      <th>customer_name</th>\n",
       "    </tr>\n",
       "  </thead>\n",
       "  <tbody>\n",
       "    <tr>\n",
       "      <th>0</th>\n",
       "      <td>5719606</td>\n",
       "      <td>21299202</td>\n",
       "      <td>5</td>\n",
       "      <td>6</td>\n",
       "      <td>Dây 2m, chất liệu của dây dù</td>\n",
       "      <td>Xài được khoảng 1 tuần thì có vẻ ổn. Dây dài 2...</td>\n",
       "      <td>2020-08-25 14:04:15</td>\n",
       "      <td>2020-07-01 13:22:12</td>\n",
       "      <td>Khách Hàng</td>\n",
       "    </tr>\n",
       "    <tr>\n",
       "      <th>1</th>\n",
       "      <td>11891537</td>\n",
       "      <td>21299202</td>\n",
       "      <td>1</td>\n",
       "      <td>19</td>\n",
       "      <td>PSK Dragon giao láo bố láo.</td>\n",
       "      <td>Đặt 3 sợi màu đỏ dài 2m , giao 2 sợi màu đen 2...</td>\n",
       "      <td>2020-08-12 11:41:41</td>\n",
       "      <td>2020-08-06 22:05:10</td>\n",
       "      <td>Trung Tung Tăng</td>\n",
       "    </tr>\n",
       "    <tr>\n",
       "      <th>2</th>\n",
       "      <td>7630980</td>\n",
       "      <td>21299202</td>\n",
       "      <td>4</td>\n",
       "      <td>0</td>\n",
       "      <td>Được</td>\n",
       "      <td>cảm nhận ban đầu thì dây rất cứng, \\ndây đúng ...</td>\n",
       "      <td>2020-09-04 11:15:21</td>\n",
       "      <td>2020-09-02 21:39:54</td>\n",
       "      <td>Nguyễn Tất Thắng</td>\n",
       "    </tr>\n",
       "    <tr>\n",
       "      <th>3</th>\n",
       "      <td>1242105</td>\n",
       "      <td>21299202</td>\n",
       "      <td>1</td>\n",
       "      <td>0</td>\n",
       "      <td>Rất không hài lòng</td>\n",
       "      <td>Chất lượng hoàn thiện kém, kích thước chân lig...</td>\n",
       "      <td>2020-08-15 14:19:43</td>\n",
       "      <td>2020-08-13 20:50:11</td>\n",
       "      <td>Doan Hiep</td>\n",
       "    </tr>\n",
       "    <tr>\n",
       "      <th>4</th>\n",
       "      <td>10815590</td>\n",
       "      <td>21299202</td>\n",
       "      <td>4</td>\n",
       "      <td>8</td>\n",
       "      <td>Ổn</td>\n",
       "      <td>Hoàn thiện khá tốt\\nNhưng tại sao dùng bút thử...</td>\n",
       "      <td>2020-03-08 13:23:01</td>\n",
       "      <td>2020-02-21 16:38:52</td>\n",
       "      <td>Hoàng việt hưng</td>\n",
       "    </tr>\n",
       "  </tbody>\n",
       "</table>\n",
       "</div>"
      ],
      "text/plain": [
       "   customer_id  product_id  rating  thank_count                         title  \\\n",
       "0      5719606    21299202       5            6  Dây 2m, chất liệu của dây dù   \n",
       "1     11891537    21299202       1           19   PSK Dragon giao láo bố láo.   \n",
       "2      7630980    21299202       4            0                          Được   \n",
       "3      1242105    21299202       1            0            Rất không hài lòng   \n",
       "4     10815590    21299202       4            8                            Ổn   \n",
       "\n",
       "                                             content           created_at  \\\n",
       "0  Xài được khoảng 1 tuần thì có vẻ ổn. Dây dài 2...  2020-08-25 14:04:15   \n",
       "1  Đặt 3 sợi màu đỏ dài 2m , giao 2 sợi màu đen 2...  2020-08-12 11:41:41   \n",
       "2  cảm nhận ban đầu thì dây rất cứng, \\ndây đúng ...  2020-09-04 11:15:21   \n",
       "3  Chất lượng hoàn thiện kém, kích thước chân lig...  2020-08-15 14:19:43   \n",
       "4  Hoàn thiện khá tốt\\nNhưng tại sao dùng bút thử...  2020-03-08 13:23:01   \n",
       "\n",
       "           purchase_at     customer_name  \n",
       "0  2020-07-01 13:22:12        Khách Hàng  \n",
       "1  2020-08-06 22:05:10   Trung Tung Tăng  \n",
       "2  2020-09-02 21:39:54  Nguyễn Tất Thắng  \n",
       "3  2020-08-13 20:50:11         Doan Hiep  \n",
       "4  2020-02-21 16:38:52   Hoàng việt hưng  "
      ]
     },
     "execution_count": 2,
     "metadata": {},
     "output_type": "execute_result"
    }
   ],
   "source": [
    "#Load the review file into a dataframe\n",
    "orig_ratings = pd.read_csv('product_review_clean.csv', index_col = 0)\n",
    "orig_ratings.head()"
   ]
  },
  {
   "cell_type": "code",
   "execution_count": 13,
   "metadata": {},
   "outputs": [],
   "source": [
    "ratings = orig_ratings.sample(n=10000, random_state =40)"
   ]
  },
  {
   "cell_type": "code",
   "execution_count": 14,
   "metadata": {
    "colab": {
     "base_uri": "https://localhost:8080/",
     "height": 204
    },
    "executionInfo": {
     "elapsed": 11080,
     "status": "ok",
     "timestamp": 1610548632953,
     "user": {
      "displayName": "K.T.G. Hiếu",
      "photoUrl": "https://lh3.googleusercontent.com/a-/AOh14GgS8y4OlJuJEmuIVXBNLZtqhvE-46zhMEPfvgVIkQ=s64",
      "userId": "17949550505612572826"
     },
     "user_tz": -420
    },
    "id": "Kbrmf_NCCXNF",
    "outputId": "9f51c747-be8a-4f0d-84c3-adf0486241b1"
   },
   "outputs": [
    {
     "data": {
      "text/html": [
       "<div>\n",
       "<style scoped>\n",
       "    .dataframe tbody tr th:only-of-type {\n",
       "        vertical-align: middle;\n",
       "    }\n",
       "\n",
       "    .dataframe tbody tr th {\n",
       "        vertical-align: top;\n",
       "    }\n",
       "\n",
       "    .dataframe thead th {\n",
       "        text-align: right;\n",
       "    }\n",
       "</style>\n",
       "<table border=\"1\" class=\"dataframe\">\n",
       "  <thead>\n",
       "    <tr style=\"text-align: right;\">\n",
       "      <th></th>\n",
       "      <th>customer_id</th>\n",
       "      <th>product_id</th>\n",
       "      <th>rating</th>\n",
       "    </tr>\n",
       "  </thead>\n",
       "  <tbody>\n",
       "    <tr>\n",
       "      <th>680634</th>\n",
       "      <td>5764785</td>\n",
       "      <td>63171394</td>\n",
       "      <td>5</td>\n",
       "    </tr>\n",
       "    <tr>\n",
       "      <th>156432</th>\n",
       "      <td>19028885</td>\n",
       "      <td>20585233</td>\n",
       "      <td>4</td>\n",
       "    </tr>\n",
       "    <tr>\n",
       "      <th>363368</th>\n",
       "      <td>5996665</td>\n",
       "      <td>9856777</td>\n",
       "      <td>5</td>\n",
       "    </tr>\n",
       "    <tr>\n",
       "      <th>629209</th>\n",
       "      <td>6767270</td>\n",
       "      <td>36626940</td>\n",
       "      <td>5</td>\n",
       "    </tr>\n",
       "    <tr>\n",
       "      <th>44921</th>\n",
       "      <td>7450531</td>\n",
       "      <td>557981</td>\n",
       "      <td>1</td>\n",
       "    </tr>\n",
       "  </tbody>\n",
       "</table>\n",
       "</div>"
      ],
      "text/plain": [
       "        customer_id  product_id  rating\n",
       "680634      5764785    63171394       5\n",
       "156432     19028885    20585233       4\n",
       "363368      5996665     9856777       5\n",
       "629209      6767270    36626940       5\n",
       "44921       7450531      557981       1"
      ]
     },
     "execution_count": 14,
     "metadata": {},
     "output_type": "execute_result"
    }
   ],
   "source": [
    "#Get the unnecessary column\n",
    "features = ['customer_id', 'product_id', 'rating']\n",
    "ratings  = ratings[features]\n",
    "ratings.head()"
   ]
  },
  {
   "cell_type": "code",
   "execution_count": 15,
   "metadata": {
    "executionInfo": {
     "elapsed": 10867,
     "status": "ok",
     "timestamp": 1610548632954,
     "user": {
      "displayName": "K.T.G. Hiếu",
      "photoUrl": "https://lh3.googleusercontent.com/a-/AOh14GgS8y4OlJuJEmuIVXBNLZtqhvE-46zhMEPfvgVIkQ=s64",
      "userId": "17949550505612572826"
     },
     "user_tz": -420
    },
    "id": "Hxdkw_PPDFFi"
   },
   "outputs": [],
   "source": [
    "#Import the train_test_split function\n",
    "from sklearn.model_selection import train_test_split\n",
    "\n",
    "#Assign X as the original ratings dataframe and y as the customer_id column of ratings.\n",
    "X = ratings.drop('rating', axis=1)\n",
    "y = ratings['rating']\n",
    "\n",
    "#Split into training and test datasets, stratified along customer_id\n",
    "X_train, X_test, y_train, y_test = train_test_split(X, y, test_size = 0.25, random_state=42)"
   ]
  },
  {
   "cell_type": "markdown",
   "metadata": {
    "id": "Xs2-q347F15Y"
   },
   "source": [
    "## Model Based Approaches"
   ]
  },
  {
   "cell_type": "code",
   "execution_count": 26,
   "metadata": {
    "colab": {
     "base_uri": "https://localhost:8080/"
    },
    "id": "FoELd5ceJr1-",
    "outputId": "ff883831-0ceb-45a1-f6aa-535265f8624a"
   },
   "outputs": [],
   "source": [
    "from sklearn.svm import SVR\n",
    "\n",
    "model = SVR(kernel='rbf').fit(X_train, y_train)"
   ]
  },
  {
   "cell_type": "code",
   "execution_count": 27,
   "metadata": {},
   "outputs": [
    {
     "data": {
      "text/plain": [
       "1.1026685663261666"
      ]
     },
     "execution_count": 27,
     "metadata": {},
     "output_type": "execute_result"
    }
   ],
   "source": [
    "from sklearn.metrics import mean_squared_error\n",
    "mean_squared_error(model.predict(X_test), y_test)"
   ]
  },
  {
   "cell_type": "markdown",
   "metadata": {},
   "source": [
    "The RMSE score is very good (close to 1)\n",
    "# Example usage: Recommend products for user "
   ]
  },
  {
   "cell_type": "code",
   "execution_count": 28,
   "metadata": {
    "id": "qg30tDXZKn1H"
   },
   "outputs": [],
   "source": [
    "def collaborative_recommender(customer_id):\n",
    "    #Compute the predicted ratings using the SVR filter\n",
    "    product_ids = product_df['id'].unique()\n",
    "    id_pairs = np.array([(customer_id, product_id) for product_id in product_ids])\n",
    "    ratings_est = model.predict(id_pairs)\n",
    "    products = pd.Series(ratings_est, index=product_ids)\n",
    "    #Sort the products in decreasing order of predicted rating\n",
    "    products = products.sort_values(ascending=False)\n",
    "    \n",
    "    #Return the top 10 products as recommendations\n",
    "    return product_df[product_df['id'].isin(products.head(10).index)]"
   ]
  },
  {
   "cell_type": "markdown",
   "metadata": {},
   "source": [
    "## User ID 1874401 : Nguyen Trung"
   ]
  },
  {
   "cell_type": "code",
   "execution_count": 51,
   "metadata": {},
   "outputs": [],
   "source": [
    "customer_id = 1874401"
   ]
  },
  {
   "cell_type": "markdown",
   "metadata": {},
   "source": [
    "Get customer name"
   ]
  },
  {
   "cell_type": "code",
   "execution_count": 52,
   "metadata": {},
   "outputs": [
    {
     "data": {
      "text/plain": [
       "customer_id           1874401\n",
       "customer_name    Nguyen Trung\n",
       "Name: 11, dtype: object"
      ]
     },
     "execution_count": 52,
     "metadata": {},
     "output_type": "execute_result"
    }
   ],
   "source": [
    "orig_ratings[orig_ratings['customer_id']==customer_id].iloc[0,[0,8]]"
   ]
  },
  {
   "cell_type": "markdown",
   "metadata": {},
   "source": [
    "### Previous bought products"
   ]
  },
  {
   "cell_type": "code",
   "execution_count": 53,
   "metadata": {},
   "outputs": [
    {
     "data": {
      "text/html": [
       "<div>\n",
       "<style scoped>\n",
       "    .dataframe tbody tr th:only-of-type {\n",
       "        vertical-align: middle;\n",
       "    }\n",
       "\n",
       "    .dataframe tbody tr th {\n",
       "        vertical-align: top;\n",
       "    }\n",
       "\n",
       "    .dataframe thead th {\n",
       "        text-align: right;\n",
       "    }\n",
       "</style>\n",
       "<table border=\"1\" class=\"dataframe\">\n",
       "  <thead>\n",
       "    <tr style=\"text-align: right;\">\n",
       "      <th></th>\n",
       "      <th>id</th>\n",
       "      <th>name</th>\n",
       "      <th>review_count</th>\n",
       "      <th>rating_average</th>\n",
       "      <th>price</th>\n",
       "      <th>description</th>\n",
       "      <th>category</th>\n",
       "      <th>category_name</th>\n",
       "    </tr>\n",
       "  </thead>\n",
       "  <tbody>\n",
       "    <tr>\n",
       "      <th>0</th>\n",
       "      <td>21299202</td>\n",
       "      <td>Cáp sạc và truyền dữ liệu tốc độ cao Baseus Ho...</td>\n",
       "      <td>216</td>\n",
       "      <td>4.5</td>\n",
       "      <td>67000</td>\n",
       "      <td>Hỗ trợ dòng lên đến 2.4 A , cho tốc độ sạc nha...</td>\n",
       "      <td>1815</td>\n",
       "      <td>Thiết Bị Số - Phụ Kiện Số/Phụ Kiện Điện Thoại ...</td>\n",
       "    </tr>\n",
       "    <tr>\n",
       "      <th>1392</th>\n",
       "      <td>10697849</td>\n",
       "      <td>TotoLink N150UA - USB Wi-Fi Chuẩn N 150Mbps - ...</td>\n",
       "      <td>32</td>\n",
       "      <td>4.5</td>\n",
       "      <td>111000</td>\n",
       "      <td>Tiêu chuẩn: IEEE 802.11 b/g/n Tốc độ 150Mbps K...</td>\n",
       "      <td>4294</td>\n",
       "      <td>Laptop - Máy Vi Tính - Linh kiện/Thiết Bị Mạng...</td>\n",
       "    </tr>\n",
       "    <tr>\n",
       "      <th>3607</th>\n",
       "      <td>6772415</td>\n",
       "      <td>Lò Nướng Điện Sunhouse SHD4206 (10L) - Hàng ch...</td>\n",
       "      <td>1069</td>\n",
       "      <td>4.5</td>\n",
       "      <td>359000</td>\n",
       "      <td>Dung tích: 10L Công suất: 800W Sản phẩm này có...</td>\n",
       "      <td>1882</td>\n",
       "      <td>Điện Gia Dụng/Đồ dùng nhà bếp/Lò nướng điện/Lò...</td>\n",
       "    </tr>\n",
       "    <tr>\n",
       "      <th>5828</th>\n",
       "      <td>356371</td>\n",
       "      <td>Ổ Cứng Di Động Transcend StoreJet M3S 1TB USB ...</td>\n",
       "      <td>138</td>\n",
       "      <td>4.5</td>\n",
       "      <td>1393500</td>\n",
       "      <td>Loại ổ cứng: ổ cứng di động Kết nối: USB 2.0/U...</td>\n",
       "      <td>1827</td>\n",
       "      <td>Laptop - Máy Vi Tính - Linh kiện/Thiết Bị Lưu ...</td>\n",
       "    </tr>\n",
       "    <tr>\n",
       "      <th>8253</th>\n",
       "      <td>19696906</td>\n",
       "      <td>Bộ 5 Dây Ngũ Sắc Đàn Hồi Tập Thể Hình, Tập Gym...</td>\n",
       "      <td>114</td>\n",
       "      <td>4.5</td>\n",
       "      <td>175000</td>\n",
       "      <td>Sản phẩm đa năng tập được tất cả các nhóm cơ M...</td>\n",
       "      <td>1975</td>\n",
       "      <td>Thể Thao - Dã Ngoại/Dụng cụ - thiết bị tập thể...</td>\n",
       "    </tr>\n",
       "  </tbody>\n",
       "</table>\n",
       "</div>"
      ],
      "text/plain": [
       "            id                                               name  \\\n",
       "0     21299202  Cáp sạc và truyền dữ liệu tốc độ cao Baseus Ho...   \n",
       "1392  10697849  TotoLink N150UA - USB Wi-Fi Chuẩn N 150Mbps - ...   \n",
       "3607   6772415  Lò Nướng Điện Sunhouse SHD4206 (10L) - Hàng ch...   \n",
       "5828    356371  Ổ Cứng Di Động Transcend StoreJet M3S 1TB USB ...   \n",
       "8253  19696906  Bộ 5 Dây Ngũ Sắc Đàn Hồi Tập Thể Hình, Tập Gym...   \n",
       "\n",
       "      review_count  rating_average    price  \\\n",
       "0              216             4.5    67000   \n",
       "1392            32             4.5   111000   \n",
       "3607          1069             4.5   359000   \n",
       "5828           138             4.5  1393500   \n",
       "8253           114             4.5   175000   \n",
       "\n",
       "                                            description  category  \\\n",
       "0     Hỗ trợ dòng lên đến 2.4 A , cho tốc độ sạc nha...      1815   \n",
       "1392  Tiêu chuẩn: IEEE 802.11 b/g/n Tốc độ 150Mbps K...      4294   \n",
       "3607  Dung tích: 10L Công suất: 800W Sản phẩm này có...      1882   \n",
       "5828  Loại ổ cứng: ổ cứng di động Kết nối: USB 2.0/U...      1827   \n",
       "8253  Sản phẩm đa năng tập được tất cả các nhóm cơ M...      1975   \n",
       "\n",
       "                                          category_name  \n",
       "0     Thiết Bị Số - Phụ Kiện Số/Phụ Kiện Điện Thoại ...  \n",
       "1392  Laptop - Máy Vi Tính - Linh kiện/Thiết Bị Mạng...  \n",
       "3607  Điện Gia Dụng/Đồ dùng nhà bếp/Lò nướng điện/Lò...  \n",
       "5828  Laptop - Máy Vi Tính - Linh kiện/Thiết Bị Lưu ...  \n",
       "8253  Thể Thao - Dã Ngoại/Dụng cụ - thiết bị tập thể...  "
      ]
     },
     "execution_count": 53,
     "metadata": {},
     "output_type": "execute_result"
    }
   ],
   "source": [
    "product_df[product_df['id'].isin(orig_ratings[orig_ratings['customer_id'] == customer_id]['product_id'])].head()"
   ]
  },
  {
   "cell_type": "markdown",
   "metadata": {},
   "source": [
    "### Recommended productscollaborative_recommender(customer_id)"
   ]
  },
  {
   "cell_type": "code",
   "execution_count": 54,
   "metadata": {
    "id": "4MVvWgvQI666"
   },
   "outputs": [
    {
     "data": {
      "text/html": [
       "<div>\n",
       "<style scoped>\n",
       "    .dataframe tbody tr th:only-of-type {\n",
       "        vertical-align: middle;\n",
       "    }\n",
       "\n",
       "    .dataframe tbody tr th {\n",
       "        vertical-align: top;\n",
       "    }\n",
       "\n",
       "    .dataframe thead th {\n",
       "        text-align: right;\n",
       "    }\n",
       "</style>\n",
       "<table border=\"1\" class=\"dataframe\">\n",
       "  <thead>\n",
       "    <tr style=\"text-align: right;\">\n",
       "      <th></th>\n",
       "      <th>id</th>\n",
       "      <th>name</th>\n",
       "      <th>review_count</th>\n",
       "      <th>rating_average</th>\n",
       "      <th>price</th>\n",
       "      <th>description</th>\n",
       "      <th>category</th>\n",
       "      <th>category_name</th>\n",
       "    </tr>\n",
       "  </thead>\n",
       "  <tbody>\n",
       "    <tr>\n",
       "      <th>6840</th>\n",
       "      <td>35355630</td>\n",
       "      <td>Dép nam, nữ xỏ ngón thời trang T334K</td>\n",
       "      <td>40</td>\n",
       "      <td>4.5</td>\n",
       "      <td>73000</td>\n",
       "      <td>Dép làm từ chất liệu cao su cao cấp, chắc chắn...</td>\n",
       "      <td>914</td>\n",
       "      <td>Giày - Dép nam/Dép nam/Dép nam xỏ ngón</td>\n",
       "    </tr>\n",
       "    <tr>\n",
       "      <th>6959</th>\n",
       "      <td>35355941</td>\n",
       "      <td>Dép nam, nữ quai ngang thời trang T335K</td>\n",
       "      <td>28</td>\n",
       "      <td>4.5</td>\n",
       "      <td>77000</td>\n",
       "      <td>Dép làm từ chất liệu xốp eva cao cấp, chắc chắ...</td>\n",
       "      <td>914</td>\n",
       "      <td>Giày - Dép nam/Dép nam/Dép nam quai ngang</td>\n",
       "    </tr>\n",
       "    <tr>\n",
       "      <th>7767</th>\n",
       "      <td>35358455</td>\n",
       "      <td>HealthFit – Gói tập 12 tháng tất cả các môn Yo...</td>\n",
       "      <td>0</td>\n",
       "      <td>0.0</td>\n",
       "      <td>2110000</td>\n",
       "      <td>TRẢI NGHIỆM CHƯƠNG TRÌNH HỌC PT GX (1 kèm 1) C...</td>\n",
       "      <td>11312</td>\n",
       "      <td>Voucher - Dịch vụ/Spa &amp; Làm đẹp/Phòng tập/GYM</td>\n",
       "    </tr>\n",
       "    <tr>\n",
       "      <th>9815</th>\n",
       "      <td>35364467</td>\n",
       "      <td>Cặp gài kính silicon chống rơi rớt tiện lợi</td>\n",
       "      <td>159</td>\n",
       "      <td>4.5</td>\n",
       "      <td>28000</td>\n",
       "      <td>Nhẹ và thoải mái. Dẻo bền. Có thể sử dụng hàng...</td>\n",
       "      <td>914</td>\n",
       "      <td>Phụ kiện thời trang/Mắt kính/Phụ kiện kính</td>\n",
       "    </tr>\n",
       "    <tr>\n",
       "      <th>10704</th>\n",
       "      <td>35367014</td>\n",
       "      <td>Thảm Tập YoGa, Gym miDoctor + Bao Thảm Tập Yog...</td>\n",
       "      <td>492</td>\n",
       "      <td>4.5</td>\n",
       "      <td>155000</td>\n",
       "      <td>Thảm Tập Yoga Chính Hãng miDoctor + Bao Thảm T...</td>\n",
       "      <td>1975</td>\n",
       "      <td>Thể Thao - Dã Ngoại/Các môn thể thao khác/Yoga...</td>\n",
       "    </tr>\n",
       "    <tr>\n",
       "      <th>11194</th>\n",
       "      <td>35368490</td>\n",
       "      <td>Chảo đáy từ vân đá chống dính GREEN COOK...</td>\n",
       "      <td>47</td>\n",
       "      <td>4.5</td>\n",
       "      <td>155000</td>\n",
       "      <td>Chống dính ưu việt Sử dụng được cho bếp...</td>\n",
       "      <td>1883</td>\n",
       "      <td>Nhà Cửa - Đời Sống/Dụng cụ nhà bếp/Dụng cụ nấu...</td>\n",
       "    </tr>\n",
       "    <tr>\n",
       "      <th>12662</th>\n",
       "      <td>35373097</td>\n",
       "      <td>Tai Nghe Bluetooth True Wireless AMOI F9 5.0 C...</td>\n",
       "      <td>58</td>\n",
       "      <td>3.5</td>\n",
       "      <td>165000</td>\n",
       "      <td>Tai nghe bluetooth AMOI F9 mang lại trải nghiệ...</td>\n",
       "      <td>1811</td>\n",
       "      <td>Thiết Bị Số - Phụ Kiện Số/Thiết Bị Âm Thanh và...</td>\n",
       "    </tr>\n",
       "    <tr>\n",
       "      <th>13093</th>\n",
       "      <td>35374344</td>\n",
       "      <td>Giày Thể Thao Nữ Sneaker Tăng Chiều Cao Độn Đế...</td>\n",
       "      <td>8</td>\n",
       "      <td>3.0</td>\n",
       "      <td>179000</td>\n",
       "      <td>Đế được làm bằng chất liệu cao su tổng ...</td>\n",
       "      <td>2</td>\n",
       "      <td>Giày - Dép nữ/Giày thể thao nữ/Giày thể thao c...</td>\n",
       "    </tr>\n",
       "    <tr>\n",
       "      <th>13149</th>\n",
       "      <td>35374545</td>\n",
       "      <td>Túi Đeo Chéo Nữ Túi Xách Tay Nữ Thời Trang Đôn...</td>\n",
       "      <td>3</td>\n",
       "      <td>3.0</td>\n",
       "      <td>99000</td>\n",
       "      <td>Chất liệu: PU Kiểu: họa tiết trơn Phong cách: ...</td>\n",
       "      <td>2</td>\n",
       "      <td>Túi thời trang nữ/Túi đeo chéo, túi đeo vai nữ...</td>\n",
       "    </tr>\n",
       "    <tr>\n",
       "      <th>13696</th>\n",
       "      <td>35376243</td>\n",
       "      <td>Cáp micro-USB sạc nhanh và truyền dữ liệu ZCC-...</td>\n",
       "      <td>75</td>\n",
       "      <td>4.5</td>\n",
       "      <td>29000</td>\n",
       "      <td>Cổng kết nối: micro-USB Cáp sạc nhanh (2.4A) v...</td>\n",
       "      <td>2</td>\n",
       "      <td>Thiết Bị Số - Phụ Kiện Số/Phụ Kiện Điện Thoại ...</td>\n",
       "    </tr>\n",
       "  </tbody>\n",
       "</table>\n",
       "</div>"
      ],
      "text/plain": [
       "             id                                               name  \\\n",
       "6840   35355630               Dép nam, nữ xỏ ngón thời trang T334K   \n",
       "6959   35355941            Dép nam, nữ quai ngang thời trang T335K   \n",
       "7767   35358455  HealthFit – Gói tập 12 tháng tất cả các môn Yo...   \n",
       "9815   35364467        Cặp gài kính silicon chống rơi rớt tiện lợi   \n",
       "10704  35367014  Thảm Tập YoGa, Gym miDoctor + Bao Thảm Tập Yog...   \n",
       "11194  35368490  Chảo đáy từ vân đá chống dính GREEN COOK...   \n",
       "12662  35373097  Tai Nghe Bluetooth True Wireless AMOI F9 5.0 C...   \n",
       "13093  35374344  Giày Thể Thao Nữ Sneaker Tăng Chiều Cao Độn Đế...   \n",
       "13149  35374545  Túi Đeo Chéo Nữ Túi Xách Tay Nữ Thời Trang Đôn...   \n",
       "13696  35376243  Cáp micro-USB sạc nhanh và truyền dữ liệu ZCC-...   \n",
       "\n",
       "       review_count  rating_average    price  \\\n",
       "6840             40             4.5    73000   \n",
       "6959             28             4.5    77000   \n",
       "7767              0             0.0  2110000   \n",
       "9815            159             4.5    28000   \n",
       "10704           492             4.5   155000   \n",
       "11194            47             4.5   155000   \n",
       "12662            58             3.5   165000   \n",
       "13093             8             3.0   179000   \n",
       "13149             3             3.0    99000   \n",
       "13696            75             4.5    29000   \n",
       "\n",
       "                                             description  category  \\\n",
       "6840   Dép làm từ chất liệu cao su cao cấp, chắc chắn...       914   \n",
       "6959   Dép làm từ chất liệu xốp eva cao cấp, chắc chắ...       914   \n",
       "7767   TRẢI NGHIỆM CHƯƠNG TRÌNH HỌC PT GX (1 kèm 1) C...     11312   \n",
       "9815   Nhẹ và thoải mái. Dẻo bền. Có thể sử dụng hàng...       914   \n",
       "10704  Thảm Tập Yoga Chính Hãng miDoctor + Bao Thảm T...      1975   \n",
       "11194  Chống dính ưu việt Sử dụng được cho bếp...      1883   \n",
       "12662  Tai nghe bluetooth AMOI F9 mang lại trải nghiệ...      1811   \n",
       "13093  Đế được làm bằng chất liệu cao su tổng ...         2   \n",
       "13149  Chất liệu: PU Kiểu: họa tiết trơn Phong cách: ...         2   \n",
       "13696  Cổng kết nối: micro-USB Cáp sạc nhanh (2.4A) v...         2   \n",
       "\n",
       "                                           category_name  \n",
       "6840              Giày - Dép nam/Dép nam/Dép nam xỏ ngón  \n",
       "6959           Giày - Dép nam/Dép nam/Dép nam quai ngang  \n",
       "7767       Voucher - Dịch vụ/Spa & Làm đẹp/Phòng tập/GYM  \n",
       "9815          Phụ kiện thời trang/Mắt kính/Phụ kiện kính  \n",
       "10704  Thể Thao - Dã Ngoại/Các môn thể thao khác/Yoga...  \n",
       "11194  Nhà Cửa - Đời Sống/Dụng cụ nhà bếp/Dụng cụ nấu...  \n",
       "12662  Thiết Bị Số - Phụ Kiện Số/Thiết Bị Âm Thanh và...  \n",
       "13093  Giày - Dép nữ/Giày thể thao nữ/Giày thể thao c...  \n",
       "13149  Túi thời trang nữ/Túi đeo chéo, túi đeo vai nữ...  \n",
       "13696  Thiết Bị Số - Phụ Kiện Số/Phụ Kiện Điện Thoại ...  "
      ]
     },
     "execution_count": 54,
     "metadata": {},
     "output_type": "execute_result"
    }
   ],
   "source": [
    "collaborative_recommender(customer_id)"
   ]
  },
  {
   "cell_type": "code",
   "execution_count": null,
   "metadata": {},
   "outputs": [],
   "source": []
  },
  {
   "cell_type": "code",
   "execution_count": null,
   "metadata": {},
   "outputs": [],
   "source": []
  }
 ],
 "metadata": {
  "colab": {
   "collapsed_sections": [],
   "name": "TikiRecommender.ipynb",
   "provenance": []
  },
  "kernelspec": {
   "display_name": "ds",
   "language": "python",
   "name": "ds"
  },
  "language_info": {
   "codemirror_mode": {
    "name": "ipython",
    "version": 3
   },
   "file_extension": ".py",
   "mimetype": "text/x-python",
   "name": "python",
   "nbconvert_exporter": "python",
   "pygments_lexer": "ipython3",
   "version": "3.6.9"
  }
 },
 "nbformat": 4,
 "nbformat_minor": 4
}
